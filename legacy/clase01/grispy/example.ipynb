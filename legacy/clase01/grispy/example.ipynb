{
 "cells": [
  {
   "cell_type": "code",
   "execution_count": 1,
   "metadata": {},
   "outputs": [
    {
     "name": "stdout",
     "output_type": "stream",
     "text": [
      "Requirement already satisfied: grispy in /home/martin/Documents/Projects/scisoft/lib/python3.8/site-packages (0.0.2)\n",
      "Requirement already satisfied: matplotlib in /home/martin/Documents/Projects/scisoft/lib/python3.8/site-packages (from grispy) (3.3.1)\n",
      "Requirement already satisfied: scipy in /home/martin/Documents/Projects/scisoft/lib/python3.8/site-packages (from grispy) (1.5.2)\n",
      "Requirement already satisfied: numpy in /home/martin/Documents/Projects/scisoft/lib/python3.8/site-packages (from grispy) (1.19.1)\n",
      "Requirement already satisfied: attrs in /home/martin/Documents/Projects/scisoft/lib/python3.8/site-packages (from grispy) (20.1.0)\n",
      "Requirement already satisfied: python-dateutil>=2.1 in /home/martin/Documents/Projects/scisoft/lib/python3.8/site-packages (from matplotlib->grispy) (2.8.1)\n",
      "Requirement already satisfied: kiwisolver>=1.0.1 in /home/martin/Documents/Projects/scisoft/lib/python3.8/site-packages (from matplotlib->grispy) (1.2.0)\n",
      "Requirement already satisfied: pyparsing!=2.0.4,!=2.1.2,!=2.1.6,>=2.0.3 in /home/martin/Documents/Projects/scisoft/lib/python3.8/site-packages (from matplotlib->grispy) (2.4.7)\n",
      "Requirement already satisfied: certifi>=2020.06.20 in /home/martin/Documents/Projects/scisoft/lib/python3.8/site-packages (from matplotlib->grispy) (2020.6.20)\n",
      "Requirement already satisfied: cycler>=0.10 in /home/martin/Documents/Projects/scisoft/lib/python3.8/site-packages (from matplotlib->grispy) (0.10.0)\n",
      "Requirement already satisfied: pillow>=6.2.0 in /home/martin/Documents/Projects/scisoft/lib/python3.8/site-packages (from matplotlib->grispy) (7.2.0)\n",
      "Requirement already satisfied: six>=1.5 in /home/martin/Documents/Projects/scisoft/lib/python3.8/site-packages (from python-dateutil>=2.1->matplotlib->grispy) (1.15.0)\n",
      "\u001b[33mWARNING: You are using pip version 20.1.1; however, version 20.2.2 is available.\n",
      "You should consider upgrading via the '/home/martin/Documents/Projects/scisoft/bin/python -m pip install --upgrade pip' command.\u001b[0m\n"
     ]
    }
   ],
   "source": [
    "!pip install grispy"
   ]
  },
  {
   "cell_type": "code",
   "execution_count": 2,
   "metadata": {},
   "outputs": [],
   "source": [
    "import numpy as np\n",
    "import matplotlib.pyplot as plt\n",
    "from grispy import GriSPy\n",
    "\n",
    "%matplotlib widget"
   ]
  },
  {
   "cell_type": "markdown",
   "metadata": {},
   "source": [
    "## Example 1. 2D Uniform Distribution\n",
    "This example generates a 2D random uniform distribution. \\\n",
    "Periodic conditions on y-axis, or axis=1. \\\n",
    "We search for neighbors within a given radius and n-nearest neighbors."
   ]
  },
  {
   "cell_type": "code",
   "execution_count": 3,
   "metadata": {},
   "outputs": [],
   "source": [
    "# Create random points and centres\n",
    "Npoints = 10_000\n",
    "Ncentres = 2\n",
    "dim = 2\n",
    "Lbox = 100.0\n",
    "\n",
    "np.random.seed(2)\n",
    "data = np.random.uniform(0, Lbox, size=(Npoints, dim))\n",
    "centres = np.random.uniform(0, Lbox, size=(Ncentres, dim))"
   ]
  },
  {
   "cell_type": "code",
   "execution_count": 4,
   "metadata": {},
   "outputs": [
    {
     "data": {
      "application/vnd.jupyter.widget-view+json": {
       "model_id": "dc6523a03d204e02ab9d6e32bb03daaf",
       "version_major": 2,
       "version_minor": 0
      },
      "text/plain": [
       "Canvas(toolbar=Toolbar(toolitems=[('Home', 'Reset original view', 'home', 'home'), ('Back', 'Back to previous …"
      ]
     },
     "metadata": {},
     "output_type": "display_data"
    }
   ],
   "source": [
    "plt.figure(figsize=(5, 5))\n",
    "plt.title(\"Random data\")\n",
    "plt.scatter(data[:, 0], data[:, 1], c=\"k\", marker=\".\", s=3)\n",
    "plt.plot(centres[:, 0], centres[: ,1], 'ro', ms=10)\n",
    "plt.show()"
   ]
  },
  {
   "cell_type": "code",
   "execution_count": 5,
   "metadata": {},
   "outputs": [],
   "source": [
    "# Grispy params\n",
    "upper_radii = 15.0\n",
    "lower_radii = 10.0\n",
    "n_nearest = 100\n",
    "periodic = {0: (0, Lbox), 1: (0, Lbox)}"
   ]
  },
  {
   "cell_type": "markdown",
   "metadata": {},
   "source": [
    "### Build the grid with your data"
   ]
  },
  {
   "cell_type": "code",
   "execution_count": 6,
   "metadata": {},
   "outputs": [
    {
     "name": "stdout",
     "output_type": "stream",
     "text": [
      "GriSPy(N_cells=20, periodic={0: (0, 100.0), 1: (0, 100.0)}, metric='euclid', copy_data=False)\n"
     ]
    }
   ],
   "source": [
    "gsp = GriSPy(data, periodic=periodic)\n",
    "print(gsp)"
   ]
  },
  {
   "cell_type": "markdown",
   "metadata": {},
   "source": [
    "### Query for neighbors and Plot"
   ]
  },
  {
   "cell_type": "code",
   "execution_count": 7,
   "metadata": {},
   "outputs": [],
   "source": [
    "# Query for neighbors within upper_radii\n",
    "bubble_dist, bubble_ind = gsp.bubble_neighbors(\n",
    "    centres, distance_upper_bound=upper_radii\n",
    ")\n",
    "\n",
    "# Query for neighbors in a shell within lower_radii and upper_radii\n",
    "shell_dist, shell_ind = gsp.shell_neighbors(\n",
    "    centres, distance_lower_bound=lower_radii, distance_upper_bound=upper_radii\n",
    ")\n",
    "\n",
    "# Query for nth nearest neighbors\n",
    "near_dist, near_ind = gsp.nearest_neighbors(centres, n=n_nearest)"
   ]
  },
  {
   "cell_type": "code",
   "execution_count": 10,
   "metadata": {},
   "outputs": [
    {
     "data": {
      "application/vnd.jupyter.widget-view+json": {
       "model_id": "94ebb8fd9d714f8cb3e242cd3442ae82",
       "version_major": 2,
       "version_minor": 0
      },
      "text/plain": [
       "Canvas(toolbar=Toolbar(toolitems=[('Home', 'Reset original view', 'home', 'home'), ('Back', 'Back to previous …"
      ]
     },
     "metadata": {},
     "output_type": "display_data"
    }
   ],
   "source": [
    "# Plot results\n",
    "plt.figure(figsize=(10,3.2))\n",
    "\n",
    "plt.subplot(1,3,1, aspect='equal')\n",
    "plt.title(\"Bubble query\")\n",
    "plt.scatter(data[:, 0], data[:, 1], c=\"k\", marker=\".\", s=3)\n",
    "for ind in bubble_ind:\n",
    "    plt.scatter(data[ind, 0], data[ind, 1], c=\"C4\", marker=\"o\", s=5)\n",
    "plt.plot(centres[:,0],centres[:,1],'ro',ms=10)\n",
    "\n",
    "plt.subplot(1,3,2, aspect='equal')\n",
    "plt.title(\"Shell query\")\n",
    "plt.scatter(data[:, 0], data[:, 1], c=\"k\", marker=\".\", s=2)\n",
    "for ind in shell_ind:\n",
    "    plt.scatter(data[ind, 0], data[ind, 1], c=\"C2\", marker=\"o\", s=5)\n",
    "plt.plot(centres[:,0],centres[:,1],'ro',ms=10)\n",
    "\n",
    "plt.subplot(1,3,3, aspect='equal')\n",
    "plt.title(\"n-Nearest query\")\n",
    "plt.scatter(data[:, 0], data[:, 1], c=\"k\", marker=\".\", s=2)\n",
    "for ind in near_ind:\n",
    "    plt.scatter(data[ind, 0], data[ind, 1], c=\"C0\", marker=\"o\", s=5)\n",
    "plt.plot(centres[:,0],centres[:,1],'ro',ms=10)\n",
    "\n",
    "plt.tight_layout()"
   ]
  },
  {
   "cell_type": "code",
   "execution_count": null,
   "metadata": {},
   "outputs": [],
   "source": []
  }
 ],
 "metadata": {
  "kernelspec": {
   "display_name": "Python 3",
   "language": "python",
   "name": "python3"
  },
  "language_info": {
   "codemirror_mode": {
    "name": "ipython",
    "version": 3
   },
   "file_extension": ".py",
   "mimetype": "text/x-python",
   "name": "python",
   "nbconvert_exporter": "python",
   "pygments_lexer": "ipython3",
   "version": "3.8.2"
  }
 },
 "nbformat": 4,
 "nbformat_minor": 4
}
