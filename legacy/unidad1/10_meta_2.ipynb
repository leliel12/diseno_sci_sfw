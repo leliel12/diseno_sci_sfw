{
 "cells": [
  {
   "cell_type": "markdown",
   "id": "d11654b9",
   "metadata": {
    "slideshow": {
     "slide_type": "slide"
    }
   },
   "source": [
    "## Metaclases \n",
    "\n",
    "> Problema: quiero validar que una clase \"modelo\" tenga definido un atributo \"nombre\" que tiene que ser un string, si no ecuentra el valor se lanza un error de atributo, si se encuentra se lo convierte a mayusculas."
   ]
  },
  {
   "cell_type": "code",
   "execution_count": null,
   "id": "077b6f47",
   "metadata": {
    "slideshow": {
     "slide_type": "slide"
    }
   },
   "outputs": [],
   "source": [
    "class Bien:\n",
    "    nombre = \"zaraza\"\n",
    "    \n",
    "class Mal: # no tiene nombre\n",
    "    ...\n",
    "    \n",
    "class ReMal: # nombre no es str\n",
    "    nombre = 1"
   ]
  },
  {
   "cell_type": "markdown",
   "id": "0568ea28",
   "metadata": {
    "slideshow": {
     "slide_type": "slide"
    }
   },
   "source": [
    "### Una funcion que valide"
   ]
  },
  {
   "cell_type": "code",
   "execution_count": null,
   "id": "4be6668d",
   "metadata": {},
   "outputs": [],
   "source": [
    "def validar_y_cambiar(cls):\n",
    "    members = vars(cls)\n",
    "    nombre = members.get(\"nombre\", None)\n",
    "    if nombre is None:\n",
    "        raise AttributeError(\"nombre no existe\")\n",
    "    if not isinstance(nombre, str):\n",
    "        raise TypeError(\"nombre no es str\")\n",
    "    cls.nombre = nombre.upper()"
   ]
  },
  {
   "cell_type": "code",
   "execution_count": null,
   "id": "a59194cd",
   "metadata": {},
   "outputs": [],
   "source": [
    "validar_y_cambiar(Bien)\n",
    "Bien.nombre"
   ]
  },
  {
   "cell_type": "code",
   "execution_count": null,
   "id": "0689cce0",
   "metadata": {},
   "outputs": [],
   "source": [
    "validar_y_cambiar(Mal)"
   ]
  },
  {
   "cell_type": "code",
   "execution_count": null,
   "id": "e68896ac",
   "metadata": {},
   "outputs": [],
   "source": [
    "validar_y_cambiar(ReMal)"
   ]
  },
  {
   "cell_type": "markdown",
   "id": "c72e08cd",
   "metadata": {
    "slideshow": {
     "slide_type": "slide"
    }
   },
   "source": [
    "### Aproach como decorador\n",
    "\n",
    "La idea es no tener las cosas dando vuelta por separado"
   ]
  },
  {
   "cell_type": "code",
   "execution_count": null,
   "id": "a0af05d1",
   "metadata": {},
   "outputs": [],
   "source": [
    "def validar_y_cambiar(cls):\n",
    "    members = dict(vars(cls))\n",
    "    nombre = members.get(\"nombre\", None)\n",
    "    if nombre is None:\n",
    "        raise AttributeError(\"nombre no existe\")\n",
    "    if not isinstance(nombre, str):\n",
    "        raise TypeError(\"nombre no es str\")\n",
    "    \n",
    "    members[\"nombre\"] = nombre.upper()\n",
    "    \n",
    "    cls_name = cls.__name__\n",
    "    cls_bases = cls.__mro__\n",
    "    \n",
    "    \n",
    "    return type(cls_name, cls_bases, members)"
   ]
  },
  {
   "cell_type": "code",
   "execution_count": null,
   "id": "7ab7e17f",
   "metadata": {},
   "outputs": [],
   "source": [
    "@validar_y_cambiar\n",
    "class Bien:\n",
    "    nombre = \"zaraza\""
   ]
  },
  {
   "cell_type": "code",
   "execution_count": null,
   "id": "6b543f1e",
   "metadata": {},
   "outputs": [],
   "source": [
    "@validar_y_cambiar\n",
    "class Mal: # no tiene nombre\n",
    "    ...\n"
   ]
  },
  {
   "cell_type": "code",
   "execution_count": null,
   "id": "dc9b66ba",
   "metadata": {
    "scrolled": true
   },
   "outputs": [],
   "source": [
    "@validar_y_cambiar\n",
    "class ReMal: # nombre no es str\n",
    "    nombre = 1"
   ]
  },
  {
   "cell_type": "markdown",
   "id": "26db5fa2",
   "metadata": {
    "slideshow": {
     "slide_type": "slide"
    }
   },
   "source": [
    "### Aproach de copiar la interfaz de type"
   ]
  },
  {
   "cell_type": "code",
   "execution_count": 34,
   "id": "10f2b70f",
   "metadata": {},
   "outputs": [],
   "source": [
    "def validar_y_cambiar(name, bases, members):\n",
    "    \n",
    "    nombre = members.get(\"nombre\", None)\n",
    "    if nombre is None:\n",
    "        raise AttributeError(\"nombre no existe\")\n",
    "    if not isinstance(nombre, str):\n",
    "        raise TypeError(\"nombre no es str\")\n",
    "    \n",
    "    members[\"nombre\"] = nombre.upper()\n",
    "    \n",
    "    return type(name, bases, members)"
   ]
  },
  {
   "cell_type": "code",
   "execution_count": 37,
   "id": "ac05f3eb",
   "metadata": {},
   "outputs": [],
   "source": [
    "class Bien(metaclass=validar_y_cambiar):\n",
    "    nombre = \"zaraza\""
   ]
  },
  {
   "cell_type": "code",
   "execution_count": 36,
   "id": "e9226762",
   "metadata": {},
   "outputs": [
    {
     "ename": "AttributeError",
     "evalue": "nombre no existe",
     "output_type": "error",
     "traceback": [
      "\u001b[0;31m---------------------------------------------------------------------------\u001b[0m",
      "\u001b[0;31mAttributeError\u001b[0m                            Traceback (most recent call last)",
      "\u001b[0;32m/tmp/ipykernel_59188/2867963571.py\u001b[0m in \u001b[0;36m<module>\u001b[0;34m\u001b[0m\n\u001b[0;32m----> 1\u001b[0;31m \u001b[0;32mclass\u001b[0m \u001b[0mMal\u001b[0m\u001b[0;34m(\u001b[0m\u001b[0mmetaclass\u001b[0m\u001b[0;34m=\u001b[0m\u001b[0mvalidar_y_cambiar\u001b[0m\u001b[0;34m)\u001b[0m\u001b[0;34m:\u001b[0m \u001b[0;31m# no tiene nombre\u001b[0m\u001b[0;34m\u001b[0m\u001b[0;34m\u001b[0m\u001b[0m\n\u001b[0m\u001b[1;32m      2\u001b[0m     \u001b[0;34m...\u001b[0m\u001b[0;34m\u001b[0m\u001b[0;34m\u001b[0m\u001b[0m\n",
      "\u001b[0;32m/tmp/ipykernel_59188/3664009759.py\u001b[0m in \u001b[0;36mvalidar_y_cambiar\u001b[0;34m(name, bases, members)\u001b[0m\n\u001b[1;32m      3\u001b[0m     \u001b[0mnombre\u001b[0m \u001b[0;34m=\u001b[0m \u001b[0mmembers\u001b[0m\u001b[0;34m.\u001b[0m\u001b[0mget\u001b[0m\u001b[0;34m(\u001b[0m\u001b[0;34m\"nombre\"\u001b[0m\u001b[0;34m,\u001b[0m \u001b[0;32mNone\u001b[0m\u001b[0;34m)\u001b[0m\u001b[0;34m\u001b[0m\u001b[0;34m\u001b[0m\u001b[0m\n\u001b[1;32m      4\u001b[0m     \u001b[0;32mif\u001b[0m \u001b[0mnombre\u001b[0m \u001b[0;32mis\u001b[0m \u001b[0;32mNone\u001b[0m\u001b[0;34m:\u001b[0m\u001b[0;34m\u001b[0m\u001b[0;34m\u001b[0m\u001b[0m\n\u001b[0;32m----> 5\u001b[0;31m         \u001b[0;32mraise\u001b[0m \u001b[0mAttributeError\u001b[0m\u001b[0;34m(\u001b[0m\u001b[0;34m\"nombre no existe\"\u001b[0m\u001b[0;34m)\u001b[0m\u001b[0;34m\u001b[0m\u001b[0;34m\u001b[0m\u001b[0m\n\u001b[0m\u001b[1;32m      6\u001b[0m     \u001b[0;32mif\u001b[0m \u001b[0;32mnot\u001b[0m \u001b[0misinstance\u001b[0m\u001b[0;34m(\u001b[0m\u001b[0mnombre\u001b[0m\u001b[0;34m,\u001b[0m \u001b[0mstr\u001b[0m\u001b[0;34m)\u001b[0m\u001b[0;34m:\u001b[0m\u001b[0;34m\u001b[0m\u001b[0;34m\u001b[0m\u001b[0m\n\u001b[1;32m      7\u001b[0m         \u001b[0;32mraise\u001b[0m \u001b[0mTypeError\u001b[0m\u001b[0;34m(\u001b[0m\u001b[0;34m\"nombre no es str\"\u001b[0m\u001b[0;34m)\u001b[0m\u001b[0;34m\u001b[0m\u001b[0;34m\u001b[0m\u001b[0m\n",
      "\u001b[0;31mAttributeError\u001b[0m: nombre no existe"
     ]
    }
   ],
   "source": [
    "class Mal(metaclass=validar_y_cambiar): # no tiene nombre\n",
    "    ..."
   ]
  },
  {
   "cell_type": "code",
   "execution_count": 38,
   "id": "aa1a9b4e",
   "metadata": {},
   "outputs": [
    {
     "ename": "TypeError",
     "evalue": "nombre no es str",
     "output_type": "error",
     "traceback": [
      "\u001b[0;31m---------------------------------------------------------------------------\u001b[0m",
      "\u001b[0;31mTypeError\u001b[0m                                 Traceback (most recent call last)",
      "\u001b[0;32m/tmp/ipykernel_59188/3781689690.py\u001b[0m in \u001b[0;36m<module>\u001b[0;34m\u001b[0m\n\u001b[0;32m----> 1\u001b[0;31m \u001b[0;32mclass\u001b[0m \u001b[0mReMal\u001b[0m\u001b[0;34m(\u001b[0m\u001b[0mmetaclass\u001b[0m\u001b[0;34m=\u001b[0m\u001b[0mvalidar_y_cambiar\u001b[0m\u001b[0;34m)\u001b[0m\u001b[0;34m:\u001b[0m \u001b[0;31m# nombre no es str\u001b[0m\u001b[0;34m\u001b[0m\u001b[0;34m\u001b[0m\u001b[0m\n\u001b[0m\u001b[1;32m      2\u001b[0m     \u001b[0mnombre\u001b[0m \u001b[0;34m=\u001b[0m \u001b[0;36m1\u001b[0m\u001b[0;34m\u001b[0m\u001b[0;34m\u001b[0m\u001b[0m\n",
      "\u001b[0;32m/tmp/ipykernel_59188/3664009759.py\u001b[0m in \u001b[0;36mvalidar_y_cambiar\u001b[0;34m(name, bases, members)\u001b[0m\n\u001b[1;32m      5\u001b[0m         \u001b[0;32mraise\u001b[0m \u001b[0mAttributeError\u001b[0m\u001b[0;34m(\u001b[0m\u001b[0;34m\"nombre no existe\"\u001b[0m\u001b[0;34m)\u001b[0m\u001b[0;34m\u001b[0m\u001b[0;34m\u001b[0m\u001b[0m\n\u001b[1;32m      6\u001b[0m     \u001b[0;32mif\u001b[0m \u001b[0;32mnot\u001b[0m \u001b[0misinstance\u001b[0m\u001b[0;34m(\u001b[0m\u001b[0mnombre\u001b[0m\u001b[0;34m,\u001b[0m \u001b[0mstr\u001b[0m\u001b[0;34m)\u001b[0m\u001b[0;34m:\u001b[0m\u001b[0;34m\u001b[0m\u001b[0;34m\u001b[0m\u001b[0m\n\u001b[0;32m----> 7\u001b[0;31m         \u001b[0;32mraise\u001b[0m \u001b[0mTypeError\u001b[0m\u001b[0;34m(\u001b[0m\u001b[0;34m\"nombre no es str\"\u001b[0m\u001b[0;34m)\u001b[0m\u001b[0;34m\u001b[0m\u001b[0;34m\u001b[0m\u001b[0m\n\u001b[0m\u001b[1;32m      8\u001b[0m \u001b[0;34m\u001b[0m\u001b[0m\n\u001b[1;32m      9\u001b[0m     \u001b[0mmembers\u001b[0m\u001b[0;34m[\u001b[0m\u001b[0;34m\"nombre\"\u001b[0m\u001b[0;34m]\u001b[0m \u001b[0;34m=\u001b[0m \u001b[0mnombre\u001b[0m\u001b[0;34m.\u001b[0m\u001b[0mupper\u001b[0m\u001b[0;34m(\u001b[0m\u001b[0;34m)\u001b[0m\u001b[0;34m\u001b[0m\u001b[0;34m\u001b[0m\u001b[0m\n",
      "\u001b[0;31mTypeError\u001b[0m: nombre no es str"
     ]
    }
   ],
   "source": [
    "class ReMal(metaclass=validar_y_cambiar): # nombre no es str\n",
    "    nombre = 1"
   ]
  },
  {
   "cell_type": "markdown",
   "id": "fe719646",
   "metadata": {
    "slideshow": {
     "slide_type": "slide"
    }
   },
   "source": [
    "### Herencia!"
   ]
  },
  {
   "cell_type": "code",
   "execution_count": 43,
   "id": "32b88802",
   "metadata": {},
   "outputs": [
    {
     "ename": "AttributeError",
     "evalue": "nombre no existe",
     "output_type": "error",
     "traceback": [
      "\u001b[0;31m---------------------------------------------------------------------------\u001b[0m",
      "\u001b[0;31mAttributeError\u001b[0m                            Traceback (most recent call last)",
      "\u001b[0;32m/tmp/ipykernel_59188/1276466761.py\u001b[0m in \u001b[0;36m<module>\u001b[0;34m\u001b[0m\n\u001b[1;32m      1\u001b[0m \u001b[0;31m# esto no anda si queremos hacer herencia de Validar y Cambiar\u001b[0m\u001b[0;34m\u001b[0m\u001b[0;34m\u001b[0m\u001b[0;34m\u001b[0m\u001b[0m\n\u001b[0;32m----> 2\u001b[0;31m \u001b[0;32mclass\u001b[0m \u001b[0mValidarYCambiar\u001b[0m\u001b[0;34m(\u001b[0m\u001b[0mmetaclass\u001b[0m\u001b[0;34m=\u001b[0m\u001b[0mvalidar_y_cambiar\u001b[0m\u001b[0;34m)\u001b[0m\u001b[0;34m:\u001b[0m\u001b[0;34m\u001b[0m\u001b[0;34m\u001b[0m\u001b[0m\n\u001b[0m\u001b[1;32m      3\u001b[0m     \u001b[0;32mpass\u001b[0m\u001b[0;34m\u001b[0m\u001b[0;34m\u001b[0m\u001b[0m\n",
      "\u001b[0;32m/tmp/ipykernel_59188/3664009759.py\u001b[0m in \u001b[0;36mvalidar_y_cambiar\u001b[0;34m(name, bases, members)\u001b[0m\n\u001b[1;32m      3\u001b[0m     \u001b[0mnombre\u001b[0m \u001b[0;34m=\u001b[0m \u001b[0mmembers\u001b[0m\u001b[0;34m.\u001b[0m\u001b[0mget\u001b[0m\u001b[0;34m(\u001b[0m\u001b[0;34m\"nombre\"\u001b[0m\u001b[0;34m,\u001b[0m \u001b[0;32mNone\u001b[0m\u001b[0;34m)\u001b[0m\u001b[0;34m\u001b[0m\u001b[0;34m\u001b[0m\u001b[0m\n\u001b[1;32m      4\u001b[0m     \u001b[0;32mif\u001b[0m \u001b[0mnombre\u001b[0m \u001b[0;32mis\u001b[0m \u001b[0;32mNone\u001b[0m\u001b[0;34m:\u001b[0m\u001b[0;34m\u001b[0m\u001b[0;34m\u001b[0m\u001b[0m\n\u001b[0;32m----> 5\u001b[0;31m         \u001b[0;32mraise\u001b[0m \u001b[0mAttributeError\u001b[0m\u001b[0;34m(\u001b[0m\u001b[0;34m\"nombre no existe\"\u001b[0m\u001b[0;34m)\u001b[0m\u001b[0;34m\u001b[0m\u001b[0;34m\u001b[0m\u001b[0m\n\u001b[0m\u001b[1;32m      6\u001b[0m     \u001b[0;32mif\u001b[0m \u001b[0;32mnot\u001b[0m \u001b[0misinstance\u001b[0m\u001b[0;34m(\u001b[0m\u001b[0mnombre\u001b[0m\u001b[0;34m,\u001b[0m \u001b[0mstr\u001b[0m\u001b[0;34m)\u001b[0m\u001b[0;34m:\u001b[0m\u001b[0;34m\u001b[0m\u001b[0;34m\u001b[0m\u001b[0m\n\u001b[1;32m      7\u001b[0m         \u001b[0;32mraise\u001b[0m \u001b[0mTypeError\u001b[0m\u001b[0;34m(\u001b[0m\u001b[0;34m\"nombre no es str\"\u001b[0m\u001b[0;34m)\u001b[0m\u001b[0;34m\u001b[0m\u001b[0;34m\u001b[0m\u001b[0m\n",
      "\u001b[0;31mAttributeError\u001b[0m: nombre no existe"
     ]
    }
   ],
   "source": [
    "# esto no anda si queremos hacer herencia de Validar y Cambiar\n",
    "class ValidarYCambiar(metaclass=validar_y_cambiar): \n",
    "    pass"
   ]
  },
  {
   "cell_type": "code",
   "execution_count": 85,
   "id": "99e7a3d4",
   "metadata": {},
   "outputs": [],
   "source": [
    "def validar_y_cambiar(name, bases, members):\n",
    "    print(\"validando!\")\n",
    "    nombre = members.get(\"nombre\", None)\n",
    "    \n",
    "    if not members.get(\"abstract\"):\n",
    "        if nombre is None:\n",
    "            raise AttributeError(\"nombre no existe\")\n",
    "        if not isinstance(nombre, str):\n",
    "            raise TypeError(\"nombre no es str\")\n",
    "\n",
    "        members[\"nombre\"] = nombre.upper()\n",
    "        members[\"metaclass\"] = validar_y_cambiar\n",
    "    \n",
    "    return type(name, bases, members)"
   ]
  },
  {
   "cell_type": "code",
   "execution_count": 86,
   "id": "277f475a",
   "metadata": {},
   "outputs": [
    {
     "name": "stdout",
     "output_type": "stream",
     "text": [
      "validando!\n"
     ]
    }
   ],
   "source": [
    "class ValidarYCambiar(metaclass=validar_y_cambiar): \n",
    "    abstract = True"
   ]
  },
  {
   "cell_type": "code",
   "execution_count": 87,
   "id": "de4a40ed",
   "metadata": {},
   "outputs": [
    {
     "ename": "AttributeError",
     "evalue": "type object 'Bien' has no attribute '__module_'",
     "output_type": "error",
     "traceback": [
      "\u001b[0;31m---------------------------------------------------------------------------\u001b[0m",
      "\u001b[0;31mAttributeError\u001b[0m                            Traceback (most recent call last)",
      "\u001b[0;32m/tmp/ipykernel_59188/79988022.py\u001b[0m in \u001b[0;36m<module>\u001b[0;34m\u001b[0m\n\u001b[0;32m----> 1\u001b[0;31m \u001b[0mBien\u001b[0m\u001b[0;34m.\u001b[0m\u001b[0m__module_\u001b[0m\u001b[0;34m\u001b[0m\u001b[0;34m\u001b[0m\u001b[0m\n\u001b[0m",
      "\u001b[0;31mAttributeError\u001b[0m: type object 'Bien' has no attribute '__module_'"
     ]
    }
   ],
   "source": [
    "Bien.__module_"
   ]
  },
  {
   "cell_type": "code",
   "execution_count": 75,
   "id": "cb60b7c0",
   "metadata": {},
   "outputs": [],
   "source": [
    "class Bien(ValidarYCambiar):\n",
    "    nombre = \"zaraza\"\n",
    "\n",
    "class Mal(ValidarYCambiar): \n",
    "    ...\n",
    "    \n",
    "class ReMal(ValidarYCambiar): # no tiene nombre\n",
    "    nombre = 1"
   ]
  },
  {
   "cell_type": "code",
   "execution_count": 79,
   "id": "e0ae2ba7",
   "metadata": {},
   "outputs": [],
   "source": [
    "import abc"
   ]
  },
  {
   "cell_type": "code",
   "execution_count": 81,
   "id": "46fab9e9",
   "metadata": {},
   "outputs": [],
   "source": [
    "class A(metaclass=abc.ABCMeta): ..."
   ]
  },
  {
   "cell_type": "code",
   "execution_count": null,
   "id": "03633a83",
   "metadata": {},
   "outputs": [],
   "source": []
  }
 ],
 "metadata": {
  "celltoolbar": "Slideshow",
  "kernelspec": {
   "display_name": "Python 3 (ipykernel)",
   "language": "python",
   "name": "python3"
  },
  "language_info": {
   "codemirror_mode": {
    "name": "ipython",
    "version": 3
   },
   "file_extension": ".py",
   "mimetype": "text/x-python",
   "name": "python",
   "nbconvert_exporter": "python",
   "pygments_lexer": "ipython3",
   "version": "3.10.4"
  }
 },
 "nbformat": 4,
 "nbformat_minor": 5
}
