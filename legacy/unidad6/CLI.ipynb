{
 "cells": [
  {
   "cell_type": "markdown",
   "metadata": {
    "slideshow": {
     "slide_type": "slide"
    }
   },
   "source": [
    "\n",
    "# Diseño de software para cómputo científico\n",
    "\n",
    "----\n",
    "\n",
    "## Unidad 6: Interfaces de línea de comandos\n"
   ]
  },
  {
   "cell_type": "markdown",
   "metadata": {
    "slideshow": {
     "slide_type": "slide"
    }
   },
   "source": [
    "## Referencias\n",
    "\n",
    "- https://docs.python.org/3/library/argparse.html\n",
    "- https://es.slideshare.net/tisto/argparse-python-command-line-parser\n",
    "- https://en.wikipedia.org/wiki/Command-line_interface\n"
   ]
  },
  {
   "cell_type": "markdown",
   "metadata": {
    "slideshow": {
     "slide_type": "slide"
    }
   },
   "source": [
    "## Estandar posix\n",
    "\n",
    "```bash \n",
    "$ ejecutable subcomando -or --opcion -k foo\n",
    "```\n",
    "\n",
    "- En sistemas tipo Unix, el guión comienza las opciones-\n",
    "- La convencion **GNU** es usar dos guiones y luego una palabra (por ejemplo, `--crear`) para identificar el uso de la opción\n",
    "- Mientras que la convención anterior (y aún disponible como una opción para las opciones de uso frecuente) es usar *un guión* y luego una letra (por ejemplo, `-c`).\n",
    "- Si un guión va seguido de dos o más letras, puede significar que se están especificando dos opciones (`-or`), o puede significar que la segunda letra y las siguientes son un parámetro (como nombre de archivo o fecha) para la primera opción.\n",
    "- Un doble-guión se usan para \"opciones largas\" donde se usan nombres de opciones más descriptivos. \n",
    "- Esta es una característica común del software GNU."
   ]
  },
  {
   "cell_type": "markdown",
   "metadata": {
    "slideshow": {
     "slide_type": "slide"
    }
   },
   "source": [
    "## `argparse`: analizador de opciones de línea de comandos, argumentos y subcomandos\n",
    "\n",
    "```bash\n",
    "python foo.py -a 1 --foo\n",
    "```\n",
    "\n",
    "- Los parámetros de un comando de python estan en `sys.argv`\n",
    "\n",
    "    ```python\n",
    "    >>> import sys\n",
    "    >>> sys.argv\n",
    "    [\"foo.py\", \"-a\", \"1\", \"--foo\"]\n",
    "    ```\n",
    "- El módulo `argparse` facilita la escritura de interfaces de línea de comandos. \n",
    "- El programa define qué argumentos requiere, y argparse descubrirá cómo analizarlos desde `sys.argv`. \n",
    "- El módulo argparse también genera automáticamente mensajes de ayuda y emite errores cuando los usuarios le dan argumentos inválidos al programa.\n",
    "    \n",
    "    "
   ]
  },
  {
   "cell_type": "markdown",
   "metadata": {
    "slideshow": {
     "slide_type": "slide"
    }
   },
   "source": [
    "## `argparse`: analizador de opciones de línea de comandos, argumentos y subcomandos\n",
    "\n",
    "```python\n",
    "# prog.py\n",
    "import argparse\n",
    "\n",
    "parser = argparse.ArgumentParser(description='Process some integers.')\n",
    "parser.add_argument('integers', metavar='N', type=int, nargs='+',\n",
    "                    help='an integer for the accumulator')\n",
    "parser.add_argument('--sum', dest='accumulate', action='store_const',\n",
    "                    const=sum, default=max,\n",
    "                    help='sum the integers (default: find the max)')\n",
    "\n",
    "args = parser.parse_args()\n",
    "print(args.accumulate(args.integers))\n",
    "```"
   ]
  },
  {
   "cell_type": "markdown",
   "metadata": {
    "slideshow": {
     "slide_type": "slide"
    }
   },
   "source": [
    "## `argparse`\n",
    "\n",
    "```bash\n",
    "$ python prog.py -h\n",
    "usage: prog.py [-h] [--sum] N [N ...]\n",
    "\n",
    "Process some integers.\n",
    "\n",
    "positional arguments:\n",
    " N           an integer for the accumulator\n",
    "\n",
    "optional arguments:\n",
    " -h, --help  show this help message and exit\n",
    " --sum       sum the integers (default: find the max)\n",
    "```"
   ]
  },
  {
   "cell_type": "markdown",
   "metadata": {
    "slideshow": {
     "slide_type": "slide"
    }
   },
   "source": [
    "## `argparse`\n",
    "\n",
    "```bash\n",
    "$ python prog.py 1 4 3 2\n",
    "4\n",
    "\n",
    "$ python prog.py 1 4 3 2 --sum\n",
    "10\n",
    "```"
   ]
  },
  {
   "cell_type": "markdown",
   "metadata": {
    "slideshow": {
     "slide_type": "slide"
    }
   },
   "source": [
    "## `argparse`\n",
    "\n",
    "```bash\n",
    "$ python prog.py a b c\n",
    "usage: prog.py [-h] [--sum] N [N ...]\n",
    "prog.py: error: argument N: invalid int value: 'a'\n",
    "```"
   ]
  },
  {
   "cell_type": "markdown",
   "metadata": {
    "slideshow": {
     "slide_type": "slide"
    }
   },
   "source": [
    "## Clase `argparse.ArgumentParser`\n",
    "\n",
    "Soporta, entre otros, los siguientes parámetros los cuales deben pasarse como keywords:\n",
    "\n",
    "- `prog` - El nombre del programa (default: sys.argv[0])\n",
    "- `usage` - Como usar el programa (default: generated from arguments added to parser)\n",
    "- `description` - Texto previo a la descripción de las ayudas (default: none)\n",
    "- `epilog` - Texto posterior a las ayudas (default: none)\n"
   ]
  },
  {
   "cell_type": "markdown",
   "metadata": {
    "slideshow": {
     "slide_type": "slide"
    }
   },
   "source": [
    "## `ArgumentParser.add_argument()`\n",
    "\n",
    "\n",
    "- `name` or `flags` - Ya sea un nombre o una lista de cadenas de opciones(`-f`, `--foo`).\n",
    "- `action` - Qué hacer con el parámetro (siguiente slide).\n",
    "- `nargs` - Número de argumentos que tienen que ser consumidos por el parámetro.\n",
    "- `const` - Una constante (aveces esto es requerido)\n",
    "- `default` - Valor por defecto si no es provisto ninguno.\n",
    "- `type` - Tipo de dato.\n",
    "- `choices` - Valores aceptados por el argumento.\n",
    "- `required` - Si es o no requerido (por defecto es `False`)\n",
    "- `help` - Una breve descripción de lo que hace el argumento.\n",
    "- `metavar` - Un nombre para el argumento en los mensajes de uso.\n",
    "- `dest` - El nombre del atributo que se agregará al objeto devuelto por `parse_args()`."
   ]
  },
  {
   "cell_type": "markdown",
   "metadata": {
    "slideshow": {
     "slide_type": "slide"
    }
   },
   "source": [
    "### `ArgumentParser.add_argument()` -- name or flags"
   ]
  },
  {
   "cell_type": "code",
   "execution_count": null,
   "metadata": {},
   "outputs": [],
   "source": [
    "import argparse\n",
    "\n",
    "parser = argparse.ArgumentParser(prog='PROG')\n",
    "parser.add_argument('-f', '--foo', dest=\"valor_de_foo\")\n",
    "parser.add_argument('bar')\n",
    "\n",
    "namespace = parser.parse_args([\"-f\", \"hola\", \"kjkj\"])\n",
    "namespace"
   ]
  },
  {
   "cell_type": "markdown",
   "metadata": {
    "slideshow": {
     "slide_type": "slide"
    }
   },
   "source": [
    "### `ArgumentParser.add_argument()` -- action \n",
    "\n",
    "#### `store`"
   ]
  },
  {
   "cell_type": "code",
   "execution_count": null,
   "metadata": {},
   "outputs": [],
   "source": [
    "parser = argparse.ArgumentParser()\n",
    "parser.add_argument('--foo', action=\"store\")\n",
    "\n",
    "parser.parse_args(['--foo', '1'])"
   ]
  },
  {
   "cell_type": "code",
   "execution_count": null,
   "metadata": {},
   "outputs": [],
   "source": [
    "parser = argparse.ArgumentParser()\n",
    "parser.add_argument('--foo', action='store_const', const=42)\n",
    "\n",
    "parser.parse_args(['--foo'])"
   ]
  },
  {
   "cell_type": "markdown",
   "metadata": {
    "slideshow": {
     "slide_type": "slide"
    }
   },
   "source": [
    "### `ArgumentParser.add_argument()` -- action \n",
    "\n",
    "#### `store_true` and `store_false`"
   ]
  },
  {
   "cell_type": "code",
   "execution_count": null,
   "metadata": {},
   "outputs": [],
   "source": [
    "parser = argparse.ArgumentParser()\n",
    "parser.add_argument('--foo', action='store_true')  # si se recibe, almacena True, sino lo contrario\n",
    "parser.add_argument('--bar', action='store_false') # si se recibe, almacena False, sino lo contrario\n",
    "parser.add_argument('--baz', action='store_false') # si se recibe, almacena False, sino lo contrario\n",
    "\n",
    "parser.parse_args(['--foo', '--bar']) "
   ]
  },
  {
   "cell_type": "markdown",
   "metadata": {
    "slideshow": {
     "slide_type": "fragment"
    }
   },
   "source": [
    "####  `append`"
   ]
  },
  {
   "cell_type": "code",
   "execution_count": null,
   "metadata": {},
   "outputs": [],
   "source": [
    "import numpy as np\n",
    "parser = argparse.ArgumentParser()\n",
    "parser.add_argument('--foo', action='append', type=float)\n",
    "\n",
    "num = parser.parse_args('--foo 1 --foo 2'.split())\n",
    "np.array(num.foo)"
   ]
  },
  {
   "cell_type": "markdown",
   "metadata": {
    "slideshow": {
     "slide_type": "slide"
    }
   },
   "source": [
    "### `ArgumentParser.add_argument()` -- action \n",
    "\n",
    "#### `append_const`"
   ]
  },
  {
   "cell_type": "code",
   "execution_count": null,
   "metadata": {},
   "outputs": [],
   "source": [
    "parser = argparse.ArgumentParser()\n",
    "parser.add_argument('--str', dest='types', action='append_const', const=str)\n",
    "parser.add_argument('--int', dest='types', action='append_const', const=int)\n",
    "\n",
    "parser.parse_args('--str --int'.split())"
   ]
  },
  {
   "cell_type": "markdown",
   "metadata": {
    "slideshow": {
     "slide_type": "fragment"
    }
   },
   "source": [
    "####  `count`"
   ]
  },
  {
   "cell_type": "code",
   "execution_count": null,
   "metadata": {},
   "outputs": [],
   "source": [
    "parser = argparse.ArgumentParser()\n",
    "parser.add_argument('--verbose', '-v', action='count')\n",
    "parser.parse_args(['-vvv'])"
   ]
  },
  {
   "cell_type": "markdown",
   "metadata": {
    "slideshow": {
     "slide_type": "slide"
    }
   },
   "source": [
    "### `ArgumentParser.add_argument()` -- type\n",
    "\n",
    "- Por defecto, los objetos ArgumentParser leen los argumentos de la línea de comandos como `str`. \n",
    "- Sin embargo, con bastante frecuencia, la cadena de línea de comandos debe interpretarse como otro tipo, como float o int."
   ]
  },
  {
   "cell_type": "code",
   "execution_count": null,
   "metadata": {},
   "outputs": [],
   "source": [
    "parser = argparse.ArgumentParser()\n",
    "parser.add_argument('foo', type=int)\n",
    "parser.add_argument('bar', type=float)\n",
    "parser.parse_args('2 35.58'.split())"
   ]
  },
  {
   "cell_type": "markdown",
   "metadata": {
    "slideshow": {
     "slide_type": "fragment"
    }
   },
   "source": [
    "Para facilitar el uso de varios tipos de archivos, el módulo argparse proporciona el FileType"
   ]
  },
  {
   "cell_type": "code",
   "execution_count": null,
   "metadata": {},
   "outputs": [],
   "source": [
    "parser = argparse.ArgumentParser()\n",
    "parser.add_argument('bar', type=argparse.FileType('w'))\n",
    "\n",
    "parser.parse_args(['out.txt'])"
   ]
  },
  {
   "cell_type": "markdown",
   "metadata": {
    "slideshow": {
     "slide_type": "slide"
    }
   },
   "source": [
    "## Subcomandos\n",
    "\n",
    "- Muchos programas dividen su funcionalidad en varios subcomandos, por ejemplo, el programa **git** puede invocar subcomandos como `git push`, `git commit` o `git pull`\n",
    "- Dividir la funcionalidad de esta manera puede ser una idea particularmente buena cuando un programa realiza varias funciones diferentes que requieren diferentes tipos de argumentos de línea de comandos."
   ]
  },
  {
   "cell_type": "code",
   "execution_count": null,
   "metadata": {},
   "outputs": [],
   "source": [
    "# create the top-level parser\n",
    "parser = argparse.ArgumentParser(prog='PROG')\n",
    "parser.add_argument('--foo', action='store_true', help='foo help')\n",
    "\n",
    "subparsers = parser.add_subparsers(help='sub-command help')\n",
    "\n",
    "# create the parser for the \"clone\" command\n",
    "parser_clone = subparsers.add_parser('clone', help='clone help')\n",
    "parser_clone.add_argument('bar', type=int, help='bar help')\n",
    "\n",
    "# create the parser for the \"commit\" command\n",
    "parser_commit = subparsers.add_parser('commit', help='commit help')\n",
    "parser_commit.add_argument('--baz', choices='XYZ', help='baz help');"
   ]
  },
  {
   "cell_type": "code",
   "execution_count": null,
   "metadata": {
    "slideshow": {
     "slide_type": "fragment"
    }
   },
   "outputs": [],
   "source": [
    "parser.parse_args(['clone', '12'])"
   ]
  },
  {
   "cell_type": "code",
   "execution_count": null,
   "metadata": {
    "slideshow": {
     "slide_type": "fragment"
    }
   },
   "outputs": [],
   "source": [
    "parser.parse_args(['--foo', 'commit', '--baz', 'Z'])"
   ]
  },
  {
   "attachments": {
    "typer.png": {
     "image/png": "[encoded data removed]"
    }
   },
   "cell_type": "markdown",
   "metadata": {
    "slideshow": {
     "slide_type": "slide"
    }
   },
   "source": [
    "# Typer: Simplifica el desarrollo de una CLI\n",
    "![typer.png](attachment:typer.png)\n",
    "\n",
    "Referencia: https://pythonrepo.com/repo/tiangolo-typer-python-command-line-interface-development"
   ]
  },
  {
   "cell_type": "code",
   "execution_count": null,
   "metadata": {
    "slideshow": {
     "slide_type": "-"
    }
   },
   "outputs": [],
   "source": [
    "!pip install typer"
   ]
  },
  {
   "cell_type": "markdown",
   "metadata": {
    "slideshow": {
     "slide_type": "slide"
    }
   },
   "source": [
    "## Typer: Ejemplo mínimo\n",
    "Aprovecha la notación de tipos de python para construir los argumentos.\n",
    "\n",
    "```python\n",
    "# main.py\n",
    "import typer\n",
    "\n",
    "def main(name: str):\n",
    "    typer.echo(f\"Hello {name}\")\n",
    "\n",
    "if __name__ == \"__main__\":\n",
    "    typer.run(main)\n",
    "```"
   ]
  },
  {
   "cell_type": "code",
   "execution_count": null,
   "metadata": {
    "slideshow": {
     "slide_type": "fragment"
    }
   },
   "outputs": [],
   "source": [
    "!python cli/main.py --help"
   ]
  },
  {
   "cell_type": "markdown",
   "metadata": {
    "slideshow": {
     "slide_type": "slide"
    }
   },
   "source": [
    "## Typer: Ejemplo con comandos\n",
    "Veamos un ejemplo más interesante con subcomandos\n",
    "```python\n",
    "# main2.py\n",
    "import typer\n",
    "\n",
    "app = typer.Typer()\n",
    "\n",
    "@app.command()\n",
    "def hello(name: str):\n",
    "    typer.echo(f\"Hello {name}\")\n",
    "\n",
    "@app.command()\n",
    "def goodbye(name: str, formal: bool = False):\n",
    "    if formal:\n",
    "        typer.echo(f\"Goodbye Ms. {name}. Have a good day.\")\n",
    "    else:\n",
    "        typer.echo(f\"Bye {name}!\")\n",
    "\n",
    "if __name__ == \"__main__\":\n",
    "    app()\n",
    "```"
   ]
  },
  {
   "cell_type": "code",
   "execution_count": null,
   "metadata": {
    "slideshow": {
     "slide_type": "fragment"
    }
   },
   "outputs": [],
   "source": [
    "!python cli/main2.py --help"
   ]
  },
  {
   "cell_type": "markdown",
   "metadata": {
    "slideshow": {
     "slide_type": "slide"
    }
   },
   "source": [
    "## Typer: Ejemplo IRL\n",
    "\n",
    "Carpyncho ofrece una CLI basada en `typer`: \n",
    "https://github.com/carpyncho/carpyncho-py/blob/master/carpyncho.py"
   ]
  },
  {
   "cell_type": "code",
   "execution_count": null,
   "metadata": {},
   "outputs": [],
   "source": [
    "!carpyncho --help"
   ]
  }
 ],
 "metadata": {
  "celltoolbar": "Slideshow",
  "kernelspec": {
   "display_name": "Python 3",
   "language": "python",
   "name": "python3"
  },
  "language_info": {
   "codemirror_mode": {
    "name": "ipython",
    "version": 3
   },
   "file_extension": ".py",
   "mimetype": "text/x-python",
   "name": "python",
   "nbconvert_exporter": "python",
   "pygments_lexer": "ipython3",
   "version": "3.9.7"
  }
 },
 "nbformat": 4,
 "nbformat_minor": 2
}
