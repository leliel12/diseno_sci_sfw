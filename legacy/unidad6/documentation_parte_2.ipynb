{
 "cells": [
  {
   "cell_type": "markdown",
   "metadata": {
    "slideshow": {
     "slide_type": "slide"
    }
   },
   "source": [
    "\n",
    "# Diseño de software para cómputo científico\n",
    "\n",
    "----\n",
    "\n",
    "## Unidad 6: Documentación (2/2)\n"
   ]
  },
  {
   "cell_type": "markdown",
   "metadata": {
    "slideshow": {
     "slide_type": "slide"
    }
   },
   "source": [
    "# Sphinx\n",
    "\n",
    "La herramienta **Sphinx** nos permite construir automáticamente una documentación amigable para el usuario. Toma todos los docstrings definidos en nuestro proyecto, los convierte en archivos con formato RST (reStructuredText) y genera una página HTML para que luego despleguemos en algún servidor, como [Read The Docs](https://readthedocs.org/).\n",
    "\n",
    "**IMPORTANTE:** Para que finalmente su página de documentación quede presentable, van a tener que modificar/agregar detalles a los archivos .rst. Este es un formato de marcado similar a Markdown (formato .md) aunque ofrece más versatilidad."
   ]
  },
  {
   "cell_type": "markdown",
   "metadata": {
    "slideshow": {
     "slide_type": "slide"
    }
   },
   "source": [
    "## Como usar sphinx\n",
    "Probablemente necesiten instalar la dependencia `pandoc`.\n",
    "\n",
    "```bash\n",
    "$ sudo apt-get install pandoc\n",
    "$ pip install sphinx\n",
    "$ mkdir docs\n",
    "$ cd docs\n",
    "$ sphinx-quickstart --help\n",
    "$ sphinx-quickstart\n",
    "```\n",
    "- Editar el `conf.py`, seccion Path setup para que el path apunte un nivel atras, `'..'`. \n",
    "También agreguen como mínimo la extensión de autodoc: `extensions = ['sphinx.ext.autodoc']`"
   ]
  },
  {
   "cell_type": "markdown",
   "metadata": {
    "slideshow": {
     "slide_type": "slide"
    }
   },
   "source": [
    "## Como usar sphinx\n",
    "\n",
    "```bash\n",
    "$ sphinx-apidoc <SOURCE_DIR> -o source/\n",
    "```\n",
    "SOURCE_DIR debe ser el path a su proyecto, yo lo tengo en `../proyectox/`\n",
    "- Entrar a source/ y editar todo para que quede como corresponda.\n",
    "- Ejecutar `$ make html`. El build se crea en `build/html/index.html`\n",
    "\n",
    "- Finalmente crear un ``docs/requirements.txt`` propio para la documentación."
   ]
  },
  {
   "cell_type": "markdown",
   "metadata": {
    "slideshow": {
     "slide_type": "fragment"
    }
   },
   "source": [
    "Ejemplo de `docs/requirements.txt`\n",
    "```\n",
    "ipykernel\n",
    "Sphinx\n",
    "sphinx-rtd-theme\n",
    "nbsphinx\n",
    "```"
   ]
  },
  {
   "cell_type": "markdown",
   "metadata": {
    "slideshow": {
     "slide_type": "slide"
    }
   },
   "source": [
    "## Testeamos el build en Tox\n",
    "\n",
    "```ini\n",
    "[testenv:docs]\n",
    "description = \"Invoke sphinx-build to build the HTML docs\"\n",
    "whitelist_externals = make\n",
    "usedevelop = True\n",
    "skip_install = False\n",
    "changedir = docs\n",
    "deps = -r {toxinidir}/docs/requirements.txt\n",
    "commands = sphinx-build -W -b html -d {envtmpdir}/doctrees source {envtmpdir}/html\n",
    "```"
   ]
  },
  {
   "cell_type": "markdown",
   "metadata": {
    "slideshow": {
     "slide_type": "slide"
    }
   },
   "source": [
    "## Agregamos la dependencia `pandoc` a CI\n",
    "\n",
    "```\n",
    "...\n",
    "    - name: Install pandoc\n",
    "      run: sudo apt-get install pandoc\n",
    "    - name: Install tox\n",
    "      run: pip install tox tox-gh-actions\n",
    "...\n",
    "```"
   ]
  },
  {
   "cell_type": "markdown",
   "metadata": {
    "slideshow": {
     "slide_type": "slide"
    }
   },
   "source": [
    "## Referencias\n",
    "\n",
    "- Tutorial: https://samnicholls.net/2016/06/15/how-to-sphinx-readthedocs/\n",
    "\n",
    "- Slides: https://speakerd.s3.amazonaws.com/presentations/2a01201503494a46b449087a0069ac06/Introduction_to_Sphinx_and_Read_the_Docs.pdf"
   ]
  }
 ],
 "metadata": {
  "celltoolbar": "Slideshow",
  "kernelspec": {
   "display_name": "Python 3",
   "language": "python",
   "name": "python3"
  },
  "language_info": {
   "codemirror_mode": {
    "name": "ipython",
    "version": 3
   },
   "file_extension": ".py",
   "mimetype": "text/x-python",
   "name": "python",
   "nbconvert_exporter": "python",
   "pygments_lexer": "ipython3",
   "version": "3.9.7"
  }
 },
 "nbformat": 4,
 "nbformat_minor": 2
}
