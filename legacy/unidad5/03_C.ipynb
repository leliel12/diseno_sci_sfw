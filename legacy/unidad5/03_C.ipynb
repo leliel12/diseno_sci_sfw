{
 "cells": [
  {
   "cell_type": "markdown",
   "metadata": {
    "slideshow": {
     "slide_type": "slide"
    }
   },
   "source": [
    "\n",
    "# Diseño de software para cómputo científico\n",
    "\n",
    "----\n",
    "\n",
    "## Unidad 5: Integración con lenguajes de alto nivel con bajo nivel.\n"
   ]
  },
  {
   "cell_type": "markdown",
   "metadata": {
    "slideshow": {
     "slide_type": "slide"
    }
   },
   "source": [
    "## Agenda de la Unidad 5\n",
    "\n",
    "- JIT (Numba)\n",
    "- Cython.\n",
    "- Integración de Python con FORTRAN.\n",
    "- **Integración de Python con C.**\n"
   ]
  },
  {
   "cell_type": "markdown",
   "metadata": {
    "slideshow": {
     "slide_type": "slide"
    }
   },
   "source": [
    "## Ctypes\n",
    "\n",
    "- Permite usar bibliotecas existentes en otros lenguajes escribiendo envoltorios **simples** en Python.\n",
    "- Viene con Python.\n",
    "- Puede ser un poco **Dificil** de usar.\n",
    "- Es una herramienta ideal para romper Python"
   ]
  },
  {
   "cell_type": "markdown",
   "metadata": {
    "slideshow": {
     "slide_type": "slide"
    }
   },
   "source": [
    "### Ejemplo para Ctypes 1/2\n",
    "\n",
    "El código C que usaremos en este tutorial está diseñado para ser lo más simple posible mientras demuestra los conceptos que estamos cubriendo. Es más un \"ejemplo de juguete\" y no pretende ser útil por sí solo. Estas son las funciones que utilizaremos:\n",
    "\n",
    "```c\n",
    "int simple_function(void) {\n",
    "    static int counter = 0;\n",
    "    counter++;\n",
    "    return counter;\n",
    "}\n",
    "```\n",
    "\n",
    "- `simple_function` simplemente devuelve números de conteo. \n",
    "- Cada vez que se llama, incrementa un contador y devuelve ese valor."
   ]
  },
  {
   "cell_type": "markdown",
   "metadata": {
    "slideshow": {
     "slide_type": "slide"
    }
   },
   "source": [
    "### Ejemplo para Ctypes 2/2\n",
    "\n",
    "```c\n",
    "void add_one_to_string(char *input) {\n",
    "    int ii = 0;\n",
    "    for (; ii < strlen(input); ii++) {\n",
    "        input[ii]++;\n",
    "    }\n",
    "}\n",
    "```\n",
    "\n",
    "- Agrega \"uno\" a cada carácter en una matriz de caracteres que se pasa. \n",
    "- Usaremos esto para hablar sobre las cadenas inmutables de Python y cómo solucionarlas cuando sea necesario.\n",
    "\n",
    "Estos ejemplos estan guardadoe en `clibc1.c`, y se compilan con:\n",
    "\n",
    "```bash\n",
    "gcc -c -Wall -Werror -fpic clib1.c # crea el código objeto\n",
    "gcc -shared -o libclib1.so clib1.o # crea el .so\n",
    "```\n"
   ]
  },
  {
   "cell_type": "markdown",
   "metadata": {
    "slideshow": {
     "slide_type": "slide"
    }
   },
   "source": [
    "## Llamando a una función simple"
   ]
  },
  {
   "cell_type": "code",
   "execution_count": 1,
   "metadata": {},
   "outputs": [
    {
     "name": "stdout",
     "output_type": "stream",
     "text": [
      "callclib1.py  clib1.c  clib1.o  \u001b[0m\u001b[01;32mlibclib1.so\u001b[0m*  Makefile\r\n"
     ]
    }
   ],
   "source": [
    "ls ctypes/"
   ]
  },
  {
   "cell_type": "code",
   "execution_count": 2,
   "metadata": {},
   "outputs": [],
   "source": [
    "import ctypes\n",
    "\n",
    "# Load the shared library into c types.\n",
    "libc = ctypes.CDLL(\"ctypes/libclib1.so\")"
   ]
  },
  {
   "cell_type": "code",
   "execution_count": 10,
   "metadata": {},
   "outputs": [
    {
     "data": {
      "text/plain": [
       "8"
      ]
     },
     "execution_count": 10,
     "metadata": {},
     "output_type": "execute_result"
    }
   ],
   "source": [
    "counter = libc.simple_function()\n",
    "counter"
   ]
  },
  {
   "cell_type": "markdown",
   "metadata": {
    "slideshow": {
     "slide_type": "slide"
    }
   },
   "source": [
    "## Cadenas inmutables en Python con Ctypes"
   ]
  },
  {
   "cell_type": "code",
   "execution_count": 11,
   "metadata": {},
   "outputs": [
    {
     "name": "stdout",
     "output_type": "stream",
     "text": [
      "Calling C function which tries to modify Python string\n",
      "Before: starting string\n",
      "After:  starting string\n"
     ]
    }
   ],
   "source": [
    "print(\"Calling C function which tries to modify Python string\")\n",
    "original_string = \"starting string\"\n",
    "print(\"Before:\", original_string)\n",
    "\n",
    "# This call does not change value, even though it tries!\n",
    "libc.add_one_to_string(original_string)\n",
    "\n",
    "print(\"After: \", original_string)"
   ]
  },
  {
   "cell_type": "markdown",
   "metadata": {
    "slideshow": {
     "slide_type": "fragment"
    }
   },
   "source": [
    "- Como notarán esto **no anda**.\n",
    "- El `original_string` no está disponible en la función C.\n",
    "- La función C modificó alguna otro objeto en memoria, no la cadena. \n",
    "- La función C no solo no hace lo que desea, sino que también modifica la memoria que no debería, lo que genera posibles problemas de corrupción de memoria.\n",
    "- Si queremos que la función C tenga acceso a la cadena, necesitamos hacer un poco de trabajo de serialización."
   ]
  },
  {
   "cell_type": "markdown",
   "metadata": {
    "slideshow": {
     "slide_type": "slide"
    }
   },
   "source": [
    "## Cadenas inmutables en Python con Ctypes\n",
    "\n",
    "- Necesitamos convertir la cadena original a bytes usando `str.encode,` y luego pasar esto al constructor para un `ctypes.string_buffer`. \n",
    "- Los String_buffers son mutables y se pasan a C como `char *`."
   ]
  },
  {
   "cell_type": "code",
   "execution_count": 12,
   "metadata": {},
   "outputs": [
    {
     "name": "stdout",
     "output_type": "stream",
     "text": [
      "Calling C function with mutable buffer this time\n",
      "Before: b'starting string'\n",
      "After:  tubsujoh!tusjoh\n"
     ]
    }
   ],
   "source": [
    "# The ctypes string buffer IS mutable, however.\n",
    "print(\"Calling C function with mutable buffer this time\")\n",
    "\n",
    "# Need to encode the original to get bytes for string_buffer\n",
    "mutable_string = ctypes.create_string_buffer(str.encode(original_string))\n",
    "\n",
    "print(\"Before:\", mutable_string.value)\n",
    "libc.add_one_to_string(mutable_string)  # Works!\n",
    "print(\"After: \", mutable_string.value.decode())"
   ]
  },
  {
   "cell_type": "markdown",
   "metadata": {
    "slideshow": {
     "slide_type": "slide"
    }
   },
   "source": [
    "## Especificación de firmas de funciones en ctypes\n",
    "\n",
    "- Además, proporcionar una firma de función le permite a Python verificar que está pasando los parámetros correctos cuando llama a una función C, de lo contrario, pueden suceder cosas **malas**.\n",
    "\n",
    "Para especificar el tipo de retorno de una función, hayque obtener el bjeto de la función y establecer la propiedad `restype`:\n",
    "\n",
    "```python\n",
    "libc.func.restype = ctypes.POINTER(ctypes.c_char)\n",
    "```\n",
    "\n",
    "y para especificar las firmas\n",
    "\n",
    "```python\n",
    "libc.func.argtypes = [ctypes.POINTER(ctypes.c_char), ]\n",
    "```"
   ]
  },
  {
   "cell_type": "markdown",
   "metadata": {
    "slideshow": {
     "slide_type": "slide"
    }
   },
   "source": [
    "## Escribir una interfaz  Python en C\n",
    "\n",
    "Vamos a \"envolver\" función de biblioteca C `fputs()`:\n",
    "\n",
    "```C\n",
    "int fputs (const char *, FILE *)\n",
    "```\n",
    "\n",
    "- Esta función toma dos argumentos:\n",
    "    1. `const char *` es una matriz de caracteres.\n",
    "    2. `FILE *` es un puntero a un stream de archivo.\n",
    "- `fputs()` escribe la matriz de caracteres en el archivo especificado y devuelve un valor no negativo, si la operación es exitosa, este valor indicará el número de bytes escritos en el archivo. \n",
    "- Si hay un error, entonces devuelve `EOF`. "
   ]
  },
  {
   "cell_type": "markdown",
   "metadata": {
    "slideshow": {
     "slide_type": "slide"
    }
   },
   "source": [
    "## Escribir la función C para `fputs()`\n",
    "\n",
    "Este es un programa básico de C que usa fputs() para escribir una cadena en una secuencia de archivos:\n",
    "\n",
    "```C\n",
    "#include <stdio.h>\n",
    "#include <stdlib.h>\n",
    "#include <unistd.h>\n",
    "\n",
    "int main() {\n",
    "    FILE *fp = fopen(\"write.txt\", \"w\");\n",
    "    fputs(\"Real Python!\", fp);\n",
    "    fclose(fp);\n",
    "    return 0;\n",
    "}\n",
    "```"
   ]
  },
  {
   "cell_type": "markdown",
   "metadata": {
    "slideshow": {
     "slide_type": "slide"
    }
   },
   "source": [
    "## Envolviendo `fputs()`\n",
    "\n",
    "El siguiente bloque de código muestra la versión final envuelta de su código C:\n",
    "\n",
    "```C\n",
    "#include <Python.h>\n",
    "\n",
    "static PyObject *method_fputs(PyObject *self, PyObject *args) {\n",
    "    char *str, *filename = NULL;\n",
    "    int bytes_copied = -1;\n",
    "\n",
    "    /* Parse arguments */\n",
    "    if(!PyArg_ParseTuple(args, \"ss\", &str, &filename)) {\n",
    "        return NULL;\n",
    "    }\n",
    "\n",
    "    FILE *fp = fopen(filename, \"w\");\n",
    "    bytes_copied = fputs(str, fp);\n",
    "    fclose(fp);\n",
    "\n",
    "    return PyLong_FromLong(bytes_copied);\n",
    "}\n",
    "```\n",
    "\n",
    "Este fragmento de código hace referencia a tres estructuras de objetos que se definen en `Python.h`:\n",
    "`PyObject`, `PyArg_ParseTuple()` y `PyLong_FromLong()`"
   ]
  },
  {
   "cell_type": "markdown",
   "metadata": {
    "slideshow": {
     "slide_type": "slide"
    }
   },
   "source": [
    "## `PyObject`\n",
    "\n",
    "- `PyObject` es una estructura de objetos que utiliza para definir tipos de objetos para Python. \n",
    "- Todos los demás tipos de objetos Python son extensiones de este tipo.\n",
    "- Establecer el tipo de retorno de la función anterior como `PyObject` define los campos comunes que requiere Python para reconocer esto como un tipo válido.\n",
    "\n",
    "Eche otro vistazo a las primeras líneas de su código C:\n",
    "\n",
    "```C\n",
    "static PyObject *method_fputs(PyObject *self, PyObject *args) {\n",
    "    char *str, *filename = NULL;\n",
    "    int bytes_copied = -1;\n",
    "    ...\n",
    "```   \n",
    "\n",
    "En la línea 2, declara los tipos de argumento que desea recibir de su código Python:\n",
    "\n",
    "- `char *str` es la cadena que desea escribir en la secuencia del archivo.\n",
    "- `char *filename` es el nombre del archivo para escribir."
   ]
  },
  {
   "cell_type": "markdown",
   "metadata": {
    "slideshow": {
     "slide_type": "slide"
    }
   },
   "source": [
    "## `PyArg_ParseTuple()`\n",
    "\n",
    "`PyArg_ParseTuple()` transforma los argumentos que recibirá de su programa Python en variables locales:\n",
    "\n",
    "```C\n",
    "static PyObject *method_fputs(PyObject *self, PyObject *args) {\n",
    "    char *str, *filename = NULL;\n",
    "    int bytes_copied = -1;\n",
    "    \n",
    "    if(!PyArg_ParseTuple(args, \"ss\", &str, &filename)) {\n",
    "        return NULL;\n",
    "    }\n",
    "    ...\n",
    "``` \n",
    "\n",
    "`PyArg_ParseTuple()` toma los siguientes argumentos:\n",
    "\n",
    "- `args` de tipo `PyObject`.\n",
    "- `\"ss\"` especifica el tipo de datos de los argumentos a analizar.\n",
    "- `&str` y `&filename` son punteros a variables locales a las que se asignarán los valores analizados.\n",
    "\n",
    "`PyArg_ParseTuple()` retorna `false` frente a un error."
   ]
  },
  {
   "cell_type": "markdown",
   "metadata": {
    "slideshow": {
     "slide_type": "slide"
    }
   },
   "source": [
    "## `fputs()` y `PyLongFromLong()`\n",
    "\n",
    "```C\n",
    "static PyObject *method_fputs(PyObject *self, PyObject *args) {\n",
    "    char *str, *filename = NULL;\n",
    "    int bytes_copied = -1;\n",
    "    if(!PyArg_ParseTuple(args, \"ss\", &str, &filename)) {\n",
    "        return NULL;\n",
    "    }\n",
    "\n",
    "    FILE *fp = fopen(filename, \"w\");\n",
    "    bytes_copied = fputs(str, fp);\n",
    "    fclose(fp);\n",
    "\n",
    "    return PyLong_FromLong(bytes_copied);\n",
    "}\n",
    "\n",
    "``` \n",
    "\n",
    "- Las llamadas a `fputs()` fueron explicadas anteriormente, la única diferencia es que las variables utilizadas son las que provienen de `*args` y almacenadas localmente.\n",
    "- Finalmente `PyLong_FromLong()` retorna un `PyLongObject`, que representa objecto entero en Python."
   ]
  },
  {
   "cell_type": "markdown",
   "metadata": {
    "slideshow": {
     "slide_type": "slide"
    }
   },
   "source": [
    "## Módulo de extensión\n",
    "\n",
    "Ya se escribió el código que constituye la funcionalidad principal de su módulo de extensión Python C. \n",
    "- Sin embargo queda escribir las definiciones de su módulo y los métodos que contiene, de esta manera:\n",
    "\n",
    "```C\n",
    "static PyMethodDef FputsMethods[] = {\n",
    "    {\"fputs\", method_fputs, METH_VARARGS, \"Python interface for fputs C library function\"},\n",
    "    {NULL, NULL, 0, NULL}\n",
    "};\n",
    "\n",
    "\n",
    "static struct PyModuleDef fputsmodule = {\n",
    "    PyModuleDef_HEAD_INIT,\n",
    "    \"fputs\",\n",
    "    \"Python interface for the fputs C library function\",\n",
    "    -1,\n",
    "    FputsMethods\n",
    "};\n",
    "```"
   ]
  },
  {
   "cell_type": "markdown",
   "metadata": {
    "slideshow": {
     "slide_type": "slide"
    }
   },
   "source": [
    "## `PyMethodDef`\n",
    "\n",
    "\n",
    "- `PyMethodDef` informa al intérprete de Python sobre los métodos definidos en el módulo\n",
    "- Idealmente, habrá más de un método en la. Es por eso que necesita definir una matriz de estructuras:\n",
    "\n",
    "```C\n",
    "static PyMethodDef FputsMethods[] = {\n",
    "    {\"fputs\", method_fputs, METH_VARARGS, \"Python interface for fputs C library function\"},\n",
    "    {NULL, NULL, 0, NULL}\n",
    "};\n",
    "```\n",
    "\n",
    "Cada miembro individual de la estructura contiene la siguiente información:\n",
    "- `fputs` es el nombre que el usuario escribiría para invocar esta función en particular desde Python.\n",
    "- `method_fputs` es el nombre de la función C a invocar.\n",
    "- `METH_VARARGS` indica que la función aceptará dos argumentos de tipo\n",
    "`PyObject *`:\n",
    "    - `self` es el objeto del módulo.\n",
    "    - `args` es una tupla que contiene los argumentos de la función (descomprimibles `PyArg_ParseTuple()`.\n",
    "- La cadena final es un valor para representar el docstring."
   ]
  },
  {
   "cell_type": "markdown",
   "metadata": {
    "slideshow": {
     "slide_type": "slide"
    }
   },
   "source": [
    "### `PyModuleDef`\n",
    "\n",
    "Define un módulo Python (un archivo `.py`) en C.\n",
    "\n",
    "```C\n",
    "static struct PyModuleDef fputsmodule = {\n",
    "    PyModuleDef_HEAD_INIT, \"fputs\",\n",
    "    \"Interface for the fputs C function\", -1, FputsMethods};\n",
    "```\n",
    "\n",
    "Hay un total de 9 miembros en esta estructura, pero  el bloque de código anterior, inicializa los siguientes cinco:\n",
    "\n",
    "- `PyModuleDef_HEAD_INIT` es la clase \"base\" del módulo (normalmente esto siempre es igual).\n",
    "- `\"fputs\"` nombre del módulo.\n",
    "- La cadena es la documentación del módulo.\n",
    "- `-1`  cantidad de memoria necesaria para almacenar el estado del programa. Es útil cuando su módulo se utiliza en múltiples subinterpretadores, y puede tener los siguientes valores:\n",
    "    - Un valor negativo indica que este módulo no tiene soporte para subinterpretadores.\n",
    "    - Un valor no negativo permite la reinicialización del módulo. También especifica el requisito de memoria que se asignará en cada sesión de subinterpretador.\n",
    "- `FputsMethods` es tabla de métodos. "
   ]
  },
  {
   "cell_type": "markdown",
   "metadata": {
    "slideshow": {
     "slide_type": "slide"
    }
   },
   "source": [
    "## Inicializando el módulo\n",
    "\n",
    "- Ahora que ha definido la extensión Python C y las estructuras de métodos, es hora de ponerlas en uso. \n",
    "- Cuando un programa Python importa su módulo por primera vez, llamará a `PyInit_fputs()`:\n",
    "\n",
    "```C\n",
    "PyMODINIT_FUNC PyInit_fputs(void) {\n",
    "    return PyModule_Create(&fputsmodule);\n",
    "}\n",
    "``` \n",
    "\n",
    "`PyMODINIT_FUNC hace 3 cosas implícitamente`\n",
    "\n",
    "- Establece implícitamente el tipo de retorno de la función como PyObject *.\n",
    "- Declara cualquier enlace especial.\n",
    "- Declara la función como \"C\" externa. En caso de que esté usando C++, le dice al compilador de C ++ que no haga cambios de nombre en los símbolos.\n",
    "\n",
    "`PyModule_Create()` devolverá un nuevo objeto de módulo de tipo `PyObject *`."
   ]
  },
  {
   "attachments": {
    "image.png": {
     "image/png": "[encoded data removed]"
    }
   },
   "cell_type": "markdown",
   "metadata": {
    "slideshow": {
     "slide_type": "slide"
    }
   },
   "source": [
    "## Poniendo todo junto - Qué pasa cuando importamos el módulo?\n",
    "\n",
    "![image.png](attachment:image.png)"
   ]
  },
  {
   "attachments": {
    "image.png": {
     "image/png": "[encoded data removed]"
    }
   },
   "cell_type": "markdown",
   "metadata": {
    "slideshow": {
     "slide_type": "slide"
    }
   },
   "source": [
    "## Poniendo todo junto - Qué retorna cuando se importa el módulo?\n",
    "\n",
    "![image.png](attachment:image.png)"
   ]
  },
  {
   "attachments": {
    "image.png": {
     "image/png": "[encoded data removed]"
    }
   },
   "cell_type": "markdown",
   "metadata": {
    "slideshow": {
     "slide_type": "subslide"
    }
   },
   "source": [
    "## Poniendo todo junto - Qué sucede cuando llamamos a `fputs.fputs()`\n",
    "\n",
    "![image.png](attachment:image.png)"
   ]
  },
  {
   "cell_type": "markdown",
   "metadata": {
    "slideshow": {
     "slide_type": "slide"
    }
   },
   "source": [
    "## Empaquetado con `distutils` \n",
    "\n",
    "```python\n",
    "from distutils.core import setup, Extension\n",
    "\n",
    "setup(name=\"fputs\",\n",
    "      ext_modules=[Extension(\"fputs\", [\"fputsmodule.c\"])],\n",
    "      ...)\n",
    "\n",
    "\n",
    "```\n",
    "\n",
    "Para instalar:\n",
    "\n",
    "```bash\n",
    "$ python setup.py install \n",
    "```\n",
    "\n",
    "Para compilar\n",
    "\n",
    "```bash\n",
    "$ python setup.py build_ext --inplace\n",
    "```\n",
    "\n",
    "Si se quiere especificar el compilador\n",
    "\n",
    "```bash\n",
    "$ CC=gcc python3 setup.py install\n",
    "```"
   ]
  },
  {
   "cell_type": "markdown",
   "metadata": {
    "slideshow": {
     "slide_type": "slide"
    }
   },
   "source": [
    "## Usando la extensión"
   ]
  },
  {
   "cell_type": "code",
   "execution_count": 13,
   "metadata": {},
   "outputs": [],
   "source": [
    "import sys; sys.path.insert(0, \"./c_extensions\")\n",
    "import fputs"
   ]
  },
  {
   "cell_type": "code",
   "execution_count": 14,
   "metadata": {},
   "outputs": [],
   "source": [
    "fputs?"
   ]
  },
  {
   "cell_type": "code",
   "execution_count": 15,
   "metadata": {},
   "outputs": [],
   "source": [
    "fputs.fputs?"
   ]
  },
  {
   "cell_type": "code",
   "execution_count": 20,
   "metadata": {},
   "outputs": [
    {
     "data": {
      "text/plain": [
       "1"
      ]
     },
     "execution_count": 20,
     "metadata": {},
     "output_type": "execute_result"
    }
   ],
   "source": [
    "fputs.fputs(\"zaraza!\", \"salida.txt\")"
   ]
  },
  {
   "cell_type": "code",
   "execution_count": 21,
   "metadata": {},
   "outputs": [
    {
     "name": "stdout",
     "output_type": "stream",
     "text": [
      "zaraza!\n"
     ]
    }
   ],
   "source": [
    "with open(\"salida.txt\") as fp: \n",
    "    print(fp.read())"
   ]
  },
  {
   "cell_type": "markdown",
   "metadata": {
    "slideshow": {
     "slide_type": "slide"
    }
   },
   "source": [
    "## Raising Exceptions\n",
    "\n",
    "- Si desea lanzar excepciones de Python desde  C, puede usar la API de Python para hacerlo. \n",
    "- Algunas de las funciones proporcionadas por la API de Python para generar excepciones son las siguientes:\n",
    "\n",
    "- `PyErr_SetString(PyObject *type, const char *message)`\n",
    "- `PyErr_Format(PyObject *type, const char *format)`\n",
    "- `PyErr_SetObject(PyObject *type, PyObject *value)`\n",
    "\n",
    "Todas las exceptions de Python estan definidas en las API."
   ]
  },
  {
   "cell_type": "markdown",
   "metadata": {
    "slideshow": {
     "slide_type": "slide"
    }
   },
   "source": [
    "## Raising Exceptions\n",
    "\n",
    "\n",
    "```C\n",
    "static PyObject *method_fputs(PyObject *self, PyObject *args) {\n",
    "    char *str, *filename = NULL;\n",
    "    int bytes_copied = -1;\n",
    "\n",
    "    /* Parse arguments */\n",
    "    if(!PyArg_ParseTuple(args, \"ss\", &str, &fd)) {\n",
    "        return NULL;\n",
    "    }\n",
    "    if (strlen(str) <= 0) {\n",
    "        PyErr_SetString(PyExc_ValueError, \"String length must be greater than 0\");\n",
    "        return NULL;\n",
    "    }\n",
    "\n",
    "    fp = fopen(filename, \"w\");\n",
    "    bytes_copied = fputs(str, fp);\n",
    "    fclose(fp);\n",
    "\n",
    "    return PyLong_FromLong(bytes_copied);\n",
    "}\n",
    "```"
   ]
  },
  {
   "cell_type": "markdown",
   "metadata": {
    "slideshow": {
     "slide_type": "slide"
    }
   },
   "source": [
    "## Raising Custom Exceptions\n",
    "\n",
    "Para crear y usar excepción personalizada, se debe agregarla instancia de módulo:\n",
    "\n",
    "```C\n",
    "static PyObject *StringTooShortError = NULL;\n",
    "\n",
    "PyMODINIT_FUNC PyInit_fputs(void) {\n",
    "    /* Assign module value */\n",
    "    PyObject *module = PyModule_Create(&fputsmodule);\n",
    "    /* Initialize new exception object */\n",
    "    StringTooShortError = PyErr_NewException(\"fputs.StringTooShortError\", NULL, NULL);\n",
    "    /* Add exception object to your module */\n",
    "    PyModule_AddObject(module, \"StringTooShortError\", StringTooShortError);\n",
    "\n",
    "    return module;\n",
    "}\n",
    "static PyObject *method_fputs(PyObject *self, PyObject *args) {\n",
    "    ...\n",
    "    if (strlen(str) <= 0) {\n",
    "        /* Passing custom exception */\n",
    "        PyErr_SetString(StringTooShortError, \"String length must be greater than 0\");\n",
    "        return NULL;}\n",
    "    ...\n",
    "}\n",
    "    \n",
    "```"
   ]
  },
  {
   "cell_type": "markdown",
   "metadata": {
    "slideshow": {
     "slide_type": "slide"
    }
   },
   "source": [
    "## Referencias\n",
    "\n",
    "- https://docs.python.org/3.8/library/ctypes.html\n",
    "- https://dbader.org/blog/python-ctypes-tutorial\n",
    "- https://realpython.com/build-python-c-extension-module/"
   ]
  },
  {
   "cell_type": "code",
   "execution_count": null,
   "metadata": {},
   "outputs": [],
   "source": []
  }
 ],
 "metadata": {
  "celltoolbar": "Slideshow",
  "kernelspec": {
   "display_name": "Python 3 (ipykernel)",
   "language": "python",
   "name": "python3"
  },
  "language_info": {
   "codemirror_mode": {
    "name": "ipython",
    "version": 3
   },
   "file_extension": ".py",
   "mimetype": "text/x-python",
   "name": "python",
   "nbconvert_exporter": "python",
   "pygments_lexer": "ipython3",
   "version": "3.9.9"
  }
 },
 "nbformat": 4,
 "nbformat_minor": 2
}
