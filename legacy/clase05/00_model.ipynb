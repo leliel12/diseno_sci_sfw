{
 "cells": [
  {
   "cell_type": "markdown",
   "metadata": {
    "slideshow": {
     "slide_type": "slide"
    }
   },
   "source": [
    "\n",
    "# Diseño de software para cómputo científico\n",
    "\n",
    "----\n",
    "\n",
    "## Unidad 1: Modelo de objetos de Python\n",
    "\n",
    "<small><b>Source:</b> <a href=\"https://dbader.org/blog/python-dunder-methods\">https://dbader.org/blog/python-dunder-methods</a></small>"
   ]
  },
  {
   "cell_type": "markdown",
   "metadata": {
    "slideshow": {
     "slide_type": "slide"
    }
   },
   "source": [
    "### Agenda de la Unidad 1\n",
    "---\n",
    "\n",
    "- Clase 1:\n",
    "    - Diferencias entre alto y bajo nivel.\n",
    "    - Lenguajes dinámicos y estáticos.\n",
    "    \n",
    "- Limbo:\n",
    "    - Introducción al lenguaje Python.\n",
    "    - Librerías de cómputo científico.\n",
    "    \n",
    "- Clase Limbo + 1 y Limbo + 2:\n",
    "    - **Orientación a objetos**, decoradores."
   ]
  },
  {
   "cell_type": "markdown",
   "metadata": {
    "slideshow": {
     "slide_type": "slide"
    }
   },
   "source": [
    "## Python Data types\n",
    "-----\n",
    "\n",
    "- Parte de la promesas incumplidas que tengo es explicar por que esto"
   ]
  },
  {
   "cell_type": "code",
   "execution_count": 1,
   "metadata": {},
   "outputs": [
    {
     "data": {
      "text/plain": [
       "[1, 2, 3, 4, 5, 6]"
      ]
     },
     "execution_count": 1,
     "metadata": {},
     "output_type": "execute_result"
    }
   ],
   "source": [
    "[1, 2, 3] + [4, 5, 6]"
   ]
  },
  {
   "cell_type": "markdown",
   "metadata": {},
   "source": [
    "Funciona distinto de esto"
   ]
  },
  {
   "cell_type": "code",
   "execution_count": 2,
   "metadata": {},
   "outputs": [
    {
     "data": {
      "text/plain": [
       "array([5, 7, 9])"
      ]
     },
     "execution_count": 2,
     "metadata": {},
     "output_type": "execute_result"
    }
   ],
   "source": [
    "import numpy as np\n",
    "\n",
    "np.array([1, 2, 3]) + [4, 5, 6]"
   ]
  },
  {
   "cell_type": "markdown",
   "metadata": {
    "slideshow": {
     "slide_type": "subslide"
    }
   },
   "source": [
    "## Python Data types\n",
    "-----\n",
    "\n",
    "al igual que estas dos cosas"
   ]
  },
  {
   "cell_type": "code",
   "execution_count": 3,
   "metadata": {},
   "outputs": [
    {
     "data": {
      "text/plain": [
       "array([2, 4, 6])"
      ]
     },
     "execution_count": 3,
     "metadata": {},
     "output_type": "execute_result"
    }
   ],
   "source": [
    "np.array([1, 2, 3]) * 2"
   ]
  },
  {
   "cell_type": "code",
   "execution_count": 4,
   "metadata": {},
   "outputs": [
    {
     "data": {
      "text/plain": [
       "[1, 2, 3, 1, 2, 3]"
      ]
     },
     "execution_count": 4,
     "metadata": {},
     "output_type": "execute_result"
    }
   ],
   "source": [
    "[1, 2, 3] * 2"
   ]
  },
  {
   "cell_type": "markdown",
   "metadata": {
    "slideshow": {
     "slide_type": "subslide"
    }
   },
   "source": [
    "## Python Data types\n",
    "-----\n",
    "O una de estas directamente no funciona"
   ]
  },
  {
   "cell_type": "code",
   "execution_count": 5,
   "metadata": {},
   "outputs": [
    {
     "data": {
      "text/plain": [
       "array([2, 3, 4])"
      ]
     },
     "execution_count": 5,
     "metadata": {},
     "output_type": "execute_result"
    }
   ],
   "source": [
    "np.array([1, 2, 3]) + 1"
   ]
  },
  {
   "cell_type": "code",
   "execution_count": 6,
   "metadata": {},
   "outputs": [
    {
     "ename": "TypeError",
     "evalue": "can only concatenate list (not \"int\") to list",
     "output_type": "error",
     "traceback": [
      "\u001b[0;31m---------------------------------------------------------------------------\u001b[0m",
      "\u001b[0;31mTypeError\u001b[0m                                 Traceback (most recent call last)",
      "\u001b[0;32m<ipython-input-6-f87fad572782>\u001b[0m in \u001b[0;36m<module>\u001b[0;34m\u001b[0m\n\u001b[0;32m----> 1\u001b[0;31m \u001b[0;34m[\u001b[0m\u001b[0;36m1\u001b[0m\u001b[0;34m,\u001b[0m \u001b[0;36m2\u001b[0m\u001b[0;34m,\u001b[0m \u001b[0;36m3\u001b[0m\u001b[0;34m]\u001b[0m \u001b[0;34m+\u001b[0m \u001b[0;36m1\u001b[0m\u001b[0;34m\u001b[0m\u001b[0;34m\u001b[0m\u001b[0m\n\u001b[0m",
      "\u001b[0;31mTypeError\u001b[0m: can only concatenate list (not \"int\") to list"
     ]
    }
   ],
   "source": [
    "[1, 2, 3] + 1"
   ]
  },
  {
   "cell_type": "markdown",
   "metadata": {
    "slideshow": {
     "slide_type": "subslide"
    }
   },
   "source": [
    "### Dunders\n",
    "----\n",
    "\n",
    "- Por que funciona esto?"
   ]
  },
  {
   "cell_type": "code",
   "execution_count": 7,
   "metadata": {},
   "outputs": [
    {
     "data": {
      "text/plain": [
       "2"
      ]
     },
     "execution_count": 7,
     "metadata": {},
     "output_type": "execute_result"
    }
   ],
   "source": [
    "len([1, 3])"
   ]
  },
  {
   "cell_type": "code",
   "execution_count": 8,
   "metadata": {},
   "outputs": [
    {
     "data": {
      "text/plain": [
       "18"
      ]
     },
     "execution_count": 8,
     "metadata": {},
     "output_type": "execute_result"
    }
   ],
   "source": [
    "1 + 17"
   ]
  },
  {
   "cell_type": "code",
   "execution_count": 9,
   "metadata": {},
   "outputs": [
    {
     "data": {
      "text/plain": [
       "'hello'"
      ]
     },
     "execution_count": 9,
     "metadata": {},
     "output_type": "execute_result"
    }
   ],
   "source": [
    "def foo():\n",
    "    return \"hello\"\n",
    "\n",
    "foo()  # <<< eso"
   ]
  },
  {
   "cell_type": "markdown",
   "metadata": {
    "slideshow": {
     "slide_type": "subslide"
    }
   },
   "source": [
    "### Dunders\n",
    "----\n",
    "\n",
    "Vamos con el ejemplo siple"
   ]
  },
  {
   "cell_type": "code",
   "execution_count": 10,
   "metadata": {},
   "outputs": [],
   "source": [
    "class HasLen:\n",
    "    def __init__(self, l):\n",
    "        self.l = l\n",
    "    def __len__(self):\n",
    "        return self.l"
   ]
  },
  {
   "cell_type": "code",
   "execution_count": 11,
   "metadata": {},
   "outputs": [
    {
     "data": {
      "text/plain": [
       "42"
      ]
     },
     "execution_count": 11,
     "metadata": {},
     "output_type": "execute_result"
    }
   ],
   "source": [
    "foo = HasLen(42)\n",
    "len(foo)"
   ]
  },
  {
   "cell_type": "code",
   "execution_count": 12,
   "metadata": {},
   "outputs": [
    {
     "data": {
      "text/plain": [
       "42"
      ]
     },
     "execution_count": 12,
     "metadata": {},
     "output_type": "execute_result"
    }
   ],
   "source": [
    "foo.__len__()"
   ]
  },
  {
   "cell_type": "markdown",
   "metadata": {
    "slideshow": {
     "slide_type": "subslide"
    }
   },
   "source": [
    "### Dunders\n",
    "----\n",
    "\n",
    "- En Python, los métodos especiales son un conjunto de métodos predefinidos que se puede usar para enriquecer las clases. Son fáciles de reconocer porque comienzan y terminan con guiones bajos dobles, por ejemplo `__init__` o `__str__`.\n",
    "\n",
    "- Como es cansador decir  *under-under-method-under-under* la comunidad empezo a decirles **dunder** contraccion de *double-under*.\n",
    "\n",
    "- Los métodos Dunder le permiten emular el comportamiento de los tipos integrados. Por ejemplo, para obtener la longitud de una cadena puede llamar a `len('cadena')`."
   ]
  },
  {
   "cell_type": "markdown",
   "metadata": {
    "slideshow": {
     "slide_type": "subslide"
    }
   },
   "source": [
    "### Dunders\n",
    "----\n",
    "\n",
    "Inicialización "
   ]
  },
  {
   "cell_type": "code",
   "execution_count": 13,
   "metadata": {},
   "outputs": [],
   "source": [
    "class Account:\n",
    "    \"\"\"A simple account class\"\"\"\n",
    "\n",
    "    def __init__(self, owner, amount=0):\n",
    "        \"\"\"This is the constructor that lets us create\n",
    "        objects from this class.\n",
    "        \n",
    "        \"\"\"\n",
    "        self.owner = owner\n",
    "        self.amount = amount\n",
    "        self._transactions = []\n",
    "        \n",
    "    def add_transaction(self, amount):\n",
    "        if not isinstance(amount, int):\n",
    "            raise ValueError('please use int for amount')\n",
    "        self._transactions.append(amount)\n",
    "        \n",
    "    @property\n",
    "    def balance(self):\n",
    "        return self.amount + sum(self._transactions)"
   ]
  },
  {
   "cell_type": "markdown",
   "metadata": {
    "slideshow": {
     "slide_type": "subslide"
    }
   },
   "source": [
    "### Dunders\n",
    "----\n",
    "\n",
    "Representación"
   ]
  },
  {
   "cell_type": "code",
   "execution_count": 14,
   "metadata": {
    "slideshow": {
     "slide_type": "-"
    }
   },
   "outputs": [],
   "source": [
    "class Account(Account):\n",
    "\n",
    "    def __repr__(self):\n",
    "        return f'{self.__class__.__name__}({self.owner}, {self.amount})'\n",
    "\n",
    "    def __str__(self):\n",
    "        return f'Account of {self.owner} with starting amount: {self.amount}'"
   ]
  },
  {
   "cell_type": "code",
   "execution_count": 17,
   "metadata": {},
   "outputs": [
    {
     "data": {
      "text/plain": [
       "Account(bob, 10)"
      ]
     },
     "execution_count": 17,
     "metadata": {},
     "output_type": "execute_result"
    }
   ],
   "source": [
    "acc = Account('bob', 10)\n",
    "acc  # repr(acc)"
   ]
  },
  {
   "cell_type": "code",
   "execution_count": 18,
   "metadata": {},
   "outputs": [
    {
     "name": "stdout",
     "output_type": "stream",
     "text": [
      "Account of bob with starting amount: 10\n"
     ]
    }
   ],
   "source": [
    "print(acc)  # str(acc)"
   ]
  },
  {
   "cell_type": "markdown",
   "metadata": {
    "slideshow": {
     "slide_type": "subslide"
    }
   },
   "source": [
    "### Dunders\n",
    "----\n",
    "\n",
    "Iteración"
   ]
  },
  {
   "cell_type": "code",
   "execution_count": 26,
   "metadata": {},
   "outputs": [],
   "source": [
    "class Account(Account):\n",
    "\n",
    "    def __len__(self):\n",
    "        return len(self._transactions)\n",
    "\n",
    "    def __getitem__(self, position):\n",
    "        return self._transactions[position]\n",
    "    \n",
    "    def __setitem__(self, pos, v):\n",
    "        self._transactions[pos] = v"
   ]
  },
  {
   "cell_type": "code",
   "execution_count": 27,
   "metadata": {},
   "outputs": [
    {
     "data": {
      "text/plain": [
       "80"
      ]
     },
     "execution_count": 27,
     "metadata": {},
     "output_type": "execute_result"
    }
   ],
   "source": [
    "acc = Account('bob', 10)\n",
    "acc.add_transaction(20)\n",
    "acc.add_transaction(-10)\n",
    "acc.add_transaction(50)\n",
    "acc.add_transaction(-20)\n",
    "acc.add_transaction(30)\n",
    "\n",
    "acc.balance"
   ]
  },
  {
   "cell_type": "markdown",
   "metadata": {
    "slideshow": {
     "slide_type": "subslide"
    }
   },
   "source": [
    "### Dunders\n",
    "----\n",
    "\n",
    "Iteración"
   ]
  },
  {
   "cell_type": "code",
   "execution_count": 28,
   "metadata": {},
   "outputs": [
    {
     "data": {
      "text/plain": [
       "5"
      ]
     },
     "execution_count": 28,
     "metadata": {},
     "output_type": "execute_result"
    }
   ],
   "source": [
    "len(acc)"
   ]
  },
  {
   "cell_type": "code",
   "execution_count": 32,
   "metadata": {},
   "outputs": [
    {
     "name": "stdout",
     "output_type": "stream",
     "text": [
      "20\n",
      "3\n",
      "50\n",
      "-20\n",
      "30\n"
     ]
    }
   ],
   "source": [
    "for t in acc:\n",
    "    print(t)"
   ]
  },
  {
   "cell_type": "code",
   "execution_count": 31,
   "metadata": {},
   "outputs": [
    {
     "data": {
      "text/plain": [
       "3"
      ]
     },
     "execution_count": 31,
     "metadata": {},
     "output_type": "execute_result"
    }
   ],
   "source": [
    "acc[1]"
   ]
  },
  {
   "cell_type": "markdown",
   "metadata": {
    "slideshow": {
     "slide_type": "subslide"
    }
   },
   "source": [
    "### Dunders\n",
    "----\n",
    "\n",
    "Comparación\n",
    "\n",
    "Los métodos son siempre con `__` al comienzo y al final: `ge, gt, le, lt, eq, ne`\n",
    "Pero a partir de `__eq__` y algun otro se pueden completar automaticamente los demas con un decorador."
   ]
  },
  {
   "cell_type": "code",
   "execution_count": 33,
   "metadata": {},
   "outputs": [],
   "source": [
    "import functools\n",
    "\n",
    "@functools.total_ordering\n",
    "class Account(Account):\n",
    "    # ... (see above)\n",
    "\n",
    "    def __eq__(self, other):\n",
    "        return self.balance == other.balance\n",
    "\n",
    "    def __lt__(self, other):\n",
    "        return self.balance < other.balance"
   ]
  },
  {
   "cell_type": "code",
   "execution_count": 34,
   "metadata": {},
   "outputs": [
    {
     "data": {
      "text/plain": [
       "160"
      ]
     },
     "execution_count": 34,
     "metadata": {},
     "output_type": "execute_result"
    }
   ],
   "source": [
    "acc2 = Account('tim', 100)\n",
    "acc2.add_transaction(20)\n",
    "acc2.add_transaction(40)\n",
    "acc2.balance"
   ]
  },
  {
   "cell_type": "markdown",
   "metadata": {
    "slideshow": {
     "slide_type": "subslide"
    }
   },
   "source": [
    "### Dunders\n",
    "----\n",
    "\n",
    "Comparación"
   ]
  },
  {
   "cell_type": "code",
   "execution_count": 35,
   "metadata": {},
   "outputs": [
    {
     "data": {
      "text/plain": [
       "True"
      ]
     },
     "execution_count": 35,
     "metadata": {},
     "output_type": "execute_result"
    }
   ],
   "source": [
    "acc2 > acc"
   ]
  },
  {
   "cell_type": "code",
   "execution_count": 36,
   "metadata": {},
   "outputs": [
    {
     "data": {
      "text/plain": [
       "False"
      ]
     },
     "execution_count": 36,
     "metadata": {},
     "output_type": "execute_result"
    }
   ],
   "source": [
    "acc2 == acc"
   ]
  },
  {
   "cell_type": "code",
   "execution_count": 37,
   "metadata": {},
   "outputs": [
    {
     "data": {
      "text/plain": [
       "True"
      ]
     },
     "execution_count": 37,
     "metadata": {},
     "output_type": "execute_result"
    }
   ],
   "source": [
    "acc2 >= acc"
   ]
  },
  {
   "cell_type": "markdown",
   "metadata": {
    "slideshow": {
     "slide_type": "subslide"
    }
   },
   "source": [
    "### Dunders\n",
    "----\n",
    "\n",
    "Aritmética\n",
    "\n",
    "Los métodos son siempre con `__` al comienzo y al final: `add, diff, mult, div, pow`, etc."
   ]
  },
  {
   "cell_type": "code",
   "execution_count": 38,
   "metadata": {},
   "outputs": [],
   "source": [
    "class Account(Account):\n",
    "    \n",
    "    def __add__(self, other):\n",
    "        owner = f\"{self.owner} + {other.owner}\"\n",
    "        start_amount = self.balance + other.balance\n",
    "        return Account(owner, start_amount)"
   ]
  },
  {
   "cell_type": "code",
   "execution_count": 39,
   "metadata": {},
   "outputs": [
    {
     "data": {
      "text/plain": [
       "200"
      ]
     },
     "execution_count": 39,
     "metadata": {},
     "output_type": "execute_result"
    }
   ],
   "source": [
    "acc2 = Account(\"tim\", 200)\n",
    "acc2.balance"
   ]
  },
  {
   "cell_type": "code",
   "execution_count": 42,
   "metadata": {},
   "outputs": [
    {
     "data": {
      "text/plain": [
       "Account(tim + bob, 293)"
      ]
     },
     "execution_count": 42,
     "metadata": {},
     "output_type": "execute_result"
    }
   ],
   "source": [
    "acc3 = acc2 + acc\n",
    "acc3"
   ]
  },
  {
   "cell_type": "markdown",
   "metadata": {
    "slideshow": {
     "slide_type": "subslide"
    }
   },
   "source": [
    "### Dunders\n",
    "----\n",
    "\n",
    "Objetos ejecutablles/llamables/callables"
   ]
  },
  {
   "cell_type": "code",
   "execution_count": 50,
   "metadata": {},
   "outputs": [],
   "source": [
    "class Account(Account):\n",
    "    # ... (see above)\n",
    "\n",
    "    def __call__(self, c):\n",
    "        print('Start amount: {}'.format(self.amount))\n",
    "        print(c)\n",
    "        print('Transactions: ')\n",
    "        for transaction in self:\n",
    "            print(transaction)\n",
    "        print('\\nBalance: {}'.format(self.balance))"
   ]
  },
  {
   "cell_type": "code",
   "execution_count": 51,
   "metadata": {},
   "outputs": [
    {
     "data": {
      "text/plain": [
       "210"
      ]
     },
     "execution_count": 51,
     "metadata": {},
     "output_type": "execute_result"
    }
   ],
   "source": [
    "acc2 = Account(\"tim\", 200)\n",
    "acc2.add_transaction(10)\n",
    "acc2.balance"
   ]
  },
  {
   "cell_type": "code",
   "execution_count": 52,
   "metadata": {},
   "outputs": [
    {
     "data": {
      "text/plain": [
       "True"
      ]
     },
     "execution_count": 52,
     "metadata": {},
     "output_type": "execute_result"
    }
   ],
   "source": [
    "callable(acc2)"
   ]
  },
  {
   "cell_type": "code",
   "execution_count": 54,
   "metadata": {},
   "outputs": [
    {
     "name": "stdout",
     "output_type": "stream",
     "text": [
      "Start amount: 200\n",
      "kk\n",
      "Transactions: \n",
      "10\n",
      "\n",
      "Balance: 210\n"
     ]
    }
   ],
   "source": [
    "acc2(\"kk\")"
   ]
  },
  {
   "cell_type": "markdown",
   "metadata": {
    "slideshow": {
     "slide_type": "subslide"
    }
   },
   "source": [
    "Dunders Final\n",
    "-------------\n",
    "\n",
    "Hay muchos mas magic methods, pero eso se los dejo ver segun haga falta https://rszalski.github.io/magicmethods/"
   ]
  },
  {
   "cell_type": "code",
   "execution_count": 85,
   "metadata": {},
   "outputs": [],
   "source": [
    "class A:\n",
    "    def __init__(self, nombre):\n",
    "        super().__setattr__(\"_data\", {\"nombre\": nombre})\n",
    "    def __getattr__(self, n):\n",
    "        return self._data.get(n, \"<UNK>\")\n",
    "    def __setattr__(self, n, v):\n",
    "        self._data[n] = v\n",
    "    def m(self):\n",
    "        return 43  \n",
    "        \n",
    "a =A(\"tito\")\n",
    "a.nombresx = 1"
   ]
  },
  {
   "cell_type": "code",
   "execution_count": 79,
   "metadata": {},
   "outputs": [],
   "source": [
    "import sh"
   ]
  },
  {
   "cell_type": "code",
   "execution_count": 84,
   "metadata": {},
   "outputs": [
    {
     "data": {
      "text/plain": [
       "/home/juan/proyectos/diseno_sci_sfw/src/unidad_1/mi_directorio"
      ]
     },
     "execution_count": 84,
     "metadata": {},
     "output_type": "execute_result"
    }
   ],
   "source": [
    "sh.pwd()"
   ]
  },
  {
   "cell_type": "code",
   "execution_count": 70,
   "metadata": {},
   "outputs": [
    {
     "name": "stdout",
     "output_type": "stream",
     "text": [
      "['__class__', '__delattr__', '__dict__', '__dir__', '__doc__', '__eq__', '__format__', '__ge__', '__getattr__', '__getattribute__', '__gt__', '__hash__', '__init__', '__init_subclass__', '__le__', '__lt__', '__module__', '__ne__', '__new__', '__reduce__', '__reduce_ex__', '__repr__', '__setattr__', '__sizeof__', '__str__', '__subclasshook__', '__weakref__', '_data']\n"
     ]
    }
   ],
   "source": [
    "print(dir(a))"
   ]
  },
  {
   "cell_type": "code",
   "execution_count": null,
   "metadata": {},
   "outputs": [],
   "source": []
  }
 ],
 "metadata": {
  "celltoolbar": "Slideshow",
  "kernelspec": {
   "display_name": "Python 3",
   "language": "python",
   "name": "python3"
  },
  "language_info": {
   "codemirror_mode": {
    "name": "ipython",
    "version": 3
   },
   "file_extension": ".py",
   "mimetype": "text/x-python",
   "name": "python",
   "nbconvert_exporter": "python",
   "pygments_lexer": "ipython3",
   "version": "3.8.10"
  }
 },
 "nbformat": 4,
 "nbformat_minor": 4
}
