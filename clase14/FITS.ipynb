{
 "cells": [
  {
   "cell_type": "markdown",
   "metadata": {
    "slideshow": {
     "slide_type": "slide"
    }
   },
   "source": [
    "# FITS\n",
    "## Flexible Image Transport System"
   ]
  },
  {
   "cell_type": "markdown",
   "metadata": {
    "slideshow": {
     "slide_type": "subslide"
    }
   },
   "source": [
    "- Es un formato que se diseñó en la decada de los 80\n",
    "- El paper original es [Wells et al. 1979](https://ui.adsabs.harvard.edu/abs/1979ipia.coll..445W) y [Wells et al 1981](https://ui.adsabs.harvard.edu/abs/1981A%26AS...44..363W/abstract)\n",
    "\n",
    "<center><img src=\"images/screenshot_wells1979.png\" height=\"150\" alt=\"Captura paper 1979\"/></center>\n",
    "\n",
    "- Principalmente comenzó a utilizarse para almacenar imágenes CCD\n",
    "- La idea era estandarizar un formato de transferencia de información astronómica (obvio)\n",
    "- Y la segunda idea era un almacenamiento a largo plazo de los datos: **_once FITS, always FITS_**\n",
    "\n",
    "<center><img src=\"images/screenshot_IAUFITSWG2018_intro.png\" height=\"350\" alt=\"Intro paper 2018\"/></center>"
   ]
  },
  {
   "cell_type": "markdown",
   "metadata": {
    "slideshow": {
     "slide_type": "subslide"
    }
   },
   "source": [
    "### Ventajas y vigencia \n",
    "\n",
    "- Posee características que aún prevalecen en la actualidad gracias a las extensiones del formato \n",
    "    - Almacena n-arrays, mas propiamente *n-cubes* (espaciado regular)\n",
    "    - Almacena tablas 2-dimensionales, con filas y columnas\n",
    "    - Almacena metadatos de forma jerarquica\n",
    "    - Acepta encapsular multiples conjuntos de datos\n",
    "    - Es ASCII y se puede abrir y ver que tiene super facil\n",
    "    - ..."
   ]
  },
  {
   "cell_type": "markdown",
   "metadata": {
    "slideshow": {
     "slide_type": "subslide"
    }
   },
   "source": [
    "### Descripción del formato\n",
    "\n",
    "- Descripciones hay por muchos lados, nos guiamos por el documento standar:\n",
    "    - [IAU FITS WG. 2018](https://fits.gsfc.nasa.gov/fits_standard.html) \n",
    "    - Al estar definido en documentos el formato es perdurable y no depende de ningun software\n",
    "- Vamos por la version 4.0 del formato (2016)\n",
    "\n",
    "<center><img src=\"images/FITS_version_tables.png\" height=\"150\" alt=\"Versiones paper 2018\"/></center>"
   ]
  },
  {
   "cell_type": "markdown",
   "metadata": {
    "slideshow": {
     "slide_type": "subslide"
    }
   },
   "source": [
    "- Algo de la historia tecnica del formato\n",
    "<center><img src=\"images/milestoneFits_table.png\" height=\"150\" alt=\"Historia tecnica paper 2018\"/></center>"
   ]
  },
  {
   "cell_type": "markdown",
   "metadata": {
    "slideshow": {
     "slide_type": "subslide"
    }
   },
   "source": [
    "- Se utilizan cabeceras `HDU` (o *Header Data Units*) que informan:\n",
    "    - La estructura del archivo `PrimaryHDU`\n",
    "    - La estructura de un bloque de datos tipo imagen `ImageHDU`\n",
    "    - La estructura de un bloque de datos tipo tabla `TableHDU` o bien `BinTableHDU`\n",
    "- En general los HDU informan cuantos bytes tiene cada bloque y eso los hace \n",
    "extensibles agregando nuevos HDU\n",
    "    - Tienen formato _key: value_ y antiguamente tenian limitaciones en el largo de las llaves\n",
    "    - Historicamente el maximo eran 36 llaves, de largo total 80 caracteres, y se llamaban _cards_\n",
    "    - Vamos a ver algunos de los valores necesarios de un HDU\n",
    "    "
   ]
  },
  {
   "cell_type": "markdown",
   "metadata": {
    "slideshow": {
     "slide_type": "subslide"
    }
   },
   "source": [
    "- Headers minimo requerido\n",
    "<center><img src=\"images/mandatory_primaryHDUcards.png\" height=\"350\" alt=\"Header Primario minimo\"/></center>"
   ]
  },
  {
   "cell_type": "markdown",
   "metadata": {
    "slideshow": {
     "slide_type": "subslide"
    }
   },
   "source": [
    "- Headers de ejemplo\n",
    "<center><img src=\"images/minimal_primaryHDU.png\" height=\"150\" alt=\"Header Primario minimo\"/></center>"
   ]
  },
  {
   "cell_type": "markdown",
   "metadata": {
    "slideshow": {
     "slide_type": "subslide"
    }
   },
   "source": [
    "<center><img src=\"images/minimal_extensionHDU.png\" height=\"150\" alt=\"Header Primario minimo\"/></center>\n"
   ]
  },
  {
   "cell_type": "markdown",
   "metadata": {
    "slideshow": {
     "slide_type": "subslide"
    }
   },
   "source": [
    "### Utilidades del estandar\n",
    "\n",
    "- Sistema de expresion de unidades\n",
    "- Soporta enteros y flotantes, pero no complejos *dentro del estandar*\n",
    "- Soporta multiplos y submultiplos\n",
    "- `CHECKSUM` & `DATASUM`: comprobación de integridad de los archivos\n",
    "- _World Coordinate System_ distortion polynomials\n",
    "- HEALPix standar transformations"
   ]
  },
  {
   "cell_type": "markdown",
   "metadata": {
    "slideshow": {
     "slide_type": "subslide"
    }
   },
   "source": [
    "<center><img src=\"images/basic_unit_expression.png\" height=\"150\" alt=\"Expresiones de unidades basicas\"/></center>\n"
   ]
  },
  {
   "cell_type": "markdown",
   "metadata": {
    "slideshow": {
     "slide_type": "subslide"
    }
   },
   "source": [
    "<center><img src=\"images/scaling_multiples.png\" height=\"150\" alt=\"Expresiones de unidades basicas\"/></center>\n"
   ]
  },
  {
   "cell_type": "markdown",
   "metadata": {
    "slideshow": {
     "slide_type": "subslide"
    }
   },
   "source": [
    "<center><img src=\"images/BITPIX_values.png\" height=\"150\" alt=\"Expresiones de unidades basicas\"/></center>\n"
   ]
  },
  {
   "cell_type": "markdown",
   "metadata": {
    "slideshow": {
     "slide_type": "slide"
    }
   },
   "source": [
    "## Libreria estandar `cfitsio` y `astropy-utils`"
   ]
  },
  {
   "cell_type": "markdown",
   "metadata": {
    "slideshow": {
     "slide_type": "fragment"
    }
   },
   "source": [
    "La librería base para leer y escribir FITS consiste en CFitsIO.\n",
    "\n",
    "Posee diversos componentes:\n",
    "- Libreria de subrutinas de Fortran y C\n",
    "- Soporte de Checksum para integridad de datos\n",
    "- Libreria de compresion _fpack_ \n",
    "- Visor de imagenes `fv`\n",
    "\n",
    "Como obtenerla:\n",
    "\n",
    "```bash\n",
    "sudo apt install libcfitsio8 libcfitsio-bin python3-fitsio ftools-fv \n",
    "```\n",
    "\n",
    "Además en `astropy` se ofrecen utilidades para la línea de comandos que estan buenas:\n",
    "```bash\n",
    "sudo apt install python-astropy astropy-utils\n",
    "```"
   ]
  },
  {
   "cell_type": "markdown",
   "metadata": {
    "slideshow": {
     "slide_type": "subslide"
    }
   },
   "source": [
    "#### Demo en terminal\n",
    "\n",
    "```bash\n",
    "carbonphoenix ~ > fits\n",
    "fits2bitmap  fitscopy     fitshdr      fitsmd5      fitstopnm    \n",
    "fits2table   fitscut      fitsheader   fitsort      fitsverify   \n",
    "fitscheck    fitsdiff     fitsinfo     fitspng      \n",
    "```\n",
    "\n",
    "Se prueba:\n",
    "- Abrir una imagen con un `cat`, `more`, y `fitsinfo`, `fitshdr`, `fitsheader`\n",
    "- Chequear `CHECKSUM` con `fitsverify` y validar con `fitsmd5`\n",
    "- Fijarse en `fitsdiff`, `fitsort`\n",
    "- Transformar en `png` con `fitspng`, `fitstopnm` `fits2bitmap`\n",
    "- Hacer una compresion con `fpack`"
   ]
  },
  {
   "cell_type": "markdown",
   "metadata": {
    "slideshow": {
     "slide_type": "subslide"
    }
   },
   "source": [
    "Los comandos a ver (aprox):\n",
    "\n",
    "```bash\n",
    "cat eso085-030-001.fit\n",
    "more eso085-030-001.fit\n",
    "fitsinfo eso085-030-001.fit\n",
    "fitshdr eso085-030-001.fit\n",
    "fitsheader eso085-030-001.fit\n",
    "fitsverify eso085-030-001.fit\n",
    "fitsmd5 esto085-030-001.fit\n",
    "fitsdiff eso085-030-001.fit eso085-030-003.fit\n",
    "fitspng eso085-030-001.fit\n",
    "fitstopnm eso085-030-001.fit > test.pnm\n",
    "fits2bitmap eso085-030-001.fit\n",
    "fpack -v eso085-030-001.fit\n",
    "```\n",
    "\n",
    "Existe posibilidad de acceder a las distintas unidades con `[ ]`:\n",
    "```bash\n",
    "fitspng calexp_01220258-r-R10-S11-det031.fits[1]\n",
    "```"
   ]
  },
  {
   "cell_type": "markdown",
   "metadata": {
    "slideshow": {
     "slide_type": "subslide"
    }
   },
   "source": [
    "* Nota sobre `fpack`:\n",
    "    * La compresion que implementa es de tipo Rice Compression y es muy util\n",
    "    * Puede reducir en un 6x el espacio en disco casi sin perdida.\n",
    "    * La perdida es funcion del tipo de pixel, y del ruido en las imagenes, cualquier distribucion complicada es dificil de comprimir\n",
    "   \n",
    "<center><img src=\"images/rice_factor_fpack.png\" height=\"150\" alt=\"Expresiones de unidades basicas\"/></center>\n",
    "\n",
    "<center><img src=\"images/compressionratio_vs_noise.png\" height=\"150\" alt=\"Expresiones de unidades basicas\"/></center>"
   ]
  },
  {
   "cell_type": "markdown",
   "metadata": {
    "slideshow": {
     "slide_type": "subslide"
    }
   },
   "source": [
    "### DS9\n",
    "\n",
    "```bash\n",
    "sudo apt install saods9\n",
    "```\n",
    "\n",
    "DS9 es una herramienta de visualizacion de imágenes\n",
    "- Puede abrir una extension en un frame a la vez\n",
    "\n",
    "```bash\n",
    "ds9 eso085-030-003.fit \n",
    "```\n",
    "\n",
    "- Acepta muchas opciones y en realidad esto tiene muchisima funcionalidad\n",
    "\n",
    "```bash\n",
    "ds9 eso085-030-003.fit -scale mode zscale -scale asinh -scale limits 0 5 -smooth yes -smooth function tophat -smooth radius 1 \n",
    "```"
   ]
  },
  {
   "cell_type": "markdown",
   "metadata": {
    "slideshow": {
     "slide_type": "subslide"
    }
   },
   "source": [
    "### fv\n",
    "\n",
    "`fv` es otra herramienta para inspeccionar las imagenes\n",
    "- Puede abrir una extension en un frame a la vez\n",
    "\n",
    "```bash\n",
    "fv eso085-030-003.fit \n",
    "```\n",
    "\n",
    "Es muy poco usada"
   ]
  },
  {
   "cell_type": "markdown",
   "metadata": {
    "slideshow": {
     "slide_type": "subslide"
    }
   },
   "source": [
    "- Usualmente uno llama `imagen` a cualquier FITS file, y la extension de los archivos varia: .FITS, .FIT, .fits, .fit\n",
    "- Es muy variado como los distintos instrumentos guardan datos en formato FITS, esto no es _standard_\n",
    "- El estandar especifica muchisimos detalles para las extensiones tipo tabla binaria y tabla"
   ]
  },
  {
   "cell_type": "markdown",
   "metadata": {
    "slideshow": {
     "slide_type": "slide"
    }
   },
   "source": [
    "### `astropy.io.fits`\n",
    "\n",
    "La libreria `astropy` posee utilidades para crear, leer y modificar archivos siguiendo formato FITS"
   ]
  },
  {
   "cell_type": "code",
   "execution_count": null,
   "metadata": {
    "slideshow": {
     "slide_type": "fragment"
    }
   },
   "outputs": [],
   "source": [
    "# modulos que necesitamos\n",
    "import numpy as np\n",
    "from astropy.io import fits"
   ]
  },
  {
   "cell_type": "code",
   "execution_count": null,
   "metadata": {
    "slideshow": {
     "slide_type": "fragment"
    }
   },
   "outputs": [],
   "source": [
    "# Algun que otro path para cargar una imagen o almacenar\n",
    "from pathlib import Path\n",
    "images = Path('./images')"
   ]
  },
  {
   "cell_type": "markdown",
   "metadata": {
    "slideshow": {
     "slide_type": "subslide"
    }
   },
   "source": [
    "Podemos abrir un archivo FITS como una imagen con"
   ]
  },
  {
   "cell_type": "code",
   "execution_count": null,
   "metadata": {
    "slideshow": {
     "slide_type": "fragment"
    }
   },
   "outputs": [],
   "source": [
    "hdulist = fits.open(images / 'eso085-030-001.fit')"
   ]
  },
  {
   "cell_type": "code",
   "execution_count": null,
   "metadata": {
    "slideshow": {
     "slide_type": "fragment"
    }
   },
   "outputs": [],
   "source": [
    "print(hdulist.info())"
   ]
  },
  {
   "cell_type": "markdown",
   "metadata": {
    "slideshow": {
     "slide_type": "fragment"
    }
   },
   "source": [
    "Como vemos se obtiene la misma informacion que en la linea de comandos.   "
   ]
  },
  {
   "cell_type": "markdown",
   "metadata": {
    "slideshow": {
     "slide_type": "fragment"
    }
   },
   "source": [
    "Se pueden abrir con contexto, como un `with open as...` y cierra el archivo, sino necesitamos ejecutar `hdulist.close()`"
   ]
  },
  {
   "cell_type": "markdown",
   "metadata": {
    "slideshow": {
     "slide_type": "slide"
    }
   },
   "source": [
    "Para acceder a las diferentes unidades se usa igual que una coleccion:"
   ]
  },
  {
   "cell_type": "code",
   "execution_count": null,
   "metadata": {
    "slideshow": {
     "slide_type": "subslide"
    }
   },
   "outputs": [],
   "source": [
    "fits_image_filename = fits.util.get_testdata_filepath('test0.fits')\n",
    "hdulist = fits.open(fits_image_filename)\n",
    "print(hdulist.info())"
   ]
  },
  {
   "cell_type": "code",
   "execution_count": null,
   "metadata": {
    "slideshow": {
     "slide_type": "subslide"
    }
   },
   "outputs": [],
   "source": [
    "print(repr(hdulist[0].header))"
   ]
  },
  {
   "cell_type": "code",
   "execution_count": null,
   "metadata": {
    "scrolled": true,
    "slideshow": {
     "slide_type": "subslide"
    }
   },
   "outputs": [],
   "source": [
    "hdulist[1].header"
   ]
  },
  {
   "cell_type": "code",
   "execution_count": null,
   "metadata": {
    "slideshow": {
     "slide_type": "subslide"
    }
   },
   "outputs": [],
   "source": [
    "hdulist[1].header['BITPIX']"
   ]
  },
  {
   "cell_type": "code",
   "execution_count": null,
   "metadata": {},
   "outputs": [],
   "source": [
    "hdulist[1].header[2:10]"
   ]
  },
  {
   "cell_type": "code",
   "execution_count": null,
   "metadata": {
    "slideshow": {
     "slide_type": "fragment"
    }
   },
   "outputs": [],
   "source": [
    "# los datos se acceden con el atributo `data`\n",
    "print(hdulist[0].data)"
   ]
  },
  {
   "cell_type": "code",
   "execution_count": null,
   "metadata": {
    "slideshow": {
     "slide_type": "fragment"
    }
   },
   "outputs": [],
   "source": [
    "print(hdulist[1].data)"
   ]
  },
  {
   "cell_type": "code",
   "execution_count": null,
   "metadata": {
    "slideshow": {
     "slide_type": "subslide"
    }
   },
   "outputs": [],
   "source": [
    "# podemos continuar con el tutorial de astropy\n",
    "# ya que contiene aproximadamente todo lo que \n",
    "# se puede hacer con este modulo\n",
    "... "
   ]
  },
  {
   "cell_type": "markdown",
   "metadata": {
    "slideshow": {
     "slide_type": "subslide"
    }
   },
   "source": [
    "Uno puede modificar un archivo existente:"
   ]
  },
  {
   "cell_type": "code",
   "execution_count": null,
   "metadata": {
    "slideshow": {
     "slide_type": "fragment"
    }
   },
   "outputs": [],
   "source": [
    "hdulist = fits.open(images / 'eso085-030-001.fit', mode='update')"
   ]
  },
  {
   "cell_type": "code",
   "execution_count": null,
   "metadata": {
    "slideshow": {
     "slide_type": "fragment"
    }
   },
   "outputs": [],
   "source": [
    "hdulist[0].header"
   ]
  },
  {
   "cell_type": "code",
   "execution_count": null,
   "metadata": {
    "slideshow": {
     "slide_type": "subslide"
    }
   },
   "outputs": [],
   "source": [
    "hdulist[0].header['NOTES  '] = 'Modified by Bruno ;)'"
   ]
  },
  {
   "cell_type": "code",
   "execution_count": null,
   "metadata": {
    "slideshow": {
     "slide_type": "fragment"
    }
   },
   "outputs": [],
   "source": [
    "hdulist[0].header[-5:]"
   ]
  },
  {
   "cell_type": "code",
   "execution_count": null,
   "metadata": {
    "slideshow": {
     "slide_type": "fragment"
    }
   },
   "outputs": [],
   "source": [
    "# hdulist.writeto('modified.fits')\n",
    "hdulist.flush()"
   ]
  },
  {
   "cell_type": "markdown",
   "metadata": {
    "slideshow": {
     "slide_type": "subslide"
    }
   },
   "source": [
    "Para crear uno nuevo necesitamos si o si crear una instancia de `PrimaryHDU`"
   ]
  },
  {
   "cell_type": "code",
   "execution_count": null,
   "metadata": {
    "slideshow": {
     "slide_type": "fragment"
    }
   },
   "outputs": [],
   "source": [
    "n = np.arange(100.0)\n",
    "hdu = fits.PrimaryHDU(n)\n",
    "\n",
    "n2 = np.random.random(size=(30, 30))\n",
    "hdu2 = fits.ImageHDU(n2)\n",
    "\n",
    "hdul = fits.HDUList([hdu, hdu2])"
   ]
  },
  {
   "cell_type": "code",
   "execution_count": null,
   "metadata": {
    "slideshow": {
     "slide_type": "fragment"
    }
   },
   "outputs": [],
   "source": [
    "hdul.writeto('new1.fits')"
   ]
  },
  {
   "cell_type": "markdown",
   "metadata": {
    "slideshow": {
     "slide_type": "subslide"
    }
   },
   "source": [
    "Hay mucho mas para ver, por ejemplo como abrir imagenes grandes o MEF, tambien como crear una tabla binaria (un formato *muy eficiente*)."
   ]
  },
  {
   "cell_type": "markdown",
   "metadata": {
    "slideshow": {
     "slide_type": "fragment"
    }
   },
   "source": [
    "Sin embargo lo que mas me gusta son los atajos:"
   ]
  },
  {
   "cell_type": "code",
   "execution_count": null,
   "metadata": {
    "slideshow": {
     "slide_type": "fragment"
    }
   },
   "outputs": [],
   "source": [
    "header = fits.getheader(images / 'eso085-030-001.fit')\n",
    "data = fits.getdata(images / 'eso085-030-001.fit')\n",
    "notas = fits.getval(images / 'eso085-030-001.fit', 'OBJECT  ', 0)"
   ]
  },
  {
   "cell_type": "code",
   "execution_count": null,
   "metadata": {
    "slideshow": {
     "slide_type": "fragment"
    }
   },
   "outputs": [],
   "source": [
    "print(notas)"
   ]
  },
  {
   "cell_type": "code",
   "execution_count": null,
   "metadata": {
    "slideshow": {
     "slide_type": "fragment"
    }
   },
   "outputs": [],
   "source": [
    "header['TELESCOP'] = 'TORITOS'\n",
    "fits.update(images / 'eso085-030-001.fit', data, header, ext=0)"
   ]
  }
 ],
 "metadata": {
  "celltoolbar": "Slideshow",
  "kernelspec": {
   "display_name": "Python 3.8.2 64-bit ('benv3': venv)",
   "language": "python",
   "name": "python38264bitbenv3venv487a3d16573a497ea93e5320a879872a"
  },
  "language_info": {
   "codemirror_mode": {
    "name": "ipython",
    "version": 3
   },
   "file_extension": ".py",
   "mimetype": "text/x-python",
   "name": "python",
   "nbconvert_exporter": "python",
   "pygments_lexer": "ipython3",
   "version": "3.8.5"
  }
 },
 "nbformat": 4,
 "nbformat_minor": 4
}
