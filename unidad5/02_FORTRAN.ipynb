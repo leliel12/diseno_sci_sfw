{
 "cells": [
  {
   "cell_type": "markdown",
   "metadata": {
    "slideshow": {
     "slide_type": "slide"
    }
   },
   "source": [
    "\n",
    "# Diseño de software para cómputo científico\n",
    "\n",
    "----\n",
    "\n",
    "## Unidad 5: Integración con lenguajes de alto nivel con bajo nivel.\n"
   ]
  },
  {
   "cell_type": "markdown",
   "metadata": {
    "slideshow": {
     "slide_type": "slide"
    }
   },
   "source": [
    "## Agenda de la Unidad 5\n",
    "\n",
    "- JIT (Numba)\n",
    "- Cython.\n",
    "- **Integración de Python con FORTRAN.**\n",
    "- Integración de Python con C. \n",
    "\n"
   ]
  },
  {
   "cell_type": "markdown",
   "metadata": {
    "slideshow": {
     "slide_type": "slide"
    }
   },
   "source": [
    "## Recapitulando\n",
    "\n",
    "- Escribimos el código Python.\n",
    "- Pasamos todo a numpy.\n",
    "- Hicimos profile.\n",
    "- Paralelisamos (joblib/dask).\n",
    "- Hicimos profile.\n",
    "- Usamos Numba.\n",
    "- Hicimos profile.\n",
    "- Si podemos elegir el lenguaje: Cython\n",
    "    - Si no podemos elegir el lenguaje y vamos a hacer cómputo numérico FORTRAN.\n"
   ]
  },
  {
   "cell_type": "markdown",
   "metadata": {
    "slideshow": {
     "slide_type": "slide"
    }
   },
   "source": [
    "## Fortran\n",
    "\n",
    "- Previamente FORTRAN, contracción del inglés The IBM Mathematical Formula Translating System.\n",
    "- Es un lenguaje de programación de alto nivel de propósito general, procedimental e imperativo, que está especialmente adaptado al cálculo numérico y a la computación científica.\n",
    "- Desarrollado originalmente por IBM en 1957 por John Backus.\n",
    "- Es una familia de lenguajes los cuales incluyen entre otros: FORTRAN - FORTRAN II - FORTRAN 77 - Fortran 95 - Fortran 2018.\n",
    "\n",
    "\n",
    "<img src=\"imgs/fortrancard.png\" style=\"width=50px\">"
   ]
  },
  {
   "cell_type": "markdown",
   "metadata": {
    "slideshow": {
     "slide_type": "fragment"
    }
   },
   "source": [
    "La tesis de Apu esta hecha probablemente en FORTRAN o algún tipo de Assembler.\n",
    "![imgs/apuphd.img](imgs/apuphd.gif)"
   ]
  },
  {
   "cell_type": "markdown",
   "metadata": {
    "slideshow": {
     "slide_type": "subslide"
    }
   },
   "source": [
    "## Características\n",
    "\n",
    "- **Alta performance:** Diseñado desde el comienzo para aplicaciones matemáticas e ingenieriles computacionalmente intensivas\n",
    "- **Tipeado estático:** Es de tipeado estático, lo que permite que el compilador encuentre incongruencias al momento de \n",
    "compilar (me salvó más de una vez)\n",
    "- **Fácil de aprender y usar:** Un poco debatible actualmente, pero las versiones de Fortran a partir de Fortran 90 son bastante amigables.\n",
    "A veces es más fácil quejarse de la herramienta que del herrero\n",
    "- **Versátil:** Actualmente Fortran puede escribirse en múltiples estilos:\n",
    "    - Imperativo\n",
    "    - Procedural\n",
    "    - Orientado a arrays\n",
    "    - Orientado a objetos (a partir de Fortran 2003)\n",
    "    - Funcional\n",
    "- **Nativamente paralelo:** Es fácil para realizar cómputo paralelo."
   ]
  },
  {
   "cell_type": "markdown",
   "metadata": {
    "slideshow": {
     "slide_type": "subslide"
    }
   },
   "source": [
    "## Código FORTRAN 77\n",
    "\n",
    "- Formato estático:\n",
    "    - Primeras 6 columnas tienen su significado\n",
    "    - A partir de la 7ma a 72 se escribe el código en sí\n",
    "```f77\n",
    "      SUBROUTINE FIB(A,N)\n",
    "C\n",
    "C     CALCULATE FIRST N FIBONACCI NUMBERS\n",
    "C\n",
    "      INTEGER N\n",
    "      REAL*8 A(N)\n",
    "      DO I=1,N\n",
    "         IF (I.EQ.1) THEN\n",
    "            A(I) = 0.0D0\n",
    "         ELSEIF (I.EQ.2) THEN\n",
    "            A(I) = 1.0D0\n",
    "         ELSE\n",
    "            A(I) = A(I-1) + A(I-2)\n",
    "         ENDIF\n",
    "      ENDDO\n",
    "      END\n",
    "```"
   ]
  },
  {
   "cell_type": "markdown",
   "metadata": {
    "slideshow": {
     "slide_type": "subslide"
    }
   },
   "source": [
    "## Estructura general código Fortran 90\n",
    "- Es de formato libre, aunque también es compatible con F77\n",
    "\n",
    "```for\n",
    "subroutine fib(a, n)\n",
    "    ! Calculate the first `n` Fibonacci numbers.\n",
    "    integer :: n\n",
    "    integer :: a(n)\n",
    "\n",
    "    do i = 1, n\n",
    "        if (i == 1) then\n",
    "            a(i) = 0\n",
    "        elseif (i == 2) then\n",
    "            a(i) = 1\n",
    "        else\n",
    "            a(i) = a(i-1) + a(i-2)\n",
    "        end if\n",
    "    end do\n",
    "end subroutine\n",
    "```"
   ]
  },
  {
   "cell_type": "code",
   "execution_count": 37,
   "metadata": {
    "scrolled": true,
    "slideshow": {
     "slide_type": "-"
    }
   },
   "outputs": [
    {
     "name": "stdout",
     "output_type": "stream",
     "text": [
      "The fortranmagic extension is already loaded. To reload it, use:\n",
      "  %reload_ext fortranmagic\n"
     ]
    }
   ],
   "source": [
    "#!pip install fortran-magic\n",
    "%load_ext fortranmagic"
   ]
  },
  {
   "cell_type": "markdown",
   "metadata": {
    "slideshow": {
     "slide_type": "slide"
    }
   },
   "source": [
    "## Hola mundo en Fortran 95"
   ]
  },
  {
   "cell_type": "code",
   "execution_count": 38,
   "metadata": {
    "slideshow": {
     "slide_type": "-"
    }
   },
   "outputs": [],
   "source": [
    "%%fortran\n",
    "\n",
    "subroutine hola_mundo(n)\n",
    "    integer :: n\n",
    "    character(len=12) :: msg\n",
    "    msg = 'Hola, mundo!'\n",
    "    \n",
    "    do i = 1, n\n",
    "        print *, msg\n",
    "    end do\n",
    "end subroutine"
   ]
  },
  {
   "cell_type": "code",
   "execution_count": 39,
   "metadata": {
    "scrolled": true,
    "slideshow": {
     "slide_type": "fragment"
    }
   },
   "outputs": [],
   "source": [
    "hola_mundo(5)"
   ]
  },
  {
   "cell_type": "markdown",
   "metadata": {
    "slideshow": {
     "slide_type": "slide"
    }
   },
   "source": [
    "## Cómo se compara Fortran con Python?"
   ]
  },
  {
   "cell_type": "code",
   "execution_count": 5,
   "metadata": {},
   "outputs": [],
   "source": [
    "%%fortran\n",
    "subroutine for_fib(a, n)\n",
    "    ! Calculate the first `n` Fibonacci numbers.\n",
    "    integer :: n\n",
    "    integer :: a(n)\n",
    "\n",
    "    do i = 1, n\n",
    "        if (i == 1) then\n",
    "            a(i) = 0\n",
    "        elseif (i == 2) then\n",
    "            a(i) = 1\n",
    "        else\n",
    "            a(i) = a(i-1) + a(i-2)\n",
    "        end if\n",
    "    end do\n",
    "end subroutine for_fib"
   ]
  },
  {
   "cell_type": "code",
   "execution_count": 7,
   "metadata": {
    "slideshow": {
     "slide_type": "subslide"
    }
   },
   "outputs": [],
   "source": [
    "import numba\n",
    "\n",
    "def py_fib(a):\n",
    "    n = len(a)\n",
    "    for i in range(n):\n",
    "        if i == 0:\n",
    "            a[i] = 0\n",
    "        elif i == 1:\n",
    "            a[i] = 1\n",
    "        else:\n",
    "            a[i] = a[i-1] + a[i-2]\n",
    "         \n",
    "@numba.jit\n",
    "def nb_fib(a):\n",
    "    n = len(a)\n",
    "    for i in range(n):\n",
    "        if i == 0:\n",
    "            a[i] = 0\n",
    "        elif i == 1:\n",
    "            a[i] = 1\n",
    "        else:\n",
    "            a[i] = a[i-1] + a[i-2]"
   ]
  },
  {
   "cell_type": "code",
   "execution_count": 9,
   "metadata": {
    "scrolled": false,
    "slideshow": {
     "slide_type": "subslide"
    }
   },
   "outputs": [
    {
     "name": "stdout",
     "output_type": "stream",
     "text": [
      "34.3 µs ± 271 ns per loop (mean ± std. dev. of 7 runs, 10000 loops each)\n",
      "96.5 ms ± 8.51 ms per loop (mean ± std. dev. of 7 runs, 10 loops each)\n",
      "95.7 µs ± 677 ns per loop (mean ± std. dev. of 7 runs, 10000 loops each)\n"
     ]
    }
   ],
   "source": [
    "import numpy as np\n",
    "\n",
    "a = np.ones(100_000, 'i')\n",
    "%timeit for_fib(a)\n",
    "\n",
    "a = [1 for i in range(100_000)]\n",
    "%timeit py_fib(a)\n",
    "\n",
    "a = np.ones(100_000, 'i')\n",
    "%timeit nb_fib(a)"
   ]
  },
  {
   "cell_type": "code",
   "execution_count": 40,
   "metadata": {},
   "outputs": [
    {
     "data": {
      "image/png": "[encoded data removed]",
      "text/plain": [
       "<Figure size 432x288 with 1 Axes>"
      ]
     },
     "metadata": {
      "needs_background": "light"
     },
     "output_type": "display_data"
    }
   ],
   "source": [
    "import matplotlib.pyplot as plt\n",
    "x = ['Nativo', 'Fortran','Numba']\n",
    "y = [96500, 34.3, 95.7]\n",
    "plt.bar(x,y)\n",
    "plt.show()"
   ]
  },
  {
   "cell_type": "markdown",
   "metadata": {
    "slideshow": {
     "slide_type": "subslide"
    }
   },
   "source": [
    "### Comparación en el cálculo de un set Julia\n",
    "\n",
    "https://pnavaro.github.io/python-fortran/03.julia-set.html\n",
    "\n",
    "<table>\n",
    "<td>\n",
    "<img src=\"imgs/juliatable.png\">\n",
    "</td>\n",
    "<td>\n",
    "<img src=\"imgs/juliaset.png\" style=\"width: 300px;\">\n",
    "</td>\n",
    "</table>"
   ]
  },
  {
   "cell_type": "markdown",
   "metadata": {
    "slideshow": {
     "slide_type": "slide"
    }
   },
   "source": [
    "# Integración de Fotran con Python\n",
    "(bueno, y cómo hacemos para que esto ande dentro de un programa de verdad?)"
   ]
  },
  {
   "cell_type": "markdown",
   "metadata": {
    "slideshow": {
     "slide_type": "subslide"
    }
   },
   "source": [
    "### F2PY\n",
    "\n",
    "- F2PY es una herramienta que permite la comunicación entre Python y Fortran. F2PY genera módulos de extensión (extension modules) para Python a partir de código Fortran, lo que permite:\n",
    "- Utilizar subrutinas, datos en bloques COMMON y variables en módulos de FORTRAN 77 o Fortran 90/95 desde    Python.\n",
    "- Llamar funciones de Python desde Fortran (callbacks).\n",
    "- Manejar automáticamente la diferencia entre arrays NumPy-contiguos (esto es, C-contiguos) y Fortran-contiguos.\n",
    "- Fue creado en 1999 por Pearu Peterson mientras era estudiante de doctorado en la Universidad Técnica de Tallin, y en 2005 después de varias versiones estables quedó incluido dentro de NumPy."
   ]
  },
  {
   "cell_type": "markdown",
   "metadata": {
    "slideshow": {
     "slide_type": "subslide"
    }
   },
   "source": [
    "## Instalación\n",
    "\n",
    "- Si tienen numpy tienen F2PY.\n",
    "- Necesitamos tener instalado `gfortran`.\n",
    "- Ademas vale la pena instalar para usar el *cell-magic* \n",
    "\n",
    "```bash\n",
    "$ pip install fortran-magic\n",
    "```"
   ]
  },
  {
   "cell_type": "markdown",
   "metadata": {
    "slideshow": {
     "slide_type": "subslide"
    }
   },
   "source": [
    "## Problemas de F2PY\n",
    "\n",
    "- F2PY funciona con FORTRAN 77 o Fortran 90/95 que no incluya características «modernas» como punteros, tipos derivados o arrays en forma asumida; prueba de ello es  SciPy. \n",
    "- El soporte de Fortran 90/95 es incompleto, a veces hay que editar las cabeceras manualmente (ya hablaremos de ellas)\n",
    "- Para código antiguo, especialmente para el muy antiguo, no hay problemas; para código nuevo y moderno hará falta un poco más de maña, pero el resultado merece la pena."
   ]
  },
  {
   "cell_type": "markdown",
   "metadata": {
    "slideshow": {
     "slide_type": "subslide"
    }
   },
   "source": [
    "# Compilado manual utilizando `f2py`\n",
    "\n",
    "Se considera que existen 3 formas de compilar código fortran a Python mediante f2py:\n",
    "\n",
    "- La rápida\n",
    "- La inteligente\n",
    "- La rápida e inteligente"
   ]
  },
  {
   "cell_type": "markdown",
   "metadata": {
    "slideshow": {
     "slide_type": "subslide"
    }
   },
   "source": [
    "## La rápida\n",
    "\n",
    "- Asumiendo que tenemos el mismo código fibonacci en un archivo llamado `fib.f90`\n",
    "- Podemos compilarlo manualmente haciendo:\n",
    "\n",
    "```bash\n",
    "$ f2py -c fib.f90 -m fib\n",
    "```\n",
    "- Esto crea un `vectores<ARCH>.so` o `.pyd`(Windows)"
   ]
  },
  {
   "cell_type": "code",
   "execution_count": 27,
   "metadata": {
    "scrolled": false
   },
   "outputs": [
    {
     "name": "stdout",
     "output_type": "stream",
     "text": [
      "\u001b[38;5;238m───────┬────────────────────────────────────────────────────────────────────────\u001b[0m\r\n",
      "       \u001b[38;5;238m│ \u001b[0mFile: \u001b[1mfortran/fib.for\u001b[0m\r\n",
      "\u001b[38;5;238m───────┼────────────────────────────────────────────────────────────────────────\u001b[0m\r\n",
      "\u001b[38;5;238m   1\u001b[0m   \u001b[38;5;238m│\u001b[0m \u001b[38;2;248;248;242m      \u001b[0m\u001b[38;2;102;217;239mSUBROUTINE\u001b[0m\u001b[38;2;248;248;242m \u001b[0m\u001b[38;2;166;226;46mFIB\u001b[0m\u001b[38;2;248;248;242m(\u001b[0m\u001b[38;2;253;151;31mA\u001b[0m\u001b[38;2;248;248;242m,\u001b[0m\u001b[38;2;253;151;31mN\u001b[0m\u001b[38;2;248;248;242m)\u001b[0m\r\n",
      "\u001b[38;5;238m   2\u001b[0m   \u001b[38;5;238m│\u001b[0m \u001b[38;2;117;113;94mC\u001b[0m\r\n",
      "\u001b[38;5;238m   3\u001b[0m   \u001b[38;5;238m│\u001b[0m \u001b[38;2;117;113;94mC     CALCULATE FIRST N FIBONACCI NUMBERS\u001b[0m\r\n",
      "\u001b[38;5;238m   4\u001b[0m   \u001b[38;5;238m│\u001b[0m \u001b[38;2;117;113;94mC\u001b[0m\r\n",
      "\u001b[38;5;238m   5\u001b[0m   \u001b[38;5;238m│\u001b[0m \u001b[38;2;248;248;242m      \u001b[0m\u001b[38;2;102;217;239mINTEGER\u001b[0m\u001b[38;2;248;248;242m N\u001b[0m\r\n",
      "\u001b[38;5;238m   6\u001b[0m   \u001b[38;5;238m│\u001b[0m \u001b[38;2;248;248;242m      \u001b[0m\u001b[38;2;102;217;239mREAL\u001b[0m\u001b[38;2;249;38;114m*\u001b[0m\u001b[38;2;190;132;255m8\u001b[0m\u001b[38;2;248;248;242m A(N)\u001b[0m\r\n",
      "\u001b[38;5;238m   7\u001b[0m   \u001b[38;5;238m│\u001b[0m \u001b[38;2;248;248;242m      \u001b[0m\u001b[38;2;249;38;114mDO\u001b[0m\u001b[38;2;248;248;242m \u001b[0m\u001b[38;2;248;248;242mI\u001b[0m\u001b[38;2;249;38;114m=\u001b[0m\u001b[38;2;190;132;255m1\u001b[0m\u001b[38;2;248;248;242m,N\u001b[0m\r\n",
      "\u001b[38;5;238m   8\u001b[0m   \u001b[38;5;238m│\u001b[0m \u001b[38;2;248;248;242m         \u001b[0m\u001b[38;2;249;38;114mIF\u001b[0m\u001b[38;2;248;248;242m (I\u001b[0m\u001b[38;2;249;38;114m.EQ.\u001b[0m\u001b[38;2;190;132;255m1\u001b[0m\u001b[38;2;248;248;242m) \u001b[0m\u001b[38;2;249;38;114mTHEN\u001b[0m\r\n",
      "\u001b[38;5;238m   9\u001b[0m   \u001b[38;5;238m│\u001b[0m \u001b[38;2;248;248;242m            A(I)\u001b[0m\u001b[38;2;249;38;114m = \u001b[0m\u001b[38;2;190;132;255m0.0D0\u001b[0m\r\n",
      "\u001b[38;5;238m  10\u001b[0m   \u001b[38;5;238m│\u001b[0m \u001b[38;2;248;248;242m         \u001b[0m\u001b[38;2;249;38;114mELSEIF\u001b[0m\u001b[38;2;248;248;242m (I\u001b[0m\u001b[38;2;249;38;114m.EQ.\u001b[0m\u001b[38;2;190;132;255m2\u001b[0m\u001b[38;2;248;248;242m) \u001b[0m\u001b[38;2;249;38;114mTHEN\u001b[0m\r\n",
      "\u001b[38;5;238m  11\u001b[0m   \u001b[38;5;238m│\u001b[0m \u001b[38;2;248;248;242m            A(I)\u001b[0m\u001b[38;2;249;38;114m = \u001b[0m\u001b[38;2;190;132;255m1.0D0\u001b[0m\r\n",
      "\u001b[38;5;238m  12\u001b[0m   \u001b[38;5;238m│\u001b[0m \u001b[38;2;248;248;242m         \u001b[0m\u001b[38;2;249;38;114mELSE\u001b[0m\r\n",
      "\u001b[38;5;238m  13\u001b[0m   \u001b[38;5;238m│\u001b[0m \u001b[38;2;248;248;242m            A(I)\u001b[0m\u001b[38;2;249;38;114m = \u001b[0m\u001b[38;2;248;248;242mA(I\u001b[0m\u001b[38;2;249;38;114m-\u001b[0m\u001b[38;2;190;132;255m1\u001b[0m\u001b[38;2;248;248;242m) \u001b[0m\u001b[38;2;249;38;114m+\u001b[0m\u001b[38;2;248;248;242m A(I\u001b[0m\u001b[38;2;249;38;114m-\u001b[0m\u001b[38;2;190;132;255m2\u001b[0m\u001b[38;2;248;248;242m)\u001b[0m\r\n",
      "\u001b[38;5;238m  14\u001b[0m   \u001b[38;5;238m│\u001b[0m \u001b[38;2;248;248;242m         \u001b[0m\u001b[38;2;249;38;114mENDIF\u001b[0m\r\n",
      "\u001b[38;5;238m  15\u001b[0m   \u001b[38;5;238m│\u001b[0m \u001b[38;2;248;248;242m      \u001b[0m\u001b[38;2;249;38;114mENDDO\u001b[0m\r\n",
      "\u001b[38;5;238m  16\u001b[0m   \u001b[38;5;238m│\u001b[0m \u001b[38;2;248;248;242m      \u001b[0m\u001b[38;2;249;38;114mEND\u001b[0m\r\n",
      "\u001b[38;5;238m───────┴────────────────────────────────────────────────────────────────────────\u001b[0m\r\n"
     ]
    }
   ],
   "source": [
    "#!cd fortran; f2py -c fib.for -m fib\n",
    "!bat fortran/fib.for"
   ]
  },
  {
   "cell_type": "code",
   "execution_count": 28,
   "metadata": {
    "scrolled": true,
    "slideshow": {
     "slide_type": "subslide"
    }
   },
   "outputs": [
    {
     "name": "stdout",
     "output_type": "stream",
     "text": [
      "fib(a,[n])\n",
      "\n",
      "Wrapper for ``fib``.\n",
      "\n",
      "Parameters\n",
      "----------\n",
      "a : input rank-1 array('d') with bounds (n)\n",
      "\n",
      "Other Parameters\n",
      "----------------\n",
      "n : input int, optional\n",
      "    Default: len(a)\n",
      "\n"
     ]
    }
   ],
   "source": [
    "from fortran.fib import fib\n",
    "print(fib.__doc__)"
   ]
  },
  {
   "cell_type": "markdown",
   "metadata": {
    "slideshow": {
     "slide_type": "slide"
    }
   },
   "source": [
    "## La forma inteligente: Ficheros `*.pyf`\n",
    "\n",
    "- Para generar módulos Python F2PY auto-genera (y luego elimina)archivos de cabecera de extensión `.pyf`\n",
    "- Las cabecera que  definen la interfaz a los subprogramas Fortran que se llamarán desde Python.\n",
    "- Por ejemplo, vamos a generar el fichero de cabecera de nuestro módulo de operaciones vectoriales:\n",
    "\n",
    "```bash\n",
    "$ f2py -h fib.pyf -m fib fib.for\n",
    "```\n",
    "\n",
    "> Con el argumento `-h` indicamos cómo queremos que se genere la cabecera, con `-m` el módulo correspondiente y por último incluimos el código fuente."
   ]
  },
  {
   "cell_type": "code",
   "execution_count": 29,
   "metadata": {},
   "outputs": [],
   "source": [
    "#!cd fortran; f2py -h fib.pyf -m fib fib.for"
   ]
  },
  {
   "cell_type": "markdown",
   "metadata": {
    "slideshow": {
     "slide_type": "subslide"
    }
   },
   "source": [
    "## Ficheros `*.pyf`\n",
    "\n",
    "```fortran\n",
    "!    -*- f90 -*-\n",
    "! Note: the context of this file is case sensitive.\n",
    "\n",
    "python module fib ! in \n",
    "    interface  ! in :fib\n",
    "        subroutine fib(a,n) ! in :fib:fib.for\n",
    "            real*8 dimension(n) :: a\n",
    "            integer, optional,check(len(a)>=n),depend(a) :: n=len(a)\n",
    "        end subroutine fib\n",
    "    end interface \n",
    "end python module fib\n",
    "\n",
    "! This file was auto-generated with f2py (version:1.21.2).\n",
    "! See http://cens.ioc.ee/projects/f2py2e/\n",
    "```\n"
   ]
  },
  {
   "cell_type": "markdown",
   "metadata": {
    "slideshow": {
     "slide_type": "subslide"
    }
   },
   "source": [
    "## Ficheros `*.pyf`\n",
    "\n",
    "- La sintaxis de los archivos `.pyf` es muy parecida a la de Fortran, pero no igual. \n",
    "- Aveces puede ser útil modificarla para ajustar algunas cosas.\n",
    "- Por ejemplo, hemos visto antes que F2PY ha transformado el argumento *n* de la subrutina en opcional, y desde Python nunca se utiliza. \n",
    "- Se puede ocultar con `intent(hide)` así\n",
    "\n",
    "```fortran\n",
    "<     real*8 dimension(n) :: a\n",
    "<     integer, optional,check(len(a)>=n),depend(a) :: n=len(a)\n",
    "---\n",
    ">     real*8, dimension(n), depends(n), intent(out) :: a\n",
    ">     integer, intent(in) :: n\n",
    "```\n",
    "\n",
    "Y lo compilamos con\n",
    "\n",
    "```bash\n",
    "$ f2py2 -c fib.f90 -m fib fib.pyf\n",
    "```\n",
    "Y si ahora probamos el módulo:"
   ]
  },
  {
   "cell_type": "code",
   "execution_count": 41,
   "metadata": {
    "scrolled": true,
    "slideshow": {
     "slide_type": "-"
    }
   },
   "outputs": [],
   "source": [
    "#!cd fortran; f2py -c fib_smart.pyf fib.for -m fib_smart\n",
    "#!cat fortran/fib_smart.pyf"
   ]
  },
  {
   "cell_type": "code",
   "execution_count": 32,
   "metadata": {
    "slideshow": {
     "slide_type": "subslide"
    }
   },
   "outputs": [
    {
     "name": "stdout",
     "output_type": "stream",
     "text": [
      "Documentación compilado directo:\n",
      "fib(a,[n])\n",
      "\n",
      "Wrapper for ``fib``.\n",
      "\n",
      "Parameters\n",
      "----------\n",
      "a : input rank-1 array('d') with bounds (n)\n",
      "\n",
      "Other Parameters\n",
      "----------------\n",
      "n : input int, optional\n",
      "    Default: len(a)\n",
      "\n",
      "\n",
      "=====================\n",
      "\n",
      "Documentación con documentación modificada:\n",
      "a = fib(n)\n",
      "\n",
      "Wrapper for ``fib``.\n",
      "\n",
      "Parameters\n",
      "----------\n",
      "n : input int\n",
      "\n",
      "Returns\n",
      "-------\n",
      "a : rank-1 array('d') with bounds (n)\n",
      "\n"
     ]
    }
   ],
   "source": [
    "from fortran.fib import fib\n",
    "print('Documentación compilado directo:')\n",
    "print(fib.__doc__)\n",
    "print('\\n=====================\\n')\n",
    "print('Documentación con documentación modificada:')\n",
    "from fortran.fib_smart import fib as fib_smart\n",
    "print(fib_smart.__doc__)"
   ]
  },
  {
   "cell_type": "markdown",
   "metadata": {
    "slideshow": {
     "slide_type": "slide"
    }
   },
   "source": [
    "## La inteligente y rápida: Directivas\n",
    "\n",
    "- Cuando podemos editar el código, es conveniente realizar estas aclaraciones dentro del mismo.\n",
    "- A veces estos ajustes de la interfaz se pueden incluir en el propio código fuente, sin necesidad de modificar las cabeceras. \n",
    "- Las directivas son comentarios en el código Fortran que F2PY puede entender e interpretar. Por ejemplo, si introducimos debajo de la línea 10 de nuestro archivo `fib.for`\n",
    "```fortran\n",
    "Cf2py intent(in) n\n",
    "Cf2py intent(out) a\n",
    "Cf2py depend(n) a\n",
    "```\n",
    "- `!f2py` para Fortran 90/95+, o `Cf2py` para código FORTRAN 77."
   ]
  },
  {
   "cell_type": "code",
   "execution_count": 42,
   "metadata": {},
   "outputs": [],
   "source": [
    "#!cd fortran; f2py -c -m fib_smart_quick fib_smart_quick.for"
   ]
  },
  {
   "cell_type": "code",
   "execution_count": 36,
   "metadata": {
    "slideshow": {
     "slide_type": "subslide"
    }
   },
   "outputs": [
    {
     "name": "stdout",
     "output_type": "stream",
     "text": [
      "a = fib(n)\n",
      "\n",
      "Wrapper for ``fib``.\n",
      "\n",
      "Parameters\n",
      "----------\n",
      "n : input int\n",
      "\n",
      "Returns\n",
      "-------\n",
      "a : rank-1 array('d') with bounds (n)\n",
      "\n"
     ]
    }
   ],
   "source": [
    "from fortran.fib_smart_quick import fib\n",
    "print(fib.__doc__)"
   ]
  },
  {
   "cell_type": "markdown",
   "metadata": {
    "slideshow": {
     "slide_type": "slide"
    }
   },
   "source": [
    "## Empaquetado \n",
    "### Bueno, y cómo metemos esto en un paquete?\n",
    "\n",
    "```python\n",
    "from numpy.distutils.core import setup, Extension\n",
    "\n",
    "EXTENSIONS = [\n",
    "    Extension(\n",
    "        name=\"fib\",\n",
    "        sources=[\"fib.for\"],\n",
    "        extra_compile_args=[],\n",
    "        extra_link_args=[],\n",
    "        f2py_options=None,\n",
    "    )\n",
    "]\n",
    "\n",
    "setup(\n",
    "    name=\"fortran_examples\",\n",
    "    ext_modules=EXTENSIONS\n",
    ")\n",
    "```\n",
    "\n",
    "- Esto anda $Sii$ usan `numpy.distutils.core.setup()`\n",
    "- Se compila con\n",
    "\n",
    "```bash\n",
    "$ python setup.py build_ext --inplace\n",
    "o\n",
    "$ pip install -e .\n",
    "```"
   ]
  },
  {
   "cell_type": "markdown",
   "metadata": {
    "slideshow": {
     "slide_type": "subslide"
    }
   },
   "source": [
    "## Nota al margen\n",
    "Al momento de la fecha numpy.distutils no es compatible con la versión más recién de `setuptools`, por lo que es neceario\n",
    "especificar una versión anterior en `pyproyect.toml`.\n",
    "\n",
    "```toml\n",
    "[build-system]\n",
    "build-backend = \"setuptools.build_meta\"\n",
    "requires = [\"setuptools==58.4.0\", \"numpy\"]\n",
    "```"
   ]
  },
  {
   "cell_type": "code",
   "execution_count": 22,
   "metadata": {
    "slideshow": {
     "slide_type": "subslide"
    }
   },
   "outputs": [],
   "source": [
    "from numpy.distutils.core import setup, Extension\n",
    "setup?"
   ]
  },
  {
   "cell_type": "code",
   "execution_count": 23,
   "metadata": {},
   "outputs": [],
   "source": [
    "Extension?"
   ]
  },
  {
   "cell_type": "markdown",
   "metadata": {
    "slideshow": {
     "slide_type": "slide"
    }
   },
   "source": [
    "# Recapitulando\n",
    "- Fortran es más viejo que todos los que están en el curso, en varios casos se pueden sumar dos o tres edades.\n",
    "- Es bastante rápido, siempre y cuando se trate de cálculos numéricos.\n",
    "- A partir de Fortran90 la escritura y lectura es bastante amena (siempre y cuando lo escriban bien)\n",
    "- La integración con Python usando `f2py` es, en la mayoría de los casos, bastante sencilla. Permitiendo tanto generar código de alta performance como traer programas ya implementados\n",
    "a Python para hacer algo más amigable\n",
    "    - DISCLAIMER: No siempre se puede hacer de manera directa y, muy probablemente (más aún si el código es viejo), sea necesario manipular el código Fortran"
   ]
  },
  {
   "cell_type": "markdown",
   "metadata": {
    "slideshow": {
     "slide_type": "slide"
    }
   },
   "source": [
    "## Referencias\n",
    "\n",
    "- https://fortran-lang.org/\n",
    "- https://en.wikipedia.org/wiki/Fortran\n",
    "- https://pybonacci.org/2013/02/22/integrar-fortran-con-python-usando-f2py/\n",
    "- https://numpy.org/devdocs/f2py/python-usage.html\n",
    "- https://gist.github.com/johntut/1d8edea1fd0f5f1c057c\n",
    "- https://www.youtube.com/watch?v=56M40Y2jl9Y"
   ]
  }
 ],
 "metadata": {
  "celltoolbar": "Slideshow",
  "kernelspec": {
   "display_name": "Python 3",
   "language": "python",
   "name": "python3"
  },
  "language_info": {
   "codemirror_mode": {
    "name": "ipython",
    "version": 3
   },
   "file_extension": ".py",
   "mimetype": "text/x-python",
   "name": "python",
   "nbconvert_exporter": "python",
   "pygments_lexer": "ipython3",
   "version": "3.9.7"
  }
 },
 "nbformat": 4,
 "nbformat_minor": 2
}
