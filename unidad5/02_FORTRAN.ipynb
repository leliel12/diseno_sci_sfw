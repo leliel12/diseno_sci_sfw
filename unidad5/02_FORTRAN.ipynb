{
 "cells": [
  {
   "cell_type": "markdown",
   "metadata": {
    "slideshow": {
     "slide_type": "slide"
    }
   },
   "source": [
    "\n",
    "# Diseño de software para cómputo científico\n",
    "\n",
    "----\n",
    "\n",
    "## Unidad 5: Integración con lenguajes de alto nivel con bajo nivel.\n"
   ]
  },
  {
   "cell_type": "markdown",
   "metadata": {
    "slideshow": {
     "slide_type": "slide"
    }
   },
   "source": [
    "## Agenda de la Unidad 5\n",
    "\n",
    "- JIT (Numba)\n",
    "- Cython.\n",
    "- **Integración de Python con FORTRAN.**\n",
    "- Integración de Python con C. \n",
    "\n"
   ]
  },
  {
   "cell_type": "markdown",
   "metadata": {
    "slideshow": {
     "slide_type": "slide"
    }
   },
   "source": [
    "## Recapitulando\n",
    "\n",
    "- Escribimos el código Python.\n",
    "- Pasamos todo a numpy.\n",
    "- Hicimos profile.\n",
    "- Paralelisamos (joblib/dask).\n",
    "- Hicimos profile.\n",
    "- Usamos Numba.\n",
    "- Hicimos profile.\n",
    "- Si podemos elegir el lenguaje: Cython\n",
    "    - Si no podemos elegir el lenguaje y vamos a hacer cómputo numérico FORTRAN.\n"
   ]
  },
  {
   "cell_type": "markdown",
   "metadata": {
    "slideshow": {
     "slide_type": "slide"
    }
   },
   "source": [
    "## Fortran\n",
    "\n",
    "- Previamente FORTRAN, contracción del inglés The IBM Mathematical Formula Translating System.\n",
    "- Es un lenguaje de programación de alto nivel de propósito general, procedimental e imperativo, que está especialmente adaptado al cálculo numérico y a la computación científica.\n",
    "- Desarrollado originalmente por IBM en 1957 por John Backus.\n",
    "- Es una familia de lenguajes los cuales incluyen entre otros: FORTRAN - FORTRAN II - FORTRAN 77 - Fortran 95 - Fortran 2018.\n",
    "\n",
    "![imgs/apuphd.img](imgs/apuphd.gif)"
   ]
  },
  {
   "cell_type": "markdown",
   "metadata": {
    "slideshow": {
     "slide_type": "fragment"
    }
   },
   "source": [
    "La tesis de Apu esta hecha probablemente en FORTRAN o algún tipo de Assembler."
   ]
  },
  {
   "cell_type": "markdown",
   "metadata": {
    "slideshow": {
     "slide_type": "slide"
    }
   },
   "source": [
    "### F2PY\n",
    "\n",
    "- F2PY es una herramienta que permite la comunicación entre Python y Fortran. F2PY genera módulos de extensión (extension modules) para Python a partir de código Fortran, lo que permite:\n",
    "- Utilizar subrutinas, datos en bloques COMMON y variables en módulos de FORTRAN 77 o Fortran 90/95 desde    Python.\n",
    "- Llamar funciones de Python desde Fortran (callbacks).\n",
    "- Manejar automáticamente la diferencia entre arrays NumPy-contiguos (esto es, C-contiguos) y Fortran-contiguos.\n",
    "- Fue creado en 1999 por Pearu Peterson mientras era estudiante de doctorado en la Universidad Técnica de Tallin, y en 2005 después de varias versiones estables quedó incluido dentro de NumPy."
   ]
  },
  {
   "cell_type": "markdown",
   "metadata": {
    "slideshow": {
     "slide_type": "slide"
    }
   },
   "source": [
    "## Problemas de F2PY\n",
    "\n",
    "- F2PY funciona con FORTRAN 77 o Fortran 90/95 que no incluya características «modernas» como punteros, tipos derivados o arrays en forma asumida; prueba de ello es  SciPy. \n",
    "- El soporte de Fortran 90/95 es incompleto, a veces hay que editar las cabeceras manualmente (ya hablaremos de ellas)\n",
    "- Para código antiguo, especialmente para el muy antiguo, no hay problemas; para código nuevo y moderno hará falta un poco más de maña, pero el resultado merece la pena."
   ]
  },
  {
   "cell_type": "markdown",
   "metadata": {
    "slideshow": {
     "slide_type": "slide"
    }
   },
   "source": [
    "## Instalación\n",
    "\n",
    "- Si tienen numpy tienen F2PY.\n",
    "- Necesitamos tener instalado `gfortran`.\n",
    "- Ademas vale la pena instalar para usar el *cell-magic* \n",
    "\n",
    "```bash\n",
    "$ pip install fortran-magic\n",
    "```"
   ]
  },
  {
   "cell_type": "code",
   "execution_count": 1,
   "metadata": {},
   "outputs": [
    {
     "name": "stdout",
     "output_type": "stream",
     "text": [
      "Requirement already satisfied: fortran-magic in /home/juan/proyectos/dis_ssw/lib/python3.8/site-packages (0.7)\n",
      "Requirement already satisfied: numpy in /home/juan/proyectos/dis_ssw/lib/python3.8/site-packages (from fortran-magic) (1.19.1)\n",
      "Requirement already satisfied: ipython in /home/juan/proyectos/dis_ssw/lib/python3.8/site-packages (from fortran-magic) (7.17.0)\n",
      "Requirement already satisfied: prompt-toolkit!=3.0.0,!=3.0.1,<3.1.0,>=2.0.0 in /home/juan/proyectos/dis_ssw/lib/python3.8/site-packages (from ipython->fortran-magic) (3.0.6)\n",
      "Requirement already satisfied: traitlets>=4.2 in /home/juan/proyectos/dis_ssw/lib/python3.8/site-packages (from ipython->fortran-magic) (4.3.3)\n",
      "Requirement already satisfied: pickleshare in /home/juan/proyectos/dis_ssw/lib/python3.8/site-packages (from ipython->fortran-magic) (0.7.5)\n",
      "Requirement already satisfied: pexpect; sys_platform != \"win32\" in /home/juan/proyectos/dis_ssw/lib/python3.8/site-packages (from ipython->fortran-magic) (4.8.0)\n",
      "Requirement already satisfied: pygments in /home/juan/proyectos/dis_ssw/lib/python3.8/site-packages (from ipython->fortran-magic) (2.6.1)\n",
      "Requirement already satisfied: setuptools>=18.5 in /home/juan/proyectos/dis_ssw/lib/python3.8/site-packages (from ipython->fortran-magic) (44.0.0)\n",
      "Requirement already satisfied: decorator in /home/juan/proyectos/dis_ssw/lib/python3.8/site-packages (from ipython->fortran-magic) (4.4.2)\n",
      "Requirement already satisfied: jedi>=0.10 in /home/juan/proyectos/dis_ssw/lib/python3.8/site-packages (from ipython->fortran-magic) (0.17.2)\n",
      "Requirement already satisfied: backcall in /home/juan/proyectos/dis_ssw/lib/python3.8/site-packages (from ipython->fortran-magic) (0.2.0)\n",
      "Requirement already satisfied: wcwidth in /home/juan/proyectos/dis_ssw/lib/python3.8/site-packages (from prompt-toolkit!=3.0.0,!=3.0.1,<3.1.0,>=2.0.0->ipython->fortran-magic) (0.2.5)\n",
      "Requirement already satisfied: six in /home/juan/proyectos/dis_ssw/lib/python3.8/site-packages (from traitlets>=4.2->ipython->fortran-magic) (1.14.0)\n",
      "Requirement already satisfied: ipython-genutils in /home/juan/proyectos/dis_ssw/lib/python3.8/site-packages (from traitlets>=4.2->ipython->fortran-magic) (0.2.0)\n",
      "Requirement already satisfied: ptyprocess>=0.5 in /home/juan/proyectos/dis_ssw/lib/python3.8/site-packages (from pexpect; sys_platform != \"win32\"->ipython->fortran-magic) (0.6.0)\n",
      "Requirement already satisfied: parso<0.8.0,>=0.7.0 in /home/juan/proyectos/dis_ssw/lib/python3.8/site-packages (from jedi>=0.10->ipython->fortran-magic) (0.7.1)\n"
     ]
    }
   ],
   "source": [
    "!pip install fortran-magic"
   ]
  },
  {
   "cell_type": "code",
   "execution_count": 2,
   "metadata": {},
   "outputs": [
    {
     "data": {
      "application/javascript": [
       "new Promise(function(resolve, reject) {\n",
       "\tvar script = document.createElement(\"script\");\n",
       "\tscript.onload = resolve;\n",
       "\tscript.onerror = reject;\n",
       "\tscript.src = \"https://raw.github.com/marijnh/CodeMirror/master/mode/fortran/fortran.js\";\n",
       "\tdocument.head.appendChild(script);\n",
       "}).then(() => {\n",
       "IPython.config.cell_magic_highlight['magic_fortran'] = {'reg':[/^%%fortran/]};\n",
       "});"
      ]
     },
     "metadata": {},
     "output_type": "display_data"
    }
   ],
   "source": [
    "%load_ext fortranmagic"
   ]
  },
  {
   "cell_type": "markdown",
   "metadata": {
    "slideshow": {
     "slide_type": "slide"
    }
   },
   "source": [
    "## Hola mundo en Fortran 95"
   ]
  },
  {
   "cell_type": "code",
   "execution_count": 3,
   "metadata": {
    "slideshow": {
     "slide_type": "slide"
    }
   },
   "outputs": [],
   "source": [
    "%%fortran\n",
    "\n",
    "subroutine hola_mundo(msg)\n",
    "    character(len=12), intent(out) :: msg\n",
    "    msg = 'Hola, mundo!'\n",
    "end subroutine"
   ]
  },
  {
   "cell_type": "code",
   "execution_count": 4,
   "metadata": {},
   "outputs": [
    {
     "data": {
      "text/plain": [
       "b'Hola, mundo!'"
      ]
     },
     "execution_count": 4,
     "metadata": {},
     "output_type": "execute_result"
    }
   ],
   "source": [
    "hola_mundo()"
   ]
  },
  {
   "cell_type": "code",
   "execution_count": 5,
   "metadata": {},
   "outputs": [],
   "source": [
    "hola_mundo?"
   ]
  },
  {
   "cell_type": "markdown",
   "metadata": {
    "slideshow": {
     "slide_type": "slide"
    }
   },
   "source": [
    "## Vectores"
   ]
  },
  {
   "cell_type": "markdown",
   "metadata": {},
   "source": [
    "```fortran\n",
    "module vectores\n",
    "    implicit none\n",
    "    contains\n",
    "\n",
    "    ! Producto escalar entre dos vectores u, v de longitud n\n",
    "    function producto_escalar(n, u, v) result(p)\n",
    "        integer, intent(in) :: n\n",
    "        double precision, intent(in) :: u(n), v(n)\n",
    "        double precision :: p\n",
    "        p = dot_product(u, v)\n",
    "    end function\n",
    "\n",
    "    ! Producto vectorial entre dos vectores u, v de longitud 3\n",
    "    function producto_vectorial(u, v) result(w)\n",
    "        double precision, intent(in) :: u(3), v(3)\n",
    "        double precision :: w(3)\n",
    "        w(1) = u(2) * v(3) - u(3) * v(2)\n",
    "        w(2) = u(3) * v(1) - u(1) * v(3)\n",
    "        w(3) = u(1) * v(2) - u(2) * v(1)\n",
    "    end function\n",
    "end module\n",
    "```"
   ]
  },
  {
   "cell_type": "code",
   "execution_count": 6,
   "metadata": {},
   "outputs": [],
   "source": [
    "%%fortran\n",
    "\n",
    "module vectores\n",
    "    implicit none\n",
    "    contains\n",
    "\n",
    "    ! Producto escalar entre dos vectores u, v de longitud n\n",
    "    function producto_escalar(n, u, v) result(p)\n",
    "        integer, intent(in) :: n\n",
    "        double precision, intent(in) :: u(n), v(n)\n",
    "        double precision :: p\n",
    "        p = dot_product(u, v)\n",
    "    end function\n",
    "\n",
    "    ! Producto vectorial entre dos vectores u, v de longitud 3\n",
    "    function producto_vectorial(u, v) result(w)\n",
    "        double precision, intent(in) :: u(3), v(3)\n",
    "        double precision :: w(3)\n",
    "        w(1) = u(2) * v(3) - u(3) * v(2)\n",
    "        w(2) = u(3) * v(1) - u(1) * v(3)\n",
    "        w(3) = u(1) * v(2) - u(2) * v(1)\n",
    "    end function\n",
    "end module"
   ]
  },
  {
   "cell_type": "markdown",
   "metadata": {
    "slideshow": {
     "slide_type": "slide"
    }
   },
   "source": [
    "## Vectores"
   ]
  },
  {
   "cell_type": "code",
   "execution_count": 12,
   "metadata": {},
   "outputs": [
    {
     "data": {
      "text/plain": [
       "-2.0"
      ]
     },
     "execution_count": 12,
     "metadata": {},
     "output_type": "execute_result"
    }
   ],
   "source": [
    "import numpy as np\n",
    "u = np.array([1, 2, 3])\n",
    "v = np.array([1, 0, -1])\n",
    "\n",
    "vectores.producto_escalar(u, v)"
   ]
  },
  {
   "cell_type": "code",
   "execution_count": 8,
   "metadata": {},
   "outputs": [
    {
     "data": {
      "text/plain": [
       "array([-2.,  4., -2.])"
      ]
     },
     "execution_count": 8,
     "metadata": {},
     "output_type": "execute_result"
    }
   ],
   "source": [
    "vectores.producto_vectorial(u, v)"
   ]
  },
  {
   "cell_type": "code",
   "execution_count": 13,
   "metadata": {},
   "outputs": [],
   "source": [
    "vectores.producto_escalar?"
   ]
  },
  {
   "cell_type": "markdown",
   "metadata": {
    "slideshow": {
     "slide_type": "slide"
    }
   },
   "source": [
    "## Compilando manualmente\n",
    "\n",
    "- Asumiendo que tenemos el mismo código vectores en un archivo llamado `vectores.f90`\n",
    "- Podemos compilarlo manualmente haciendo:\n",
    "\n",
    "```bash\n",
    "$ f2py -c vectores.f90 -m vectores\n",
    "```\n",
    "- Esto crea un `vectores<ARCH>.so` o `.pyd`(Windows)"
   ]
  },
  {
   "cell_type": "code",
   "execution_count": 16,
   "metadata": {
    "slideshow": {
     "slide_type": "-"
    }
   },
   "outputs": [
    {
     "name": "stdout",
     "output_type": "stream",
     "text": [
      "\u001b[0m\u001b[01;34mbuild\u001b[0m/\r\n",
      "\u001b[01;32mhola_mundo_sub.cpython-37m-x86_64-linux-gnu.so\u001b[0m*\r\n",
      "hola_mundo_sub.f90\r\n",
      "\u001b[01;34m__pycache__\u001b[0m/\r\n",
      "setup.py\r\n",
      "\u001b[01;32mvectores.cpython-37m-x86_64-linux-gnu.so\u001b[0m*\r\n",
      "\u001b[01;32mvectores.cpython-38-x86_64-linux-gnu.so\u001b[0m*\r\n",
      "vectores.f90\r\n",
      "vectores.pyf\r\n"
     ]
    }
   ],
   "source": [
    "ls fortran/"
   ]
  },
  {
   "cell_type": "markdown",
   "metadata": {
    "slideshow": {
     "slide_type": "slide"
    }
   },
   "source": [
    "## Ficheros `*.pyf`\n",
    "\n",
    "- Para generar módulos Python F2PY auto-genera (y luego elimina)archivos de cabecera de extensión `.pyf`\n",
    "- Las cabecera que  definen la interfaz a los subprogramas Fortran que se llamarán desde Python.\n",
    "- Por ejemplo, vamos a generar el fichero de cabecera de nuestro módulo de operaciones vectoriales:\n",
    "\n",
    "```bash\n",
    "$ f2py -h vectores.pyf -m vectores vectores.f90\n",
    "```\n",
    "\n",
    "> Con el argumento `-h` indicamos cómo queremos que se genere la cabecera, con `-m` el módulo correspondiente y por último incluimos el código fuente. "
   ]
  },
  {
   "cell_type": "markdown",
   "metadata": {
    "slideshow": {
     "slide_type": "slide"
    }
   },
   "source": [
    "## Ficheros `*.pyf`\n",
    "\n",
    "```fortran\n",
    "!    -*- f90 -*-\n",
    "! Note: the context of this file is case sensitive.\n",
    "python module vectores ! in \n",
    "    interface  ! in :vectores\n",
    "        module vectores ! in :vectores:vectores.f90\n",
    "            function producto_escalar(n,u,v) result (p) ! in :vectores:vectores.f90:vectores\n",
    "                integer, optional,intent(in),check(len(u)>=n),depend(u) :: n=len(u)\n",
    "                double precision dimension(n),intent(in) :: u\n",
    "                double precision dimension(n),intent(in),depend(n) :: v\n",
    "                double precision :: p\n",
    "            end function producto_escalar\n",
    "            function producto_vectorial(u,v) result (w) ! in :vectores:vectores.f90:vectores\n",
    "                double precision dimension(3),intent(in) :: u\n",
    "                double precision dimension(3),intent(in) :: v\n",
    "                double precision dimension(3) :: w\n",
    "            end function producto_vectorial\n",
    "        end module vectores\n",
    "    end interface \n",
    "end python module vectores\n",
    "! This file was auto-generated with f2py (version:2).\n",
    "! See http://cens.ioc.ee/projects/f2py2e/\n",
    "```\n"
   ]
  },
  {
   "cell_type": "markdown",
   "metadata": {
    "slideshow": {
     "slide_type": "slide"
    }
   },
   "source": [
    "## Ficheros `*.pyf`\n",
    "\n",
    "- La sintaxis de los archivos `.pyf` es muy parecida a la de Fortran, pero no igual. \n",
    "- Aveces puede ser útil modificarla para ajustar algunas cosas.\n",
    "- Por ejemplo, hemos visto antes que F2PY ha transformado el argumento *n* de `producto_escalar` en opcional, y desde Python nunca se utiliza. \n",
    "- Se puede ocultar con `intent(hide)` así\n",
    "\n",
    "```fortran\n",
    "integer, optional,intent(hide),check(len(u)>=n),depend(u) :: n=len(u)\n",
    "```\n",
    "\n",
    "Y lo compilamos con\n",
    "\n",
    "```bash\n",
    "$ f2py2 -c vectores.f90 -m vectores vectores.pyf\n",
    "```\n",
    "Y si ahora probamos el módulo:"
   ]
  },
  {
   "cell_type": "code",
   "execution_count": 14,
   "metadata": {
    "slideshow": {
     "slide_type": "-"
    }
   },
   "outputs": [],
   "source": [
    "import sys; sys.path.insert(0, \"./fortran\")\n",
    "from vectores import vectores"
   ]
  },
  {
   "cell_type": "code",
   "execution_count": 15,
   "metadata": {},
   "outputs": [],
   "source": [
    "vectores.producto_escalar?"
   ]
  },
  {
   "cell_type": "markdown",
   "metadata": {
    "slideshow": {
     "slide_type": "slide"
    }
   },
   "source": [
    "## Directivas\n",
    "\n",
    "- A veces estos ajustes de la interfaz se pueden incluir en el propio código fuente, sin necesidad de modificar las cabeceras. \n",
    "- Las directivas son comentarios en el código Fortran que F2PY puede entender e interpretar. Por ejemplo, si introducimos debajo de la línea 10 de nuestro archivo `vectores.f90`\n",
    "```fortran\n",
    "!f2py intent(hide) :: n\n",
    "```\n",
    "- `!f2py` para Fortran 95, o `Cf2py` para código FORTRAN 77."
   ]
  },
  {
   "cell_type": "markdown",
   "metadata": {
    "slideshow": {
     "slide_type": "slide"
    }
   },
   "source": [
    "## Empaquetado \n",
    "\n",
    "```python\n",
    "from numpy.distutils.core import setup\n",
    "from numpy.distutils.core import Extension\n",
    "\n",
    "EXTENSIONS = [\n",
    "    Extension(name=\"vectores\",\n",
    "              sources=[\"vectores.f90\"],\n",
    "              extra_compile_args=[],\n",
    "              extra_link_args=[])]\n",
    "\n",
    "setup(name=\"fortran_examples\",\n",
    "      ext_modules=EXTENSIONS)\n",
    "```\n",
    "\n",
    "- Esto anda $Sii$ usan `numpy.distutils.core.setup()`\n",
    "- Se compila con\n",
    "\n",
    "```bash\n",
    "$ python setup.py build_ext --inplace\n",
    "```"
   ]
  },
  {
   "cell_type": "markdown",
   "metadata": {
    "slideshow": {
     "slide_type": "slide"
    }
   },
   "source": [
    "## Referencias\n",
    "\n",
    "- https://en.wikipedia.org/wiki/Fortran\n",
    "- https://pybonacci.org/2013/02/22/integrar-fortran-con-python-usando-f2py/\n",
    "- https://numpy.org/devdocs/f2py/python-usage.html\n",
    "- https://gist.github.com/johntut/1d8edea1fd0f5f1c057c"
   ]
  }
 ],
 "metadata": {
  "celltoolbar": "Slideshow",
  "kernelspec": {
   "display_name": "Python 3",
   "language": "python",
   "name": "python3"
  },
  "language_info": {
   "codemirror_mode": {
    "name": "ipython",
    "version": 3
   },
   "file_extension": ".py",
   "mimetype": "text/x-python",
   "name": "python",
   "nbconvert_exporter": "python",
   "pygments_lexer": "ipython3",
   "version": "3.8.5"
  }
 },
 "nbformat": 4,
 "nbformat_minor": 2
}
