{
 "cells": [
  {
   "attachments": {
    "maybe.png": {
     "image/png": "[encoded data removed]"
    }
   },
   "cell_type": "markdown",
   "metadata": {
    "slideshow": {
     "slide_type": "slide"
    }
   },
   "source": [
    "\n",
    "# Diseño de software para cómputo científico\n",
    "\n",
    "----\n",
    "\n",
    "## Extra: Structural Pattern Matching (Match Statement)\n",
    "![maybe.png](attachment:maybe.png)"
   ]
  },
  {
   "cell_type": "markdown",
   "metadata": {
    "slideshow": {
     "slide_type": "slide"
    }
   },
   "source": [
    "## Introducción\n",
    "\n",
    "Algo parecido al reconocimiento de patrones ya existe en Python <= 3.9, pero es muy básico. Por ejemplo:"
   ]
  },
  {
   "cell_type": "code",
   "execution_count": 1,
   "metadata": {
    "slideshow": {
     "slide_type": "-"
    }
   },
   "outputs": [
    {
     "data": {
      "text/plain": [
       "(1, [2, 3, 4, 5], 6)"
      ]
     },
     "execution_count": 1,
     "metadata": {},
     "output_type": "execute_result"
    }
   ],
   "source": [
    "x, *y, z = 1, 2, 3, 4, 5, 6\n",
    "x, y, z"
   ]
  },
  {
   "cell_type": "markdown",
   "metadata": {
    "slideshow": {
     "slide_type": "fragment"
    }
   },
   "source": [
    "A partir de Python 3.10 se introduce el statement **`match`**, permitiendo mayor flexibilidad y poder en el reconocimiento de patrones.\n",
    "\n",
    "Es similar al **`switch`** statement de lenguajes como C/C++, C# y Java.\n",
    "\n",
    "La gran diferencia es que el **switch** solo chequea igualdad, mientras que el **match** reconoce la estructura subyacente del objeto."
   ]
  },
  {
   "cell_type": "markdown",
   "metadata": {
    "slideshow": {
     "slide_type": "slide"
    }
   },
   "source": [
    "## Ejemplo 1"
   ]
  },
  {
   "cell_type": "code",
   "execution_count": null,
   "metadata": {},
   "outputs": [],
   "source": [
    "def match_errno(errno):\n",
    "    match errno:\n",
    "        case 0:\n",
    "            pass\n",
    "        case 1:\n",
    "            pass\n",
    "        case 42:\n",
    "            print(\"42!\")\n",
    "        case _:\n",
    "            print(\"wildcard\")"
   ]
  },
  {
   "cell_type": "code",
   "execution_count": null,
   "metadata": {
    "slideshow": {
     "slide_type": "fragment"
    }
   },
   "outputs": [],
   "source": [
    "match_errno(42)"
   ]
  },
  {
   "cell_type": "markdown",
   "metadata": {
    "slideshow": {
     "slide_type": "slide"
    }
   },
   "source": [
    "## Ejemplo 1: *The old way*"
   ]
  },
  {
   "cell_type": "code",
   "execution_count": null,
   "metadata": {},
   "outputs": [],
   "source": [
    "def match_errno(errno):\n",
    "    if errno == 0:\n",
    "        pass\n",
    "    elif errno == 1:\n",
    "        pass\n",
    "    elif errno == 42:\n",
    "        print(\"42!\")\n",
    "    else:\n",
    "        print(\"wildcard\")"
   ]
  },
  {
   "cell_type": "code",
   "execution_count": null,
   "metadata": {
    "slideshow": {
     "slide_type": "fragment"
    }
   },
   "outputs": [],
   "source": [
    "match_errno(42)"
   ]
  },
  {
   "cell_type": "markdown",
   "metadata": {
    "slideshow": {
     "slide_type": "slide"
    }
   },
   "source": [
    "## Interlude: Switch y por que en este caso aun nos conviene el if\n",
    "\n",
    "- En la mayoria de los lenguajes `switch` es una forma de abreviar el `if else`.\n",
    "- Originalmente solo aceptaba comparación contra literales.\n",
    "- Lenguajes mas modernos (o actualizados) soportan expresiones(C#, C/C++) y son más parecidos al Pattern matching.\n",
    "- Scala/Python directamente nunca tuvieron un `switch` y fueron directo al `match`."
   ]
  },
  {
   "cell_type": "markdown",
   "metadata": {
    "slideshow": {
     "slide_type": "slide"
    }
   },
   "source": [
    "## `switch` puro: Java vs Python\n",
    "\n",
    "```java\n",
    "// 36 caracteres de (switch-case-default-break)\n",
    "int a = 1;\n",
    "switch(a):\n",
    "    case 1:\n",
    "        System.out.println(\"One\"); break;\n",
    "    case 2:\n",
    "        System.out.println(\"Two\"); break;\n",
    "    default:\n",
    "        System.out.println(\"not 1, not 2\"); break;\n",
    "```"
   ]
  },
  {
   "cell_type": "code",
   "execution_count": 1,
   "metadata": {},
   "outputs": [
    {
     "name": "stdout",
     "output_type": "stream",
     "text": [
      "One\n"
     ]
    }
   ],
   "source": [
    "## 10 caracteres de if-elif-else\n",
    "a = 1\n",
    "if a == 1:\n",
    "    print(\"One\")\n",
    "elif 2:\n",
    "    print(\"Two\")\n",
    "else:\n",
    "    print(\"not 1, not 2\")"
   ]
  },
  {
   "cell_type": "markdown",
   "metadata": {
    "slideshow": {
     "slide_type": "slide"
    }
   },
   "source": [
    "## Ejemplo 2"
   ]
  },
  {
   "cell_type": "code",
   "execution_count": null,
   "metadata": {},
   "outputs": [],
   "source": [
    "def command_split(command):\n",
    "    match command.split():\n",
    "        case [\"make\"]:\n",
    "            print(\"default make\")\n",
    "        case [\"make\", cmd]:\n",
    "            print(f\"make command found: {cmd}\")\n",
    "        case [\"restart\"]:\n",
    "            print(\"restarting\")\n",
    "        case [\"rm\", *files]:\n",
    "            print(f\"deleting files: {files}\")\n",
    "        case _:\n",
    "            print(\"didn't match\")"
   ]
  },
  {
   "cell_type": "code",
   "execution_count": null,
   "metadata": {
    "slideshow": {
     "slide_type": "-"
    }
   },
   "outputs": [],
   "source": [
    "command_split(\"make\")"
   ]
  },
  {
   "cell_type": "code",
   "execution_count": null,
   "metadata": {
    "slideshow": {
     "slide_type": "fragment"
    }
   },
   "outputs": [],
   "source": [
    "command_split(\"make clean\")"
   ]
  },
  {
   "cell_type": "code",
   "execution_count": null,
   "metadata": {
    "slideshow": {
     "slide_type": "fragment"
    }
   },
   "outputs": [],
   "source": [
    "command_split(\"restart\")\n",
    "#command_split(\"rm a b c\")\n",
    "#command_split(\"doesnt match\")"
   ]
  },
  {
   "cell_type": "markdown",
   "metadata": {
    "slideshow": {
     "slide_type": "slide"
    }
   },
   "source": [
    "## Ejemplo 2: *The old way*"
   ]
  },
  {
   "cell_type": "code",
   "execution_count": null,
   "metadata": {},
   "outputs": [],
   "source": [
    "def command_split(command):\n",
    "    commands = command.split()\n",
    "    if commands == [\"make\"]:\n",
    "        print(\"default make\")\n",
    "    elif len(commands) == 2 and commands[0] == \"make\":\n",
    "        cmd = commands[1]\n",
    "        print(f\"make command found: {cmd}\")\n",
    "    elif commands == [\"restart\"]:\n",
    "        print(\"restarting\")\n",
    "    elif len(commands) >= 1 and commands[0] == \"rm\":\n",
    "        files = commands[1:]\n",
    "        print(f\"deleting files: {files}\")\n",
    "    else:\n",
    "        print(\"didn't match\")"
   ]
  },
  {
   "cell_type": "code",
   "execution_count": null,
   "metadata": {},
   "outputs": [],
   "source": [
    "command_split(\"make\")\n",
    "#command_split(\"make clean\")\n",
    "#command_split(\"restart\")\n",
    "#command_split(\"rm a b c\")\n",
    "#command_split(\"doesnt match\")"
   ]
  },
  {
   "cell_type": "markdown",
   "metadata": {
    "slideshow": {
     "slide_type": "slide"
    }
   },
   "source": [
    "## Ejemplo 3"
   ]
  },
  {
   "cell_type": "code",
   "execution_count": null,
   "metadata": {},
   "outputs": [],
   "source": [
    "def match_alternatives(command):\n",
    "    match command.split():\n",
    "        case [\"north\"] | [\"go\", \"north\"]:\n",
    "            print(\"going north\")\n",
    "        case [\"get\", obj] | [\"pick\", \"up\", obj] | [\"pick\", obj, \"up\"]:\n",
    "            print(f\"picking up: {obj}\")"
   ]
  },
  {
   "cell_type": "code",
   "execution_count": null,
   "metadata": {
    "slideshow": {
     "slide_type": "fragment"
    }
   },
   "outputs": [],
   "source": [
    "match_alternatives(\"go north\")"
   ]
  },
  {
   "cell_type": "code",
   "execution_count": null,
   "metadata": {
    "slideshow": {
     "slide_type": "fragment"
    }
   },
   "outputs": [],
   "source": [
    "match_alternatives(\"pick up sword\")"
   ]
  },
  {
   "cell_type": "markdown",
   "metadata": {
    "slideshow": {
     "slide_type": "slide"
    }
   },
   "source": [
    "## Ejemplo 3: *The old way*"
   ]
  },
  {
   "cell_type": "code",
   "execution_count": null,
   "metadata": {},
   "outputs": [],
   "source": [
    "def match_alternatives(command):\n",
    "    commands = command.split()\n",
    "    if commands == [\"north\"] or commands == [\"go\", \"north\"]:\n",
    "        print(\"going north\")\n",
    "    elif len(commands) == 2 and commands[0] == \"get\":\n",
    "        obj = commands[1]\n",
    "        print(f\"picking up: {obj}\")\n",
    "    elif len(commands) == 3 and commands[0:2] == [\"pick\", \"up\"]:\n",
    "        obj = commands[2]\n",
    "        print(f\"picking up: {obj}\")\n",
    "    elif len(commands) == 3 and commands[0] == \"pick\" and commands[2] == \"up\":\n",
    "        obj = commands[1]\n",
    "        print(f\"picking up: {obj}\")"
   ]
  },
  {
   "cell_type": "code",
   "execution_count": null,
   "metadata": {},
   "outputs": [],
   "source": [
    "match_alternatives(\"go north\")\n",
    "#match_alternatives(\"pick up sword\")"
   ]
  },
  {
   "cell_type": "markdown",
   "metadata": {
    "slideshow": {
     "slide_type": "slide"
    }
   },
   "source": [
    "## Ejemplo 4"
   ]
  },
  {
   "cell_type": "code",
   "execution_count": null,
   "metadata": {},
   "outputs": [],
   "source": [
    "def match_capture_subpattern(command):\n",
    "    match command.split():\n",
    "        case [\"go\", (\"north\" | \"south\" | \"east\" | \"west\") as direction]:\n",
    "            print(f\"going {direction}\")"
   ]
  },
  {
   "cell_type": "code",
   "execution_count": null,
   "metadata": {},
   "outputs": [],
   "source": [
    "match_capture_subpattern(\"go north\")\n",
    "#match_capture_subpattern(\"go east\")"
   ]
  },
  {
   "cell_type": "markdown",
   "metadata": {
    "slideshow": {
     "slide_type": "slide"
    }
   },
   "source": [
    "## Ejemplo 4: *The old way*"
   ]
  },
  {
   "cell_type": "code",
   "execution_count": null,
   "metadata": {},
   "outputs": [],
   "source": [
    "def match_capture_subpattern(command):\n",
    "    commands = command.split()\n",
    "    if len(commands) == 2 and commands[0] == \"go\" and commands[1] in {\"north\", \"south\", \"east\", \"west\"}:\n",
    "        direction = commands[1]\n",
    "        print(f\"going {direction}\")"
   ]
  },
  {
   "cell_type": "code",
   "execution_count": null,
   "metadata": {},
   "outputs": [],
   "source": [
    "match_capture_subpattern(\"go north\")\n",
    "#match_capture_subpattern(\"go east\")"
   ]
  },
  {
   "cell_type": "markdown",
   "metadata": {
    "slideshow": {
     "slide_type": "slide"
    }
   },
   "source": [
    "## Ejemplo 5"
   ]
  },
  {
   "cell_type": "code",
   "execution_count": null,
   "metadata": {},
   "outputs": [],
   "source": [
    "def match_guard(command, exits):\n",
    "    match command.split():\n",
    "        case [\"go\", direction] if direction in exits:\n",
    "            print(f\"going {direction}\")\n",
    "        case [\"go\", _]:\n",
    "            print(f\"can't go that way\")"
   ]
  },
  {
   "cell_type": "code",
   "execution_count": null,
   "metadata": {},
   "outputs": [],
   "source": [
    "match_guard(\"go north\", exits=[\"east\", \"south\"])\n",
    "#match_guard(\"go north\", exits=[\"north\"])"
   ]
  },
  {
   "cell_type": "markdown",
   "metadata": {
    "slideshow": {
     "slide_type": "slide"
    }
   },
   "source": [
    "## Ejemplo 5: *The old way*"
   ]
  },
  {
   "cell_type": "code",
   "execution_count": null,
   "metadata": {},
   "outputs": [],
   "source": [
    "def match_guard(command, exits):\n",
    "    commands = command.split()\n",
    "    if len(commands) == 2 and commands[0] == \"go\" and commands[1] in exits:\n",
    "        direction = commands[1]\n",
    "        print(f\"going {direction}\")\n",
    "    elif len(commands) == 2 and commands[0] == \"go\":\n",
    "        print(f\"can't go that way\")"
   ]
  },
  {
   "cell_type": "code",
   "execution_count": null,
   "metadata": {},
   "outputs": [],
   "source": [
    "match_guard(\"go north\", exits=[\"east\", \"south\"])\n",
    "#match_guard(\"go north\", exits=[\"north\"])"
   ]
  },
  {
   "cell_type": "markdown",
   "metadata": {
    "slideshow": {
     "slide_type": "slide"
    }
   },
   "source": [
    "## Ejemplo 6"
   ]
  },
  {
   "cell_type": "code",
   "execution_count": null,
   "metadata": {},
   "outputs": [],
   "source": [
    "@dataclass\n",
    "class Click:\n",
    "    position: tuple[int, int]\n",
    "    button: str\n",
    "\n",
    "@dataclass\n",
    "class KeyPress:\n",
    "    key_name: str\n",
    "\n",
    "@dataclass\n",
    "class Quit:\n",
    "    pass"
   ]
  },
  {
   "cell_type": "markdown",
   "metadata": {
    "slideshow": {
     "slide_type": "slide"
    }
   },
   "source": [
    "## Ejemplo 6"
   ]
  },
  {
   "cell_type": "code",
   "execution_count": null,
   "metadata": {
    "slideshow": {
     "slide_type": "fragment"
    }
   },
   "outputs": [],
   "source": [
    "def match_by_class(event):\n",
    "    match event:\n",
    "        case Click(position=(x,y), button=\"left\"):\n",
    "            print(f\"handling left click at {x,y}\")\n",
    "        case Click(position=(x,y)):\n",
    "            print(f\"handling other click at {x,y}\")\n",
    "        case KeyPress(\"Q\"|\"q\") | Quit():\n",
    "            print(\"quitting\")\n",
    "        case KeyPress(key_name=\"up arrow\"):\n",
    "            print(\"going up\")\n",
    "        case KeyPress():\n",
    "            pass #ignore other keystrokes\n",
    "        case other_event:\n",
    "            raise ValueError(f'unrecognized event: {other_event}')"
   ]
  },
  {
   "cell_type": "code",
   "execution_count": null,
   "metadata": {
    "slideshow": {
     "slide_type": "fragment"
    }
   },
   "outputs": [],
   "source": [
    "match_by_class(Click(position=(0,0), button=\"left\"))\n",
    "#match_by_class(Quit())"
   ]
  },
  {
   "cell_type": "code",
   "execution_count": null,
   "metadata": {
    "slideshow": {
     "slide_type": "fragment"
    }
   },
   "outputs": [],
   "source": [
    "try:\n",
    "    match_by_class(\"BADVALUE\")\n",
    "except ValueError:\n",
    "    pass"
   ]
  },
  {
   "cell_type": "markdown",
   "metadata": {
    "slideshow": {
     "slide_type": "slide"
    }
   },
   "source": [
    "## Ejemplo 6: *The old way*"
   ]
  },
  {
   "cell_type": "code",
   "execution_count": null,
   "metadata": {},
   "outputs": [],
   "source": [
    "def match_by_class(event):\n",
    "    if isinstance(event, Click) and event.button == \"left\":\n",
    "        x,y = event.position\n",
    "        print(f\"handling left click at {x, y}\")\n",
    "    elif isinstance(event, Click):\n",
    "        x,y = event.position\n",
    "        print(f\"handling other click at {x, y}\")\n",
    "    elif isinstance(event, KeyPress) and event.key_name in [\"Q\",\"q\"] \\\n",
    "            or isinstance(event, Quit):\n",
    "        print(\"quitting\")\n",
    "    elif isinstance(event, KeyPress) and event.key_name == \"up arrow\":\n",
    "        print(\"going up\")\n",
    "    elif isinstance(event, KeyPress):\n",
    "        pass\n",
    "    else:\n",
    "        raise ValueError(f'unrecognized event: {event}')"
   ]
  },
  {
   "cell_type": "code",
   "execution_count": null,
   "metadata": {},
   "outputs": [],
   "source": [
    "match_by_class(Click(position=(0,0), button=\"left\"))\n",
    "#match_by_class(Quit())"
   ]
  },
  {
   "cell_type": "code",
   "execution_count": null,
   "metadata": {},
   "outputs": [],
   "source": [
    "try:\n",
    "    match_by_class(\"BADVALUE\")\n",
    "except ValueError:\n",
    "    pass"
   ]
  },
  {
   "cell_type": "markdown",
   "metadata": {
    "slideshow": {
     "slide_type": "slide"
    }
   },
   "source": [
    "## Ejemplo 7"
   ]
  },
  {
   "cell_type": "code",
   "execution_count": null,
   "metadata": {},
   "outputs": [],
   "source": [
    "def match_json_event(event):\n",
    "    match event:\n",
    "        case {\"transport\": \"http\"}:\n",
    "            print(\"insecure event ignored\")\n",
    "        case {\"verb\": \"GET\", \"page\": \"articles\", \"pageno\": n}:\n",
    "            print(f\"let me get that article for you on page {n}...\")\n",
    "        case {\"verb\": \"POST\", \"page\": \"signup\"}:\n",
    "            print(\"handling signup\")"
   ]
  },
  {
   "cell_type": "code",
   "execution_count": null,
   "metadata": {},
   "outputs": [],
   "source": [
    "match_json_event({\"verb\": \"GET\", \"page\": \"articles\", \"pageno\": 5, \"info\": \"extra\"})"
   ]
  },
  {
   "cell_type": "markdown",
   "metadata": {
    "slideshow": {
     "slide_type": "slide"
    }
   },
   "source": [
    "## Ejemplo 7: *The old way*"
   ]
  },
  {
   "cell_type": "code",
   "execution_count": null,
   "metadata": {},
   "outputs": [],
   "source": [
    "def match_json_event(event):\n",
    "    if event.get(\"transport\") == \"http\":\n",
    "        print(\"insecure event ignored\")\n",
    "    elif event.get(\"verb\") == \"GET\" and event.get(\"page\") == \"articles\" and \"pageno\" in event:\n",
    "        n = event[\"pageno\"]\n",
    "        print(f\"let me get that article for you on page {n}...\")\n",
    "    elif event.get(\"verb\") == \"POST\" and event.get(\"page\") == \"signup\":\n",
    "        print(\"handling signup\")"
   ]
  },
  {
   "cell_type": "code",
   "execution_count": null,
   "metadata": {},
   "outputs": [],
   "source": [
    "match_json_event({\"verb\": \"GET\", \"page\": \"articles\", \"pageno\": 5, \"info\": \"extra\"})"
   ]
  },
  {
   "cell_type": "markdown",
   "metadata": {
    "slideshow": {
     "slide_type": "slide"
    }
   },
   "source": [
    "## Programación lógica\n",
    "\n",
    "- Logic programming is a programming paradigm which is largely based on formal logic.\n",
    "- En vez de dividir los programas entre \"control\" y \"datos\", solo ofrece datos.\n",
    "- Los datos *generalmente* son de dos tipos. facts (hechos) y rules.\n",
    "- El lenguaje mas popular es la familia Prolog (programmation en logique)\n",
    "- El lenguaje solo puede responder *yes* o *no* a una pregunta.\n",
    "- No hay un concepto de orden entre las ejecuciones.\n",
    "- Es un gran gran gran pattern matching.\n",
    "- El mayor uso del lenguaje son los llamados \"sistemas expertos\".\n",
    "\n",
    "```pl\n",
    "human(socrates).\n",
    "mortal(X) :- human(X).\n",
    "```"
   ]
  },
  {
   "attachments": {
    "image.png": {
     "image/png": "[encoded data removed]"
    }
   },
   "cell_type": "markdown",
   "metadata": {
    "slideshow": {
     "slide_type": "slide"
    }
   },
   "source": [
    "## Swi-Prolog (https://www.swi-prolog.org/)\n",
    "\n",
    "- De todas las implementaciones de prolog esta suele ser la mas popular.\n",
    "- Tiene interfazes con todos los lenguajes https://github.com/yuce/pyswip\n",
    "- Una implementacion en swi-prolog puede correr en varios nodos naturalmente.\n",
    "- Es licencia BSD.\n",
    "\n",
    "![image.png](attachment:image.png)"
   ]
  },
  {
   "cell_type": "markdown",
   "metadata": {
    "slideshow": {
     "slide_type": "slide"
    }
   },
   "source": [
    "##  Bases de conocimiento\n",
    "\n",
    "- Todo el conocimiento se ordena en un único archivo de reglas y hechos llamado knowledge-base.\n",
    "- Los hechos y reglas van en minuscula.\n",
    "- el **`.`** (punto) termina una regla o un hecho.\n",
    "- La **`,`** es un *and* y el **`;`** es un *or*.\n",
    "- El operador **`:-`** se lee como *\"if\"* o *\"implica-que\"*.\n",
    "- Una regla es un un conjunto de disyunciones y conjunciones logicas, entre hechos u otras reglas."
   ]
  },
  {
   "cell_type": "code",
   "execution_count": 11,
   "metadata": {},
   "outputs": [
    {
     "name": "stdout",
     "output_type": "stream",
     "text": [
      "\u001b[38;2;0;134;179mman\u001b[0m\u001b[38;2;51;51;51m(\u001b[0m\u001b[38;2;0;134;179madam\u001b[0m\u001b[38;2;51;51;51m)\u001b[0m\u001b[38;2;167;29;93m.\u001b[0m\u001b[38;2;51;51;51m\u001b[0m\r\n",
      "\u001b[38;2;0;134;179mman\u001b[0m\u001b[38;2;51;51;51m(\u001b[0m\u001b[38;2;0;134;179mpeter\u001b[0m\u001b[38;2;51;51;51m)\u001b[0m\u001b[38;2;167;29;93m.\u001b[0m\u001b[38;2;51;51;51m\u001b[0m\r\n",
      "\u001b[38;2;0;134;179mman\u001b[0m\u001b[38;2;51;51;51m(\u001b[0m\u001b[38;2;0;134;179mpaul\u001b[0m\u001b[38;2;51;51;51m)\u001b[0m\u001b[38;2;167;29;93m.\u001b[0m\u001b[38;2;51;51;51m\u001b[0m\r\n",
      "\u001b[38;2;51;51;51m\u001b[0m\r\n",
      "\u001b[38;2;0;134;179mwoman\u001b[0m\u001b[38;2;51;51;51m(\u001b[0m\u001b[38;2;0;134;179mmarry\u001b[0m\u001b[38;2;51;51;51m)\u001b[0m\u001b[38;2;167;29;93m.\u001b[0m\u001b[38;2;51;51;51m\u001b[0m\r\n",
      "\u001b[38;2;0;134;179mwoman\u001b[0m\u001b[38;2;51;51;51m(\u001b[0m\u001b[38;2;0;134;179meve\u001b[0m\u001b[38;2;51;51;51m)\u001b[0m\u001b[38;2;167;29;93m.\u001b[0m\u001b[38;2;51;51;51m\u001b[0m\r\n",
      "\u001b[38;2;51;51;51m\u001b[0m\r\n",
      "\u001b[38;2;0;134;179mparent\u001b[0m\u001b[38;2;51;51;51m(\u001b[0m\u001b[38;2;0;134;179madam\u001b[0m\u001b[38;2;51;51;51m,\u001b[0m\u001b[38;2;51;51;51m \u001b[0m\u001b[38;2;0;134;179mpeter\u001b[0m\u001b[38;2;51;51;51m)\u001b[0m\u001b[38;2;167;29;93m.\u001b[0m\u001b[38;2;51;51;51m\u001b[0m\r\n",
      "\u001b[38;2;0;134;179mparent\u001b[0m\u001b[38;2;51;51;51m(\u001b[0m\u001b[38;2;0;134;179meve\u001b[0m\u001b[38;2;51;51;51m,\u001b[0m\u001b[38;2;51;51;51m \u001b[0m\u001b[38;2;0;134;179mpeter\u001b[0m\u001b[38;2;51;51;51m)\u001b[0m\u001b[38;2;167;29;93m.\u001b[0m\u001b[38;2;51;51;51m\u001b[0m\r\n",
      "\u001b[38;2;0;134;179mparent\u001b[0m\u001b[38;2;51;51;51m(\u001b[0m\u001b[38;2;0;134;179madam\u001b[0m\u001b[38;2;51;51;51m,\u001b[0m\u001b[38;2;51;51;51m \u001b[0m\u001b[38;2;0;134;179mpaul\u001b[0m\u001b[38;2;51;51;51m)\u001b[0m\u001b[38;2;167;29;93m.\u001b[0m\u001b[38;2;51;51;51m\u001b[0m\r\n",
      "\u001b[38;2;0;134;179mparent\u001b[0m\u001b[38;2;51;51;51m(\u001b[0m\u001b[38;2;0;134;179mmarry\u001b[0m\u001b[38;2;51;51;51m,\u001b[0m\u001b[38;2;51;51;51m \u001b[0m\u001b[38;2;0;134;179mpaul\u001b[0m\u001b[38;2;51;51;51m)\u001b[0m\u001b[38;2;167;29;93m.\u001b[0m\u001b[38;2;51;51;51m\u001b[0m\r\n",
      "\u001b[38;2;51;51;51m\u001b[0m\r\n",
      "\u001b[38;2;51;51;51m\u001b[0m\r\n",
      "\u001b[38;2;0;134;179mfather\u001b[0m\u001b[38;2;51;51;51m(\u001b[0m\u001b[38;2;0;134;179mF\u001b[0m\u001b[38;2;51;51;51m,\u001b[0m\u001b[38;2;51;51;51m \u001b[0m\u001b[38;2;0;134;179mC\u001b[0m\u001b[38;2;51;51;51m)\u001b[0m\u001b[38;2;51;51;51m \u001b[0m\u001b[38;2;167;29;93m:\u001b[0m\u001b[38;2;167;29;93m-\u001b[0m\u001b[38;2;51;51;51m \u001b[0m\u001b[38;2;0;134;179mman\u001b[0m\u001b[38;2;51;51;51m(\u001b[0m\u001b[38;2;0;134;179mF\u001b[0m\u001b[38;2;51;51;51m)\u001b[0m\u001b[38;2;51;51;51m,\u001b[0m\u001b[38;2;51;51;51m \u001b[0m\u001b[38;2;0;134;179mparent\u001b[0m\u001b[38;2;51;51;51m(\u001b[0m\u001b[38;2;0;134;179mF\u001b[0m\u001b[38;2;51;51;51m,\u001b[0m\u001b[38;2;51;51;51m \u001b[0m\u001b[38;2;0;134;179mC\u001b[0m\u001b[38;2;51;51;51m)\u001b[0m\u001b[38;2;167;29;93m.\u001b[0m\u001b[38;2;51;51;51m\u001b[0m\r\n",
      "\u001b[38;2;0;134;179mmother\u001b[0m\u001b[38;2;51;51;51m(\u001b[0m\u001b[38;2;0;134;179mM\u001b[0m\u001b[38;2;51;51;51m,\u001b[0m\u001b[38;2;51;51;51m \u001b[0m\u001b[38;2;0;134;179mC\u001b[0m\u001b[38;2;51;51;51m)\u001b[0m\u001b[38;2;51;51;51m \u001b[0m\u001b[38;2;167;29;93m:\u001b[0m\u001b[38;2;167;29;93m-\u001b[0m\u001b[38;2;51;51;51m \u001b[0m\u001b[38;2;0;134;179mwoman\u001b[0m\u001b[38;2;51;51;51m(\u001b[0m\u001b[38;2;0;134;179mM\u001b[0m\u001b[38;2;51;51;51m)\u001b[0m\u001b[38;2;51;51;51m,\u001b[0m\u001b[38;2;51;51;51m \u001b[0m\u001b[38;2;0;134;179mparent\u001b[0m\u001b[38;2;51;51;51m(\u001b[0m\u001b[38;2;0;134;179mM\u001b[0m\u001b[38;2;51;51;51m,\u001b[0m\u001b[38;2;51;51;51m \u001b[0m\u001b[38;2;0;134;179mC\u001b[0m\u001b[38;2;51;51;51m)\u001b[0m\u001b[38;2;167;29;93m.\u001b[0m\r\n"
     ]
    }
   ],
   "source": [
    "!batcat prolog/db.pl --theme GitHub -p"
   ]
  },
  {
   "cell_type": "markdown",
   "metadata": {
    "slideshow": {
     "slide_type": "slide"
    }
   },
   "source": [
    "### Referencias\n",
    "\n",
    "https://www.youtube.com/watch?v=-79HGfWmH_w\n",
    "\n",
    "https://github.com/mCodingLLC/VideosSampleCode"
   ]
  }
 ],
 "metadata": {
  "celltoolbar": "Slideshow",
  "kernelspec": {
   "display_name": "Python 3 (ipykernel)",
   "language": "python",
   "name": "python3"
  },
  "language_info": {
   "codemirror_mode": {
    "name": "ipython",
    "version": 3
   },
   "file_extension": ".py",
   "mimetype": "text/x-python",
   "name": "python",
   "nbconvert_exporter": "python",
   "pygments_lexer": "ipython3",
   "version": "3.10.6"
  }
 },
 "nbformat": 4,
 "nbformat_minor": 4
}
