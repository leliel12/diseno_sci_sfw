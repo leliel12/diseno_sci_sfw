{
 "cells": [
  {
   "cell_type": "markdown",
   "metadata": {
    "slideshow": {
     "slide_type": "slide"
    }
   },
   "source": [
    "\n",
    "# Diseño de software para cómputo científico\n",
    "\n",
    "----\n",
    "\n",
    "## Unidad 6: Creando un proyecto Python\n"
   ]
  },
  {
   "cell_type": "markdown",
   "metadata": {
    "slideshow": {
     "slide_type": "slide"
    }
   },
   "source": [
    "## Virtual Environments\n",
    "\n",
    "Un entorno virtual es una herramienta que ayuda a mantener separadas las dependencias requeridas por diferentes proyectos al crear entornos virtuales de python aislados para ellos. Esta es una de las herramientas más importantes que utilizan la mayoría de los desarrolladores de Python.\n",
    "\n",
    "Imagine un escenario en el que está trabajando en dos proyectos de Python basados en la web y uno de ellos usa un Astropy 3.0 y el otro usa Astropy 4.0 y así sucesivamente. En tales situaciones, el entorno virtual puede ser realmente útil para mantener las dependencias de ambos proyectos.\n",
    "\n",
    "### Algunas alternativas para manejar virtualenvs\n",
    "\n",
    "- Virtualenv (la más común y la que vamos a usar)\n",
    "- Python venv (viene con python)\n",
    "- Conda\n",
    "- Pipenv (es la mas moderna)"
   ]
  },
  {
   "cell_type": "markdown",
   "metadata": {
    "slideshow": {
     "slide_type": "slide"
    }
   },
   "source": [
    "### Virtualenv\n",
    "\n",
    "- virtualenv es una herramienta para crear entornos Python aislados. \n",
    "- Desde Python 3.3, un subconjunto se ha integrado en la biblioteca estándar bajo el módulo venv. \n",
    "- Sin embargo venv no ofrece todas las características de virtualenv (por ejemplo, no puede crear entornos virtuales para otras versiones de Python). \n",
    "- Las herramientas en general como tal aún pueden preferir usar virtualenv por su facilidad de actualización (a través de pip), manejo unificado de diferentes versiones de Python y algunas características más avanzadas.\n",
    "\n",
    "\n",
    "    # Debian o Ubuntu\n",
    "    $ sudo apt-get install python-virtualenv\n",
    "   "
   ]
  },
  {
   "cell_type": "markdown",
   "metadata": {
    "slideshow": {
     "slide_type": "slide"
    }
   },
   "source": [
    "## Creación de entornos virtuales\n",
    "\n",
    "- `virtualenv envname`\n",
    "- `virtualenv -p /usr/bin/python3.9 envname`\n",
    "- `virtualenv -p $(which python3.9) envname`\n",
    "\n",
    "### Activando entornos virtuales\n",
    "\n",
    "Dentro de la carpet siempre se crea una carpeta `bin`\n",
    "\n",
    "- `source bin/activate`\n",
    "\n",
    "------\n",
    "**Recomendación:** Usar `virtualenvwrapper`"
   ]
  },
  {
   "cell_type": "markdown",
   "metadata": {
    "slideshow": {
     "slide_type": "slide"
    }
   },
   "source": [
    "## Freezing\n",
    "\n",
    "- Luego de instalar paquetes dentro del env activado pueden listarse con `pip list`\n",
    "- Para freezar un paquete suele utilizarse `pip freeze > requirements.txt`\n",
    "- Para instalar los paquetes congelados se usa `pip install -r requirements.txt`\n",
    "\n",
    "Hay una herramienta muy interesante llamada *pipdeptree* (`pip install pipdeptree`), la cual lista las dependencias de los paquetes instalados con pip.\n",
    "\n",
    "*pipdeptree* puede hacer un requirements.txt mucho mas limpio con el comando \n",
    "\n",
    "`pipdeptree | grep -P '^\\w+' > requirements.txt`\n"
   ]
  }
 ],
 "metadata": {
  "celltoolbar": "Slideshow",
  "kernelspec": {
   "display_name": "Python 3",
   "language": "python",
   "name": "python3"
  },
  "language_info": {
   "codemirror_mode": {
    "name": "ipython",
    "version": 3
   },
   "file_extension": ".py",
   "mimetype": "text/x-python",
   "name": "python",
   "nbconvert_exporter": "python",
   "pygments_lexer": "ipython3",
   "version": "3.9.6"
  }
 },
 "nbformat": 4,
 "nbformat_minor": 2
}
