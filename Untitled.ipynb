{
 "cells": [
  {
   "cell_type": "code",
   "execution_count": 1,
   "id": "4ca1f900-c419-4c62-a7a6-1e13797be0db",
   "metadata": {},
   "outputs": [],
   "source": [
    "import seaborn as sns"
   ]
  },
  {
   "cell_type": "code",
   "execution_count": 15,
   "id": "111ac2f6-69b5-4721-b0e3-1b16ad66a1b7",
   "metadata": {},
   "outputs": [],
   "source": [
    "import pandas as pd\n",
    "import numpy as np\n",
    "\n",
    "mtx = np.random.normal(size=(1000, 3))\n",
    "indexes = [f\"f.{idx}\" for idx in range(1000)]\n",
    "\n",
    "df = pd.DataFrame(mtx, columns=\"a b c\".split(), index=indexes)\n",
    "df.columns.name = \"Cosos\""
   ]
  },
  {
   "cell_type": "code",
   "execution_count": 11,
   "id": "3e59f31c-d6fa-4379-8fd5-6810cdbdfd1f",
   "metadata": {},
   "outputs": [],
   "source": [
    "#pd.Series([1,2,3], name=\"lll\")"
   ]
  },
  {
   "cell_type": "code",
   "execution_count": 16,
   "id": "758bbd13-9ea8-45d3-8f27-dbf41dc9e439",
   "metadata": {},
   "outputs": [
    {
     "data": {
      "text/html": [
       "<div>\n",
       "<style scoped>\n",
       "    .dataframe tbody tr th:only-of-type {\n",
       "        vertical-align: middle;\n",
       "    }\n",
       "\n",
       "    .dataframe tbody tr th {\n",
       "        vertical-align: top;\n",
       "    }\n",
       "\n",
       "    .dataframe thead th {\n",
       "        text-align: right;\n",
       "    }\n",
       "</style>\n",
       "<table border=\"1\" class=\"dataframe\">\n",
       "  <thead>\n",
       "    <tr style=\"text-align: right;\">\n",
       "      <th>Cosos</th>\n",
       "      <th>a</th>\n",
       "      <th>b</th>\n",
       "      <th>c</th>\n",
       "    </tr>\n",
       "  </thead>\n",
       "  <tbody>\n",
       "    <tr>\n",
       "      <th>f.0</th>\n",
       "      <td>0.307899</td>\n",
       "      <td>-0.071736</td>\n",
       "      <td>-0.613508</td>\n",
       "    </tr>\n",
       "    <tr>\n",
       "      <th>f.1</th>\n",
       "      <td>-1.331045</td>\n",
       "      <td>0.180668</td>\n",
       "      <td>0.074004</td>\n",
       "    </tr>\n",
       "    <tr>\n",
       "      <th>f.2</th>\n",
       "      <td>-0.366129</td>\n",
       "      <td>-0.784456</td>\n",
       "      <td>-0.382797</td>\n",
       "    </tr>\n",
       "    <tr>\n",
       "      <th>f.3</th>\n",
       "      <td>-0.598836</td>\n",
       "      <td>0.566941</td>\n",
       "      <td>0.282054</td>\n",
       "    </tr>\n",
       "    <tr>\n",
       "      <th>f.4</th>\n",
       "      <td>1.255947</td>\n",
       "      <td>-0.357447</td>\n",
       "      <td>0.093516</td>\n",
       "    </tr>\n",
       "    <tr>\n",
       "      <th>...</th>\n",
       "      <td>...</td>\n",
       "      <td>...</td>\n",
       "      <td>...</td>\n",
       "    </tr>\n",
       "    <tr>\n",
       "      <th>f.995</th>\n",
       "      <td>-0.376005</td>\n",
       "      <td>0.824262</td>\n",
       "      <td>0.460165</td>\n",
       "    </tr>\n",
       "    <tr>\n",
       "      <th>f.996</th>\n",
       "      <td>-0.483821</td>\n",
       "      <td>-2.647918</td>\n",
       "      <td>0.594557</td>\n",
       "    </tr>\n",
       "    <tr>\n",
       "      <th>f.997</th>\n",
       "      <td>-1.904105</td>\n",
       "      <td>1.280710</td>\n",
       "      <td>0.629613</td>\n",
       "    </tr>\n",
       "    <tr>\n",
       "      <th>f.998</th>\n",
       "      <td>-0.394520</td>\n",
       "      <td>0.005424</td>\n",
       "      <td>0.893758</td>\n",
       "    </tr>\n",
       "    <tr>\n",
       "      <th>f.999</th>\n",
       "      <td>1.943977</td>\n",
       "      <td>0.021846</td>\n",
       "      <td>-0.228291</td>\n",
       "    </tr>\n",
       "  </tbody>\n",
       "</table>\n",
       "<p>1000 rows × 3 columns</p>\n",
       "</div>"
      ],
      "text/plain": [
       "Cosos         a         b         c\n",
       "f.0    0.307899 -0.071736 -0.613508\n",
       "f.1   -1.331045  0.180668  0.074004\n",
       "f.2   -0.366129 -0.784456 -0.382797\n",
       "f.3   -0.598836  0.566941  0.282054\n",
       "f.4    1.255947 -0.357447  0.093516\n",
       "...         ...       ...       ...\n",
       "f.995 -0.376005  0.824262  0.460165\n",
       "f.996 -0.483821 -2.647918  0.594557\n",
       "f.997 -1.904105  1.280710  0.629613\n",
       "f.998 -0.394520  0.005424  0.893758\n",
       "f.999  1.943977  0.021846 -0.228291\n",
       "\n",
       "[1000 rows x 3 columns]"
      ]
     },
     "execution_count": 16,
     "metadata": {},
     "output_type": "execute_result"
    }
   ],
   "source": [
    "df"
   ]
  },
  {
   "cell_type": "code",
   "execution_count": 17,
   "id": "1d74b30d-0266-4f62-978b-05b835ff28c1",
   "metadata": {},
   "outputs": [
    {
     "data": {
      "image/png": "[encoded data removed]",
      "text/plain": [
       "<Figure size 432x288 with 1 Axes>"
      ]
     },
     "metadata": {
      "needs_background": "light"
     },
     "output_type": "display_data"
    }
   ],
   "source": [
    "ax = sns.barplot(data=df)\n",
    "#ax.set_xlabel(\"Columnas\")\n"
   ]
  },
  {
   "cell_type": "code",
   "execution_count": null,
   "id": "80b1cb70-9251-4874-9a51-a6e5f360ac53",
   "metadata": {},
   "outputs": [],
   "source": []
  },
  {
   "cell_type": "code",
   "execution_count": null,
   "id": "0c37e43c-c4ad-47ac-bb80-06469878a00e",
   "metadata": {},
   "outputs": [],
   "source": []
  }
 ],
 "metadata": {
  "kernelspec": {
   "display_name": "Python 3 (ipykernel)",
   "language": "python",
   "name": "python3"
  },
  "language_info": {
   "codemirror_mode": {
    "name": "ipython",
    "version": 3
   },
   "file_extension": ".py",
   "mimetype": "text/x-python",
   "name": "python",
   "nbconvert_exporter": "python",
   "pygments_lexer": "ipython3",
   "version": "3.10.6"
  }
 },
 "nbformat": 4,
 "nbformat_minor": 5
}
