{
 "cells": [
  {
   "cell_type": "markdown",
   "metadata": {
    "slideshow": {
     "slide_type": "slide"
    }
   },
   "source": [
    "\n",
    "# Diseño de software para cómputo científico\n",
    "\n",
    "----\n",
    "\n",
    "## Unidad 6: Documentación\n"
   ]
  },
  {
   "cell_type": "markdown",
   "metadata": {
    "slideshow": {
     "slide_type": "slide"
    }
   },
   "source": [
    "## ¿Por qué debemos documentar?\n",
    "\n",
    "Cuando escriben código, lo escriben principalmente para dos audiencias: sus usuarios y sus desarrolladores (incluídos ustedes).\n",
    "\n",
    "    “Code is more often read than written.”\n",
    "    — Guido van Rossum\n",
    "\n",
    "La realidad termina siendo que no importa qué tan bueno es su software, **si la documentación no es lo suficientemente buena, nadie lo va a usar.**"
   ]
  },
  {
   "cell_type": "markdown",
   "metadata": {
    "slideshow": {
     "slide_type": "slide"
    }
   },
   "source": [
    "## Comentar vs Documentar\n",
    "\n",
    "- **Comentar**, en general, tiene como objetivo describir su código a desarrolladores. La audiencia principal prevista son los mantenedores y desarrolladores del código. Junto con un código bien escrito, los comentarios ayudan a guiar al lector a comprender mejor el código y su propósito y diseño.\n",
    "\n",
    "\n",
    "\n",
    "- **Documentar** el código es describir su uso y funcionalidad a sus usuarios. Si bien puede ser útil en el proceso de desarrollo, el público principal son los usuarios."
   ]
  },
  {
   "cell_type": "markdown",
   "metadata": {
    "slideshow": {
     "slide_type": "slide"
    }
   },
   "source": [
    "## Documentación\n",
    "La documentación de todos los objetos en Python es un **string** (de triple o simple comilla) <code>\"\"\"Documentation\"\"\"</code> que se guarda en el dunder <code>\\_\\_doc\\_\\_</code>. Puede ser accedido con la funcion <code>help()</code> o con el signo <code>?</code> en un intérprete."
   ]
  },
  {
   "cell_type": "code",
   "execution_count": 3,
   "metadata": {
    "slideshow": {
     "slide_type": "fragment"
    }
   },
   "outputs": [
    {
     "name": "stdout",
     "output_type": "stream",
     "text": [
      "Help on built-in function isinstance in module builtins:\n",
      "\n",
      "isinstance(obj, class_or_tuple, /)\n",
      "    Return whether an object is an instance of a class or of a subclass thereof.\n",
      "    \n",
      "    A tuple, as in ``isinstance(x, (A, B, ...))``, may be given as the target to\n",
      "    check against. This is equivalent to ``isinstance(x, A) or isinstance(x, B)\n",
      "    or ...`` etc.\n",
      "\n"
     ]
    }
   ],
   "source": [
    "help(isinstance)"
   ]
  },
  {
   "cell_type": "code",
   "execution_count": 9,
   "metadata": {
    "slideshow": {
     "slide_type": "fragment"
    }
   },
   "outputs": [],
   "source": [
    "isinstance?"
   ]
  },
  {
   "cell_type": "markdown",
   "metadata": {
    "slideshow": {
     "slide_type": "slide"
    }
   },
   "source": [
    "## Documentación\n",
    "Al definir funciones, clases o modulos, por defecto la documentación es el primer string válido al comienzo. A menos que se redefina el dunder \\_\\_doc\\_\\_"
   ]
  },
  {
   "cell_type": "code",
   "execution_count": 7,
   "metadata": {},
   "outputs": [],
   "source": [
    "# example.py\n",
    "\"\"\"Documentacion del modulo example.py\"\"\"\n",
    "\n",
    "class Person:\n",
    "    \"\"\"Class used to describe a Person.\n",
    "\n",
    "    Parameters\n",
    "    ----------\n",
    "    name: str\n",
    "        Name of the Person. \n",
    "    age: positive int\n",
    "        Age of the Person. Should be a positive integer.\n",
    "\n",
    "    Attributes\n",
    "    ----------\n",
    "    birth: int\n",
    "        Year of birth according to the Person's age.\n",
    "    \"\"\"\n",
    "    def __init__(self, name, age):\n",
    "        self.name = name\n",
    "        self.age = age\n",
    "        self.birth = 2021 - age\n",
    "\n",
    "    def say_hello(self):\n",
    "        \"\"\"Say hello.\"\"\"\n",
    "        print(f\"Hello! My name is {self.name} and I'm {self.age} years old.\")"
   ]
  },
  {
   "cell_type": "markdown",
   "metadata": {
    "slideshow": {
     "slide_type": "slide"
    }
   },
   "source": [
    "## Documentación"
   ]
  },
  {
   "cell_type": "code",
   "execution_count": 8,
   "metadata": {
    "slideshow": {
     "slide_type": "-"
    }
   },
   "outputs": [],
   "source": [
    "Person?"
   ]
  },
  {
   "cell_type": "code",
   "execution_count": 9,
   "metadata": {},
   "outputs": [],
   "source": [
    "p = Person('Spock', 152)\n",
    "p.say_hello?"
   ]
  },
  {
   "cell_type": "markdown",
   "metadata": {
    "slideshow": {
     "slide_type": "slide"
    }
   },
   "source": [
    "## Estilo en la Documentación\n",
    "Hay varias convenciones para darle estilo a la documentación. Algunas de las más comunes son: NumPy, Google, Sphinx. El ejemplo que vimos sigue el estilo de NumPy. Para checkear que la documentación sigue correctamente el estilo elegido, usamos **pydocstyle**. Nota: Por ahora pydocstyle solo soporta Numpy y Google styles.\n",
    "\n",
    "Ejemplos de estilo con Numpy, Google y Sphinx: https://www.datacamp.com/community/tutorials/docstrings-python"
   ]
  },
  {
   "cell_type": "code",
   "execution_count": 11,
   "metadata": {
    "slideshow": {
     "slide_type": "-"
    }
   },
   "outputs": [],
   "source": [
    "#!pip install pydocstyle"
   ]
  },
  {
   "cell_type": "markdown",
   "metadata": {
    "slideshow": {
     "slide_type": "fragment"
    }
   },
   "source": [
    "-----\n",
    "## Testeamos el estilo en Tox"
   ]
  },
  {
   "cell_type": "markdown",
   "metadata": {},
   "source": [
    "```ini\n",
    "[testenv:docstyle]\n",
    "deps = pydocstyle\n",
    "commands = pydocstyle proyectox --convention=numpy\n",
    "```"
   ]
  },
  {
   "cell_type": "code",
   "execution_count": null,
   "metadata": {},
   "outputs": [],
   "source": []
  }
 ],
 "metadata": {
  "celltoolbar": "Slideshow",
  "kernelspec": {
   "display_name": "Python 3",
   "language": "python",
   "name": "python3"
  },
  "language_info": {
   "codemirror_mode": {
    "name": "ipython",
    "version": 3
   },
   "file_extension": ".py",
   "mimetype": "text/x-python",
   "name": "python",
   "nbconvert_exporter": "python",
   "pygments_lexer": "ipython3",
   "version": "3.9.7"
  }
 },
 "nbformat": 4,
 "nbformat_minor": 2
}
