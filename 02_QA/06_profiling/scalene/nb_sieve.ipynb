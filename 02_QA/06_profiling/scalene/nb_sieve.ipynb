{
 "cells": [
  {
   "cell_type": "markdown",
   "id": "07e0cb38-fd4a-4033-b209-fd262b5ba536",
   "metadata": {},
   "source": [
    "# Investigating Scalene"
   ]
  },
  {
   "cell_type": "code",
   "execution_count": null,
   "id": "7fbff554-eeb2-4a5d-b61d-d061d984ad29",
   "metadata": {},
   "outputs": [],
   "source": [
    "%load_ext scalene"
   ]
  },
  {
   "cell_type": "code",
   "execution_count": null,
   "id": "15dd2914-4f35-40c0-a267-c2ad4a15bd52",
   "metadata": {},
   "outputs": [],
   "source": [
    "%%scalene\n",
    "def sieve(n):\n",
    "    \"\"\"\n",
    "    Returns a list of all prime numbers up to n using the Sieve of Eratosthenes algorithm.\n",
    "    \"\"\"\n",
    "    # Create a list of boolean values, indicating whether each number is prime or not.\n",
    "    is_prime = [True] * (n + 1)\n",
    "    is_prime[0] = is_prime[1] = False\n",
    "\n",
    "    # Loop through all numbers up to the square root of n.\n",
    "    for i in range(2, int(n ** 0.5) + 1):\n",
    "        # If the current number is prime, mark all its multiples as composite.\n",
    "        if is_prime[i]:\n",
    "            for j in range(i ** 2, n + 1, i):\n",
    "                is_prime[j] = False\n",
    "\n",
    "    # Return a list of all prime numbers up to n.\n",
    "    primes = []\n",
    "    for i in range(2, n + 1):\n",
    "        if is_prime[i]:\n",
    "            primes.append(i)\n",
    "    return primes\n",
    "\n",
    "sieve(10_000_000)"
   ]
  },
  {
   "cell_type": "code",
   "execution_count": null,
   "id": "306a634f-0240-43bb-931b-33b7e2076fea",
   "metadata": {
    "tags": []
   },
   "outputs": [],
   "source": [
    "%%scalene\n",
    "import numpy as np\n",
    "\n",
    "def sieve(n):\n",
    "    \"\"\"\n",
    "    Returns a list of all prime numbers up to n using the Sieve of Eratosthenes algorithm.\n",
    "    \"\"\"\n",
    "    # Create a boolean array of size n+1 initialized to True.\n",
    "    is_prime = np.ones(n+1, dtype=bool)\n",
    "\n",
    "    # Mark 0 and 1 as composite.\n",
    "    is_prime[0] = is_prime[1] = False\n",
    "\n",
    "    # Loop through all numbers up to the square root of n.\n",
    "    for i in range(2, int(n ** 0.5) + 1):\n",
    "        # If the current number is prime, mark all its multiples as composite.\n",
    "        if is_prime[i]:\n",
    "            is_prime[i*i:n+1:i] = False\n",
    "\n",
    "    # Return a list of all prime numbers up to n.\n",
    "    primes = np.nonzero(is_prime)[0][2:]\n",
    "    return primes.tolist()\n",
    "\n",
    "sieve(10_000_000)"
   ]
  },
  {
   "cell_type": "markdown",
   "id": "472e9a5b-1399-4494-a7fa-152ceee51e30",
   "metadata": {},
   "source": [
    "## This is not the ideal use case - let's return to a regular browser!"
   ]
  }
 ],
 "metadata": {
  "kernelspec": {
   "display_name": "Python 3 (ipykernel)",
   "language": "python",
   "name": "python3"
  },
  "language_info": {
   "codemirror_mode": {
    "name": "ipython",
    "version": 3
   },
   "file_extension": ".py",
   "mimetype": "text/x-python",
   "name": "python",
   "nbconvert_exporter": "python",
   "pygments_lexer": "ipython3",
   "version": "3.10.6"
  }
 },
 "nbformat": 4,
 "nbformat_minor": 5
}
