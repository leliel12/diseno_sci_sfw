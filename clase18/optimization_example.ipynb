{
 "cells": [
  {
   "cell_type": "markdown",
   "metadata": {
    "slideshow": {
     "slide_type": "slide"
    }
   },
   "source": [
    "## Original"
   ]
  },
  {
   "cell_type": "code",
   "execution_count": 1,
   "metadata": {
    "slideshow": {
     "slide_type": "-"
    }
   },
   "outputs": [],
   "source": [
    "import numpy as np"
   ]
  },
  {
   "cell_type": "code",
   "execution_count": 2,
   "metadata": {
    "slideshow": {
     "slide_type": "-"
    }
   },
   "outputs": [],
   "source": [
    "def ray(y):\n",
    "    n = len(y)\n",
    "    alpha = 1  \n",
    "    p_er = 0\n",
    "    for i in range(len(y)):\n",
    "        for j in range(len(y)):\n",
    "            pi = 1 / n\n",
    "            pj = 1 / n\n",
    "            p_er += np.power(pi, 1 + alpha) * pj * a bs(y[i] - y[j])\n",
    "    return p_er\n",
    "\n"
   ]
  },
  {
   "cell_type": "code",
   "execution_count": 4,
   "metadata": {},
   "outputs": [
    {
     "name": "stdout",
     "output_type": "stream",
     "text": [
      "2.98 s ± 43 ms per loop (mean ± std. dev. of 7 runs, 1 loop each)\n"
     ]
    }
   ],
   "source": [
    "%%timeit\n",
    "random = np.random.RandomState(seed=42)\n",
    "y = random.uniform(1, 100, size=1000)\n",
    "ray(y)"
   ]
  },
  {
   "cell_type": "markdown",
   "metadata": {
    "slideshow": {
     "slide_type": "slide"
    }
   },
   "source": [
    "## Simplificamos"
   ]
  },
  {
   "cell_type": "code",
   "execution_count": 12,
   "metadata": {
    "slideshow": {
     "slide_type": "-"
    }
   },
   "outputs": [],
   "source": [
    "def ray(y):\n",
    "    \n",
    "    alpha = 1  \n",
    "    p_er = 0\n",
    "    \n",
    "    pij = 1 / len(y)\n",
    "    \n",
    "    for yi in y:\n",
    "        for yj in y:\n",
    "            p_er += np.power(pij, 1 + alpha) * pij * np.abs(yi - yj)\n",
    "    return p_er"
   ]
  },
  {
   "cell_type": "code",
   "execution_count": 13,
   "metadata": {},
   "outputs": [
    {
     "name": "stdout",
     "output_type": "stream",
     "text": [
      "39.9 ms ± 367 µs per loop (mean ± std. dev. of 7 runs, 10 loops each)\n"
     ]
    }
   ],
   "source": [
    "%%timeit\n",
    "random = np.random.RandomState(seed=42)\n",
    "y = random.uniform(1, 100, size=100)\n",
    "ray(y)"
   ]
  },
  {
   "cell_type": "markdown",
   "metadata": {
    "slideshow": {
     "slide_type": "slide"
    }
   },
   "source": [
    "## Vectorizamos"
   ]
  },
  {
   "cell_type": "code",
   "execution_count": 8,
   "metadata": {
    "slideshow": {
     "slide_type": "-"
    }
   },
   "outputs": [],
   "source": [
    "def ray(y):\n",
    "    n = len(y)\n",
    "    \n",
    "    alpha = 1  \n",
    "    p_er = 0\n",
    "    \n",
    "    pij = 1 / n\n",
    "    \n",
    "    const = np.power(pij, 1 + alpha) * pij \n",
    "    y_column = y.reshape(n, 1)\n",
    "    \n",
    "    return np.sum(const * np.abs(np.tile(y_column, n) - y))"
   ]
  },
  {
   "cell_type": "code",
   "execution_count": 10,
   "metadata": {},
   "outputs": [
    {
     "name": "stdout",
     "output_type": "stream",
     "text": [
      "340 µs ± 4.67 µs per loop (mean ± std. dev. of 7 runs, 1000 loops each)\n"
     ]
    }
   ],
   "source": [
    "%%timeit\n",
    "random = np.random.RandomState(seed=42)\n",
    "y = random.uniform(1, 100, size=100)\n",
    "ray(y)"
   ]
  },
  {
   "cell_type": "code",
   "execution_count": 14,
   "metadata": {},
   "outputs": [],
   "source": [
    "def sum(a, b):\n",
    "    return a + b\n",
    "\n",
    "sum(1, 1)\n",
    "sum(\"hola\", \"mundo\")\n",
    "sum(1., 1.)\n",
    "sum(np.arange(9), np.arange(5, dtype=np.float128))\n"
   ]
  }
 ],
 "metadata": {
  "celltoolbar": "Slideshow",
  "kernelspec": {
   "display_name": "Python 3",
   "language": "python",
   "name": "python3"
  },
  "language_info": {
   "codemirror_mode": {
    "name": "ipython",
    "version": 3
   },
   "file_extension": ".py",
   "mimetype": "text/x-python",
   "name": "python",
   "nbconvert_exporter": "python",
   "pygments_lexer": "ipython3",
   "version": "3.8.2"
  }
 },
 "nbformat": 4,
 "nbformat_minor": 4
}
