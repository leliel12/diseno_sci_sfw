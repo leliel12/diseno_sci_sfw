{
 "cells": [
  {
   "cell_type": "markdown",
   "metadata": {
    "slideshow": {
     "slide_type": "slide"
    }
   },
   "source": [
    "\n",
    "# Diseño de software para cómputo científico\n",
    "\n",
    "----\n",
    "\n",
    "## Unidad 6: Documentación\n"
   ]
  },
  {
   "cell_type": "markdown",
   "metadata": {
    "slideshow": {
     "slide_type": "slide"
    }
   },
   "source": [
    "## ¿Por qué debemos documentar?\n",
    "\n",
    "Cuando escriben código, lo escriben principalmente para dos audiencias: sus usuarios y sus desarrolladores (incluídos ustedes).\n",
    "\n",
    "    “Code is more often read than written.”\n",
    "    — Guido van Rossum\n",
    "\n",
    "La realidad termina siendo que no importa qué tan bueno es su software, si la documentación no es lo suficientemente buena, nadie lo va a usar."
   ]
  },
  {
   "cell_type": "markdown",
   "metadata": {
    "slideshow": {
     "slide_type": "slide"
    }
   },
   "source": [
    "## Comentar vs Documentar\n",
    "\n",
    "- **Comentar**, en general, tiene como objetivo describir su código a desarrolladores. La audiencia principal prevista son los mantenedores y desarrolladores del código Python. Junto con un código bien escrito, los comentarios ayudan a guiar al lector a comprender mejor el código y su propósito y diseño.\n",
    "\n",
    "\n",
    "\n",
    "- **Documentar** el código es describir su uso y funcionalidad a sus usuarios. Si bien puede ser útil en el proceso de desarrollo, el público principal son los usuarios."
   ]
  },
  {
   "cell_type": "markdown",
   "metadata": {
    "slideshow": {
     "slide_type": "slide"
    }
   },
   "source": [
    "## Documentación\n",
    "La documentación de todos los objetos en Python es un **string** de triple comilla <code>\"\"\"Documentation\"\"\"</code> que se guarda en el dunder <code>\\_\\_doc\\_\\_</code>. Puede ser accedido con la funcion <code>help()</code> o con el signo <code>?</code> en un intérprete."
   ]
  },
  {
   "cell_type": "code",
   "execution_count": 5,
   "metadata": {
    "slideshow": {
     "slide_type": "fragment"
    }
   },
   "outputs": [
    {
     "name": "stdout",
     "output_type": "stream",
     "text": [
      "Help on built-in function isinstance in module builtins:\n",
      "\n",
      "isinstance(obj, class_or_tuple, /)\n",
      "    Return whether an object is an instance of a class or of a subclass thereof.\n",
      "    \n",
      "    A tuple, as in ``isinstance(x, (A, B, ...))``, may be given as the target to\n",
      "    check against. This is equivalent to ``isinstance(x, A) or isinstance(x, B)\n",
      "    or ...`` etc.\n",
      "\n"
     ]
    }
   ],
   "source": [
    "help(isinstance)"
   ]
  },
  {
   "cell_type": "code",
   "execution_count": 9,
   "metadata": {
    "slideshow": {
     "slide_type": "fragment"
    }
   },
   "outputs": [],
   "source": [
    "isinstance?"
   ]
  },
  {
   "cell_type": "markdown",
   "metadata": {
    "slideshow": {
     "slide_type": "slide"
    }
   },
   "source": [
    "## Documentación"
   ]
  },
  {
   "cell_type": "code",
   "execution_count": 12,
   "metadata": {},
   "outputs": [],
   "source": [
    "class Person:\n",
    "    \"\"\"Class used to describe a Person.\n",
    "\n",
    "    Parameters\n",
    "    ----------\n",
    "    name: str\n",
    "        Name of the Person. \n",
    "    age: positive int\n",
    "        Age of the Person. Should be a positive integer.\n",
    "\n",
    "    Attributes\n",
    "    ----------\n",
    "    birth: int\n",
    "        Year of birth according to the Person's age.\n",
    "\n",
    "    \"\"\"\n",
    "\n",
    "    def __init__(self, name, age):\n",
    "        self.name = name\n",
    "        self.age = age\n",
    "        self.birth = 2020 - age\n",
    "\n",
    "    def say_hello(self):\n",
    "        \"\"\"Say hello.\"\"\"\n",
    "        print(f\"Hello! My name is {self.name} and I'm {self.age} years old.\")\n",
    "    "
   ]
  },
  {
   "cell_type": "markdown",
   "metadata": {
    "slideshow": {
     "slide_type": "slide"
    }
   },
   "source": [
    "## Documentación"
   ]
  },
  {
   "cell_type": "code",
   "execution_count": 36,
   "metadata": {
    "slideshow": {
     "slide_type": "-"
    }
   },
   "outputs": [],
   "source": [
    "Person?"
   ]
  },
  {
   "cell_type": "code",
   "execution_count": 3,
   "metadata": {},
   "outputs": [],
   "source": [
    "p = Person('Spock', 152)\n",
    "p.say_hello?"
   ]
  },
  {
   "cell_type": "markdown",
   "metadata": {
    "slideshow": {
     "slide_type": "slide"
    }
   },
   "source": [
    "## Estilo en la Documentación\n",
    "Hay varias convenciones para darle estilo a la documentación. Algunas de las más comunes son: NumPy, Google, Sphinx. El ejemplo que vimos sigue el estilo de NumPy. Para checkear que la documentación sigue correctamente el estilo elegido, usamos **pydocstyle**."
   ]
  },
  {
   "cell_type": "code",
   "execution_count": 11,
   "metadata": {
    "slideshow": {
     "slide_type": "-"
    }
   },
   "outputs": [],
   "source": [
    "#!pip install pydocstyle"
   ]
  },
  {
   "cell_type": "markdown",
   "metadata": {
    "slideshow": {
     "slide_type": "fragment"
    }
   },
   "source": [
    "-----\n",
    "## Testeamos el estilo en Tox"
   ]
  },
  {
   "cell_type": "markdown",
   "metadata": {},
   "source": [
    "```ini\n",
    "[testenv:docstyle]\n",
    "deps = pydocstyle\n",
    "commands =\n",
    "    pydocstyle proyectox --convention=numpy\n",
    "```"
   ]
  },
  {
   "cell_type": "markdown",
   "metadata": {
    "slideshow": {
     "slide_type": "slide"
    }
   },
   "source": [
    "# Sphinx\n",
    "\n",
    "La herramienta **Sphinx** nos permite construir automáticamente una documentación amigable para el usuario. Toma todos los docstrings definidos en nuestro proyecto, los convierte en archivos con formato RST (reStructuredText) y genera una página HTML para que luego despleguemos en algún servidor, como Read The Docs.\n",
    "\n",
    "Para que finalmente su página de documentación quede linda, van a tener que modificar/agregar detalles a los archivos .rst. Este es un formato de marcado similar a Markdown (formato .md) aunque ofrece más versatilidad."
   ]
  },
  {
   "cell_type": "markdown",
   "metadata": {
    "slideshow": {
     "slide_type": "slide"
    }
   },
   "source": [
    "## Como usar sphinx\n",
    "\n",
    "```bash\n",
    "$ pip install sphinx\n",
    "$ mkdir docs\n",
    "$ cd docs\n",
    "$ sphinx-quistart\n",
    "```\n",
    "- Editar el conf.py, seccion Path setup para que el path apunte un nivel atras, `'..'`. \n",
    "También agreguen como mínimo la extensión de autodoc: `extensions = ['sphinx.ext.autodoc']`"
   ]
  },
  {
   "cell_type": "markdown",
   "metadata": {
    "slideshow": {
     "slide_type": "slide"
    }
   },
   "source": [
    "## Como usar sphinx\n",
    "\n",
    "```bash\n",
    "$ sphinx-apidoc <SOURCE_DIR> -o source/api\n",
    "```\n",
    "SOURCE_DIR debe ser el path a su proyecto, yo lo tengo en `../proyectox/`\n",
    "- Entrart a source/api y editar todo para que quede como corresponda.\n",
    "- Ejecutar `$ make html`. El build se crea en `build/html/index.html`\n",
    "\n",
    "- Finalmente crear un ``docs/requirements.txt`` propio para la documentación."
   ]
  },
  {
   "cell_type": "markdown",
   "metadata": {
    "slideshow": {
     "slide_type": "slide"
    }
   },
   "source": [
    "# Testeamos el build en Tox\n",
    "\n",
    "```ini\n",
    "[testenv:docs]\n",
    "description = \"Invoke sphinx-build to build the HTML docs\"\n",
    "whitelist_externals =\n",
    "    make\n",
    "usedevelop = True\n",
    "skip_install = False\n",
    "changedir = docs\n",
    "deps =\n",
    "    -r {toxinidir}/docs/requirements.txt\n",
    "commands =\n",
    "    sphinx-build -W -b html -d {envtmpdir}/doctrees . {envtmpdir}/html\n",
    "```"
   ]
  },
  {
   "cell_type": "markdown",
   "metadata": {
    "slideshow": {
     "slide_type": "slide"
    }
   },
   "source": [
    "## Referencias\n",
    "\n",
    "- Tutorial: https://samnicholls.net/2016/06/15/how-to-sphinx-readthedocs/\n",
    "\n",
    "- Slides: https://speakerd.s3.amazonaws.com/presentations/2a01201503494a46b449087a0069ac06/Introduction_to_Sphinx_and_Read_the_Docs.pdf"
   ]
  },
  {
   "cell_type": "code",
   "execution_count": null,
   "metadata": {},
   "outputs": [],
   "source": []
  }
 ],
 "metadata": {
  "celltoolbar": "Slideshow",
  "kernelspec": {
   "display_name": "Python 3",
   "language": "python",
   "name": "python3"
  },
  "language_info": {
   "codemirror_mode": {
    "name": "ipython",
    "version": 3
   },
   "file_extension": ".py",
   "mimetype": "text/x-python",
   "name": "python",
   "nbconvert_exporter": "python",
   "pygments_lexer": "ipython3",
   "version": "3.8.5"
  }
 },
 "nbformat": 4,
 "nbformat_minor": 2
}
